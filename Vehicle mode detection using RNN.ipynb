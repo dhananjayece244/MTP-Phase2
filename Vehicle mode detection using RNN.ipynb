{
 "cells": [
  {
   "cell_type": "code",
   "execution_count": 6,
   "metadata": {},
   "outputs": [],
   "source": [
    "# All Includes\n",
    "\n",
    "import numpy as np\n",
    "import matplotlib\n",
    "import matplotlib.pyplot as plt\n",
    "import tensorflow as tf  # Version 1.0.0 (some previous versions are used in past commits)\n",
    "from sklearn import metrics\n",
    "from sklearn.utils import shuffle\n",
    "\n",
    "import pandas as pd\n",
    "import numpy as np\n",
    "import os\n",
    "import glob \n",
    "import pickle\n",
    "from math import *\n",
    "import matplotlib.pyplot as plt\n",
    "from scipy import stats\n",
    "import seaborn as sns\n",
    "from pylab import rcParams\n",
    "from sklearn import metrics\n",
    "from sklearn.model_selection import train_test_split\n",
    "from scipy.ndimage import gaussian_filter\n",
    "from scipy.fftpack import fft\n",
    "from dtw import dtw\n",
    "from numpy import array, zeros, argmin, inf, ndim\n",
    "from scipy.spatial.distance import cdist\n",
    "from sklearn.metrics.pairwise import manhattan_distances\n",
    "from sklearn import svm\n",
    "from sklearn.ensemble import RandomForestClassifier\n",
    "from sklearn.cross_validation import cross_val_score\n",
    "from sklearn.metrics import accuracy_score\n",
    "from matplotlib.patches import Patch\n",
    "from matplotlib.lines import Line2D\n",
    "                                                                                                                                                                                                                                                                                                                                                                                                                                                                                                                                                                                                                                                                                                                                                                                                                                                                                                                                                                                                                                                                                                                                                                                                                                                                                                                                                                                                                                                                                                                                                                                                                                                                                                                                                                                                                                                                                                                                                                                                                                                                                                                                                                                                                                                                                                                                                                                                                                                                                                                                                                                                                                                                                                                                                                                                                                                                                                                                                                                                                                                                                                                                                                                                                                                                                                                                                                                                                                                                                                                                                                                                                                                                                                                                                                                                                                                                                                                                                                                                                                                                                                                                                                                                                                                                                                                                                                                                                                                                                                                                                                                                                                                                                                                                                                                                                                                                                                                                                                                                                                                                                                                                                                                                                                                                                                                                                                                                                                                                                                                                                                                                                                                                                                                                                                                                                                                                                                                                                                                                                    "
   ]
  },
  {
   "cell_type": "code",
   "execution_count": 7,
   "metadata": {
    "collapsed": true
   },
   "outputs": [],
   "source": [
    "# Those are separate normalised input features for the neural network\n",
    "INPUT_SIGNAL_TYPES = [\n",
    "    \"acc_x_\",\n",
    "    \"acc_y_\",\n",
    "    \"acc_z_\",\n",
    "    \"gyro_x_\",\n",
    "    \"gyro_y_\",\n",
    "    \"gyro_z_\",\n",
    "    \"total_acc\",\n",
    "    \"total_gyro\"\n",
    "]\n",
    "\n",
    "# Output classes to learn how to classify\n",
    "LABELS = [\n",
    "    \"MOTOR_BIKE\", \n",
    "    \"CAR\",\n",
    "    \"WALKING\",\n",
    "    \"CYCLING\"\n",
    "]"
   ]
  },
  {
   "cell_type": "code",
   "execution_count": 8,
   "metadata": {
    "collapsed": true
   },
   "outputs": [],
   "source": [
    "def GaussianFilter(df, window_length):\n",
    "    df1 = df\n",
    "    \n",
    "    df1['AX'] = gaussian_filter(df['AX'], window_length)\n",
    "    df1['AY'] = gaussian_filter(df['AY'], window_length)\n",
    "    df1['AZ'] = gaussian_filter(df['AZ'], window_length)\n",
    "\n",
    "    df1['GX'] = gaussian_filter(df['GX'], window_length)\n",
    "    df1['GY'] = gaussian_filter(df['GY'], window_length)\n",
    "    df1['GZ'] = gaussian_filter(df['GZ'], window_length)\n",
    "\n",
    "    return df1"
   ]
  },
  {
   "cell_type": "code",
   "execution_count": 9,
   "metadata": {
    "collapsed": true
   },
   "outputs": [],
   "source": [
    "def Amplitude(df, input_features, out_feature):\n",
    "    df[out_feature] = (df[input_features[0]]**2 + df[input_features[1]]**2  + df[input_features[2]]**2)**(1/2)"
   ]
  },
  {
   "cell_type": "code",
   "execution_count": 10,
   "metadata": {
    "collapsed": true
   },
   "outputs": [],
   "source": [
    "def segmentation(df, N_TIME_STEPS):\n",
    "    \n",
    "    N_FEATURES = 1\n",
    "    step = 50\n",
    "    segments = []\n",
    "    labels = []\n",
    "    for i in range(0, len(df) - N_TIME_STEPS, step):\n",
    "        gx = df['GX'].values[i: i + N_TIME_STEPS]\n",
    "        gy = df['GY'].values[i: i + N_TIME_STEPS]\n",
    "        gz = df['GZ'].values[i: i + N_TIME_STEPS]\n",
    "#         mean_gx = gx.mean()\n",
    "#         mn_gx = [mean_gx]*N_TIME_STEPS\n",
    "#         mean_gy = gy.mean()\n",
    "#         mn_gy = [mean_gy]*N_TIME_STEPS\n",
    "#         mean_gz = gz.mean()\n",
    "#         mn_gz = [mean_gz]*N_TIME_STEPS\n",
    "        \n",
    "        ax = df['AX'].values[i: i + N_TIME_STEPS]\n",
    "        ay = df['AY'].values[i: i + N_TIME_STEPS]\n",
    "        az = df['AZ'].values[i: i + N_TIME_STEPS]\n",
    "        \n",
    "        mean_ax = ax.mean()\n",
    "        mn_ax = ax-mean_ax\n",
    "        mean_ay = ay.mean()\n",
    "        mn_ay = ay-mean_ay\n",
    "        mean_az = az.mean()\n",
    "        mn_az = az-mean_az\n",
    "        \n",
    "        ma = df['mAcc'].values[i: i + N_TIME_STEPS]\n",
    "        mz = df['mGyro'].values[i: i + N_TIME_STEPS]\n",
    "        \n",
    "        mean_a = ma.mean()\n",
    "        mn_a = ax-mean_a\n",
    "        \n",
    "        label = \"ST\"\n",
    "        segments.append([gx, gy, gz, ax, ay, az, ma, mz, mn_ax, mn_ay, mn_az, mn_a])\n",
    "#         labels = stats.mode(df['activity'][i: i + N_TIME_STEPS])[0][0]\n",
    "        labels.append(label)\n",
    "    return segments, labels"
   ]
  },
  {
   "cell_type": "code",
   "execution_count": 11,
   "metadata": {
    "collapsed": true
   },
   "outputs": [],
   "source": [
    "def data_preprocessing(df):\n",
    "    #mean feature of 3-axis accelerometer data\n",
    "    input_features = ['AX', 'AY', 'AZ']\n",
    "    output_feature = 'mAcc'\n",
    "    Amplitude(df, input_features, output_feature)\n",
    "    \n",
    "    #mean feature of 3-axis gyroscope data\n",
    "    input_features = ['GX', 'GY', 'GZ']\n",
    "    output_feature = 'mGyro'\n",
    "    Amplitude(df, input_features, output_feature)\n",
    "    \n",
    "    #apply gaussian filter with window size 10\n",
    "#     df = GaussianFilter(df, 10)\n",
    "    return df"
   ]
  },
  {
   "cell_type": "code",
   "execution_count": 12,
   "metadata": {
    "collapsed": true
   },
   "outputs": [],
   "source": [
    "#read csv file and return its data-frame\n",
    "def read_csv_file(acc, gyro, mode):\n",
    "    df_gyro = pd.read_csv(gyro, index_col=False)\n",
    "    df      = pd.read_csv(acc,  index_col=False)\n",
    "    df.rename(columns = {'X': 'AX', 'Y':'AY', 'Z':'AZ'}, inplace = True)\n",
    "    df['GX'] = df_gyro['X']\n",
    "    df['GY'] = df_gyro['Y']\n",
    "    df['GZ'] = df_gyro['Z']\n",
    "    \n",
    "    return df"
   ]
  },
  {
   "cell_type": "code",
   "execution_count": 13,
   "metadata": {
    "collapsed": true
   },
   "outputs": [],
   "source": [
    "def read_files(acc_file, gyro_file, activity):\n",
    "    df = read_csv_file(acc_file, gyro_file, activity)\n",
    "    df.reset_index(drop = True , inplace = True)\n",
    "    if('Milliseconds' in df.columns):\n",
    "        df = df.drop('Milliseconds', axis=1)\n",
    "    if('Timestamp' in df.columns):\n",
    "        df = df.drop('Timestamp', axis=1)\n",
    "    df = data_preprocessing(df)\n",
    "    df['activity'] = activity\n",
    "    \n",
    "    return df\n",
    "    "
   ]
  },
  {
   "cell_type": "code",
   "execution_count": 14,
   "metadata": {},
   "outputs": [
    {
     "name": "stderr",
     "output_type": "stream",
     "text": [
      "/home/vicky/anaconda3/lib/python3.6/site-packages/pandas/core/indexes/api.py:77: RuntimeWarning: '<' not supported between instances of 'int' and 'str', sort order is undefined for incomparable objects\n",
      "  result = result.union(other)\n"
     ]
    },
    {
     "name": "stdout",
     "output_type": "stream",
     "text": [
      "(53698, 10)\n"
     ]
    },
    {
     "data": {
      "text/html": [
       "<div>\n",
       "<style>\n",
       "    .dataframe thead tr:only-child th {\n",
       "        text-align: right;\n",
       "    }\n",
       "\n",
       "    .dataframe thead th {\n",
       "        text-align: left;\n",
       "    }\n",
       "\n",
       "    .dataframe tbody tr th {\n",
       "        vertical-align: top;\n",
       "    }\n",
       "</style>\n",
       "<table border=\"1\" class=\"dataframe\">\n",
       "  <thead>\n",
       "    <tr style=\"text-align: right;\">\n",
       "      <th></th>\n",
       "      <th>0</th>\n",
       "      <th>AX</th>\n",
       "      <th>AY</th>\n",
       "      <th>AZ</th>\n",
       "      <th>GX</th>\n",
       "      <th>GY</th>\n",
       "      <th>GZ</th>\n",
       "      <th>mAcc</th>\n",
       "      <th>mGyro</th>\n",
       "      <th>activity</th>\n",
       "    </tr>\n",
       "  </thead>\n",
       "  <tbody>\n",
       "    <tr>\n",
       "      <th>0</th>\n",
       "      <td>NaN</td>\n",
       "      <td>-0.260861</td>\n",
       "      <td>-0.929641</td>\n",
       "      <td>-1.122637</td>\n",
       "      <td>0.046631</td>\n",
       "      <td>-0.012665</td>\n",
       "      <td>0.003906</td>\n",
       "      <td>1.480741</td>\n",
       "      <td>0.048478</td>\n",
       "      <td>bike</td>\n",
       "    </tr>\n",
       "    <tr>\n",
       "      <th>1</th>\n",
       "      <td>NaN</td>\n",
       "      <td>-0.396821</td>\n",
       "      <td>0.262991</td>\n",
       "      <td>0.165334</td>\n",
       "      <td>-0.115295</td>\n",
       "      <td>-0.032913</td>\n",
       "      <td>-0.062134</td>\n",
       "      <td>0.503951</td>\n",
       "      <td>0.135044</td>\n",
       "      <td>bike</td>\n",
       "    </tr>\n",
       "    <tr>\n",
       "      <th>2</th>\n",
       "      <td>NaN</td>\n",
       "      <td>-0.182331</td>\n",
       "      <td>1.858507</td>\n",
       "      <td>2.746633</td>\n",
       "      <td>0.099899</td>\n",
       "      <td>-0.082977</td>\n",
       "      <td>0.035873</td>\n",
       "      <td>3.321339</td>\n",
       "      <td>0.134729</td>\n",
       "      <td>bike</td>\n",
       "    </tr>\n",
       "    <tr>\n",
       "      <th>3</th>\n",
       "      <td>NaN</td>\n",
       "      <td>0.821108</td>\n",
       "      <td>-0.655974</td>\n",
       "      <td>-2.591660</td>\n",
       "      <td>0.030655</td>\n",
       "      <td>-0.169266</td>\n",
       "      <td>0.033737</td>\n",
       "      <td>2.796644</td>\n",
       "      <td>0.175296</td>\n",
       "      <td>bike</td>\n",
       "    </tr>\n",
       "    <tr>\n",
       "      <th>4</th>\n",
       "      <td>NaN</td>\n",
       "      <td>0.315198</td>\n",
       "      <td>0.595248</td>\n",
       "      <td>-0.680723</td>\n",
       "      <td>-0.157898</td>\n",
       "      <td>-0.217209</td>\n",
       "      <td>-0.034439</td>\n",
       "      <td>0.957629</td>\n",
       "      <td>0.270735</td>\n",
       "      <td>bike</td>\n",
       "    </tr>\n",
       "  </tbody>\n",
       "</table>\n",
       "</div>"
      ],
      "text/plain": [
       "    0        AX        AY        AZ        GX        GY        GZ      mAcc  \\\n",
       "0 NaN -0.260861 -0.929641 -1.122637  0.046631 -0.012665  0.003906  1.480741   \n",
       "1 NaN -0.396821  0.262991  0.165334 -0.115295 -0.032913 -0.062134  0.503951   \n",
       "2 NaN -0.182331  1.858507  2.746633  0.099899 -0.082977  0.035873  3.321339   \n",
       "3 NaN  0.821108 -0.655974 -2.591660  0.030655 -0.169266  0.033737  2.796644   \n",
       "4 NaN  0.315198  0.595248 -0.680723 -0.157898 -0.217209 -0.034439  0.957629   \n",
       "\n",
       "      mGyro activity  \n",
       "0  0.048478     bike  \n",
       "1  0.135044     bike  \n",
       "2  0.134729     bike  \n",
       "3  0.175296     bike  \n",
       "4  0.270735     bike  "
      ]
     },
     "execution_count": 14,
     "metadata": {},
     "output_type": "execute_result"
    }
   ],
   "source": [
    "#data loading\n",
    "\n",
    "path_acc = os.getcwd() + '/data/Bike2308/*/*AccelerometerLinear.csv'  \n",
    "path_gyro= os.getcwd() + '/data/Bike2308/*/*Gyroscope.csv'\n",
    "acc_files = glob.glob(path_acc)\n",
    "gyro_files= glob.glob(path_gyro)\n",
    "\n",
    "bike_df = []\n",
    "bike_df = pd.Series(bike_df)\n",
    "for acc_file, gyro_file in zip(acc_files, gyro_files) :\n",
    "    df_this = read_files(acc_file, gyro_file, 'bike')\n",
    "    n = len(df_this)\n",
    "    df_this = df_this[1500 : n-500]\n",
    "    bike_df = pd.concat([bike_df, df_this])\n",
    "bike_df.reset_index(drop = True, inplace = True)\n",
    "print(bike_df.shape)\n",
    "bike_df.head()\n"
   ]
  },
  {
   "cell_type": "code",
   "execution_count": 15,
   "metadata": {},
   "outputs": [
    {
     "name": "stdout",
     "output_type": "stream",
     "text": [
      "(298078, 10)\n"
     ]
    },
    {
     "data": {
      "text/html": [
       "<div>\n",
       "<style>\n",
       "    .dataframe thead tr:only-child th {\n",
       "        text-align: right;\n",
       "    }\n",
       "\n",
       "    .dataframe thead th {\n",
       "        text-align: left;\n",
       "    }\n",
       "\n",
       "    .dataframe tbody tr th {\n",
       "        vertical-align: top;\n",
       "    }\n",
       "</style>\n",
       "<table border=\"1\" class=\"dataframe\">\n",
       "  <thead>\n",
       "    <tr style=\"text-align: right;\">\n",
       "      <th></th>\n",
       "      <th>0</th>\n",
       "      <th>AX</th>\n",
       "      <th>AY</th>\n",
       "      <th>AZ</th>\n",
       "      <th>GX</th>\n",
       "      <th>GY</th>\n",
       "      <th>GZ</th>\n",
       "      <th>mAcc</th>\n",
       "      <th>mGyro</th>\n",
       "      <th>activity</th>\n",
       "    </tr>\n",
       "  </thead>\n",
       "  <tbody>\n",
       "    <tr>\n",
       "      <th>0</th>\n",
       "      <td>NaN</td>\n",
       "      <td>-0.260861</td>\n",
       "      <td>-0.929641</td>\n",
       "      <td>-1.122637</td>\n",
       "      <td>0.046631</td>\n",
       "      <td>-0.012665</td>\n",
       "      <td>0.003906</td>\n",
       "      <td>1.480741</td>\n",
       "      <td>0.048478</td>\n",
       "      <td>bike</td>\n",
       "    </tr>\n",
       "    <tr>\n",
       "      <th>1</th>\n",
       "      <td>NaN</td>\n",
       "      <td>-0.396821</td>\n",
       "      <td>0.262991</td>\n",
       "      <td>0.165334</td>\n",
       "      <td>-0.115295</td>\n",
       "      <td>-0.032913</td>\n",
       "      <td>-0.062134</td>\n",
       "      <td>0.503951</td>\n",
       "      <td>0.135044</td>\n",
       "      <td>bike</td>\n",
       "    </tr>\n",
       "    <tr>\n",
       "      <th>2</th>\n",
       "      <td>NaN</td>\n",
       "      <td>-0.182331</td>\n",
       "      <td>1.858507</td>\n",
       "      <td>2.746633</td>\n",
       "      <td>0.099899</td>\n",
       "      <td>-0.082977</td>\n",
       "      <td>0.035873</td>\n",
       "      <td>3.321339</td>\n",
       "      <td>0.134729</td>\n",
       "      <td>bike</td>\n",
       "    </tr>\n",
       "    <tr>\n",
       "      <th>3</th>\n",
       "      <td>NaN</td>\n",
       "      <td>0.821108</td>\n",
       "      <td>-0.655974</td>\n",
       "      <td>-2.591660</td>\n",
       "      <td>0.030655</td>\n",
       "      <td>-0.169266</td>\n",
       "      <td>0.033737</td>\n",
       "      <td>2.796644</td>\n",
       "      <td>0.175296</td>\n",
       "      <td>bike</td>\n",
       "    </tr>\n",
       "    <tr>\n",
       "      <th>4</th>\n",
       "      <td>NaN</td>\n",
       "      <td>0.315198</td>\n",
       "      <td>0.595248</td>\n",
       "      <td>-0.680723</td>\n",
       "      <td>-0.157898</td>\n",
       "      <td>-0.217209</td>\n",
       "      <td>-0.034439</td>\n",
       "      <td>0.957629</td>\n",
       "      <td>0.270735</td>\n",
       "      <td>bike</td>\n",
       "    </tr>\n",
       "  </tbody>\n",
       "</table>\n",
       "</div>"
      ],
      "text/plain": [
       "    0        AX        AY        AZ        GX        GY        GZ      mAcc  \\\n",
       "0 NaN -0.260861 -0.929641 -1.122637  0.046631 -0.012665  0.003906  1.480741   \n",
       "1 NaN -0.396821  0.262991  0.165334 -0.115295 -0.032913 -0.062134  0.503951   \n",
       "2 NaN -0.182331  1.858507  2.746633  0.099899 -0.082977  0.035873  3.321339   \n",
       "3 NaN  0.821108 -0.655974 -2.591660  0.030655 -0.169266  0.033737  2.796644   \n",
       "4 NaN  0.315198  0.595248 -0.680723 -0.157898 -0.217209 -0.034439  0.957629   \n",
       "\n",
       "      mGyro activity  \n",
       "0  0.048478     bike  \n",
       "1  0.135044     bike  \n",
       "2  0.134729     bike  \n",
       "3  0.175296     bike  \n",
       "4  0.270735     bike  "
      ]
     },
     "execution_count": 15,
     "metadata": {},
     "output_type": "execute_result"
    }
   ],
   "source": [
    "#data loading\n",
    "\n",
    "path_acc = os.getcwd() + '/data/bike/*/*/*AccelerometerLinear.csv'  \n",
    "path_gyro= os.getcwd() + '/data/bike/*/*/*Gyroscope.csv'\n",
    "acc_files = glob.glob(path_acc)\n",
    "gyro_files= glob.glob(path_gyro)\n",
    "\n",
    "for acc_file, gyro_file in zip(acc_files, gyro_files) :\n",
    "    df_this = read_files(acc_file, gyro_file, 'bike')\n",
    "    n = len(df_this)\n",
    "    df_this = df_this[1500 : n-1500]\n",
    "    bike_df = pd.concat([bike_df, df_this])\n",
    "bike_df.reset_index(drop = True, inplace = True)\n",
    "bike_df.dropna()\n",
    "print(bike_df.shape)\n",
    "bike_df.head()\n"
   ]
  },
  {
   "cell_type": "code",
   "execution_count": 17,
   "metadata": {},
   "outputs": [
    {
     "name": "stderr",
     "output_type": "stream",
     "text": [
      "/home/vicky/anaconda3/lib/python3.6/site-packages/pandas/core/indexes/api.py:77: RuntimeWarning: '<' not supported between instances of 'int' and 'str', sort order is undefined for incomparable objects\n",
      "  result = result.union(other)\n"
     ]
    },
    {
     "name": "stdout",
     "output_type": "stream",
     "text": [
      "(242060, 10)\n"
     ]
    },
    {
     "data": {
      "text/html": [
       "<div>\n",
       "<style>\n",
       "    .dataframe thead tr:only-child th {\n",
       "        text-align: right;\n",
       "    }\n",
       "\n",
       "    .dataframe thead th {\n",
       "        text-align: left;\n",
       "    }\n",
       "\n",
       "    .dataframe tbody tr th {\n",
       "        vertical-align: top;\n",
       "    }\n",
       "</style>\n",
       "<table border=\"1\" class=\"dataframe\">\n",
       "  <thead>\n",
       "    <tr style=\"text-align: right;\">\n",
       "      <th></th>\n",
       "      <th>0</th>\n",
       "      <th>AX</th>\n",
       "      <th>AY</th>\n",
       "      <th>AZ</th>\n",
       "      <th>GX</th>\n",
       "      <th>GY</th>\n",
       "      <th>GZ</th>\n",
       "      <th>mAcc</th>\n",
       "      <th>mGyro</th>\n",
       "      <th>activity</th>\n",
       "    </tr>\n",
       "  </thead>\n",
       "  <tbody>\n",
       "    <tr>\n",
       "      <th>0</th>\n",
       "      <td>NaN</td>\n",
       "      <td>-2.047537</td>\n",
       "      <td>-7.781279</td>\n",
       "      <td>1.800119</td>\n",
       "      <td>-1.052902</td>\n",
       "      <td>0.137527</td>\n",
       "      <td>-2.821472</td>\n",
       "      <td>8.245067</td>\n",
       "      <td>3.014668</td>\n",
       "      <td>walk</td>\n",
       "    </tr>\n",
       "    <tr>\n",
       "      <th>1</th>\n",
       "      <td>NaN</td>\n",
       "      <td>-2.537541</td>\n",
       "      <td>-7.806896</td>\n",
       "      <td>1.877412</td>\n",
       "      <td>-1.017746</td>\n",
       "      <td>0.151382</td>\n",
       "      <td>-2.566864</td>\n",
       "      <td>8.420892</td>\n",
       "      <td>2.765414</td>\n",
       "      <td>walk</td>\n",
       "    </tr>\n",
       "    <tr>\n",
       "      <th>2</th>\n",
       "      <td>NaN</td>\n",
       "      <td>-3.117633</td>\n",
       "      <td>-7.800165</td>\n",
       "      <td>1.935600</td>\n",
       "      <td>-0.939987</td>\n",
       "      <td>0.220627</td>\n",
       "      <td>-2.281372</td>\n",
       "      <td>8.620252</td>\n",
       "      <td>2.477279</td>\n",
       "      <td>walk</td>\n",
       "    </tr>\n",
       "    <tr>\n",
       "      <th>3</th>\n",
       "      <td>NaN</td>\n",
       "      <td>-3.561706</td>\n",
       "      <td>-7.918385</td>\n",
       "      <td>1.760434</td>\n",
       "      <td>-0.863297</td>\n",
       "      <td>0.288803</td>\n",
       "      <td>-1.938354</td>\n",
       "      <td>8.859215</td>\n",
       "      <td>2.141473</td>\n",
       "      <td>walk</td>\n",
       "    </tr>\n",
       "    <tr>\n",
       "      <th>4</th>\n",
       "      <td>NaN</td>\n",
       "      <td>-3.852416</td>\n",
       "      <td>-8.154379</td>\n",
       "      <td>1.615357</td>\n",
       "      <td>-0.822815</td>\n",
       "      <td>0.330353</td>\n",
       "      <td>-1.547409</td>\n",
       "      <td>9.162117</td>\n",
       "      <td>1.783433</td>\n",
       "      <td>walk</td>\n",
       "    </tr>\n",
       "  </tbody>\n",
       "</table>\n",
       "</div>"
      ],
      "text/plain": [
       "    0        AX        AY        AZ        GX        GY        GZ      mAcc  \\\n",
       "0 NaN -2.047537 -7.781279  1.800119 -1.052902  0.137527 -2.821472  8.245067   \n",
       "1 NaN -2.537541 -7.806896  1.877412 -1.017746  0.151382 -2.566864  8.420892   \n",
       "2 NaN -3.117633 -7.800165  1.935600 -0.939987  0.220627 -2.281372  8.620252   \n",
       "3 NaN -3.561706 -7.918385  1.760434 -0.863297  0.288803 -1.938354  8.859215   \n",
       "4 NaN -3.852416 -8.154379  1.615357 -0.822815  0.330353 -1.547409  9.162117   \n",
       "\n",
       "      mGyro activity  \n",
       "0  3.014668     walk  \n",
       "1  2.765414     walk  \n",
       "2  2.477279     walk  \n",
       "3  2.141473     walk  \n",
       "4  1.783433     walk  "
      ]
     },
     "execution_count": 17,
     "metadata": {},
     "output_type": "execute_result"
    }
   ],
   "source": [
    "#data loading\n",
    "\n",
    "path_acc = os.getcwd() + '/data/walk/*/*AccelerometerLinear.csv'  \n",
    "path_gyro= os.getcwd() + '/data/walk/*/*Gyroscope.csv'\n",
    "acc_files = glob.glob(path_acc)\n",
    "gyro_files= glob.glob(path_gyro)\n",
    "\n",
    "walk_df = []\n",
    "walk_df = pd.Series(walk_df)\n",
    "for acc_file, gyro_file in zip(acc_files, gyro_files) :\n",
    "    df_this = read_files(acc_file, gyro_file, 'walk')\n",
    "    n = len(df_this)\n",
    "    df_this = df_this[1500 : n-500]\n",
    "    walk_df = pd.concat([walk_df, df_this])\n",
    "walk_df.reset_index(drop = True, inplace = True)\n",
    "print(walk_df.shape)\n",
    "walk_df.head()\n"
   ]
  },
  {
   "cell_type": "code",
   "execution_count": 18,
   "metadata": {},
   "outputs": [
    {
     "name": "stdout",
     "output_type": "stream",
     "text": [
      "(160277, 9)\n"
     ]
    },
    {
     "data": {
      "text/html": [
       "<div>\n",
       "<style>\n",
       "    .dataframe thead tr:only-child th {\n",
       "        text-align: right;\n",
       "    }\n",
       "\n",
       "    .dataframe thead th {\n",
       "        text-align: left;\n",
       "    }\n",
       "\n",
       "    .dataframe tbody tr th {\n",
       "        vertical-align: top;\n",
       "    }\n",
       "</style>\n",
       "<table border=\"1\" class=\"dataframe\">\n",
       "  <thead>\n",
       "    <tr style=\"text-align: right;\">\n",
       "      <th></th>\n",
       "      <th>AX</th>\n",
       "      <th>AY</th>\n",
       "      <th>AZ</th>\n",
       "      <th>GX</th>\n",
       "      <th>GY</th>\n",
       "      <th>GZ</th>\n",
       "      <th>mAcc</th>\n",
       "      <th>mGyro</th>\n",
       "      <th>activity</th>\n",
       "    </tr>\n",
       "  </thead>\n",
       "  <tbody>\n",
       "    <tr>\n",
       "      <th>0</th>\n",
       "      <td>0.216673</td>\n",
       "      <td>-2.220218</td>\n",
       "      <td>5.458470</td>\n",
       "      <td>-0.545776</td>\n",
       "      <td>0.001419</td>\n",
       "      <td>0.738510</td>\n",
       "      <td>5.896712</td>\n",
       "      <td>0.918298</td>\n",
       "      <td>car</td>\n",
       "    </tr>\n",
       "    <tr>\n",
       "      <th>1</th>\n",
       "      <td>1.244931</td>\n",
       "      <td>-2.468510</td>\n",
       "      <td>6.312817</td>\n",
       "      <td>-0.031250</td>\n",
       "      <td>-0.395920</td>\n",
       "      <td>0.797104</td>\n",
       "      <td>6.891665</td>\n",
       "      <td>0.890564</td>\n",
       "      <td>car</td>\n",
       "    </tr>\n",
       "    <tr>\n",
       "      <th>2</th>\n",
       "      <td>3.075368</td>\n",
       "      <td>-2.942336</td>\n",
       "      <td>3.492404</td>\n",
       "      <td>0.376740</td>\n",
       "      <td>-0.740005</td>\n",
       "      <td>0.569138</td>\n",
       "      <td>5.505644</td>\n",
       "      <td>1.006707</td>\n",
       "      <td>car</td>\n",
       "    </tr>\n",
       "    <tr>\n",
       "      <th>3</th>\n",
       "      <td>3.620392</td>\n",
       "      <td>-2.080567</td>\n",
       "      <td>-0.612449</td>\n",
       "      <td>0.696320</td>\n",
       "      <td>-1.113907</td>\n",
       "      <td>-0.034866</td>\n",
       "      <td>4.220319</td>\n",
       "      <td>1.314102</td>\n",
       "      <td>car</td>\n",
       "    </tr>\n",
       "    <tr>\n",
       "      <th>4</th>\n",
       "      <td>2.720276</td>\n",
       "      <td>-0.325161</td>\n",
       "      <td>-4.133167</td>\n",
       "      <td>0.662231</td>\n",
       "      <td>-1.023361</td>\n",
       "      <td>-0.287338</td>\n",
       "      <td>4.958700</td>\n",
       "      <td>1.252351</td>\n",
       "      <td>car</td>\n",
       "    </tr>\n",
       "  </tbody>\n",
       "</table>\n",
       "</div>"
      ],
      "text/plain": [
       "         AX        AY        AZ        GX        GY        GZ      mAcc  \\\n",
       "0  0.216673 -2.220218  5.458470 -0.545776  0.001419  0.738510  5.896712   \n",
       "1  1.244931 -2.468510  6.312817 -0.031250 -0.395920  0.797104  6.891665   \n",
       "2  3.075368 -2.942336  3.492404  0.376740 -0.740005  0.569138  5.505644   \n",
       "3  3.620392 -2.080567 -0.612449  0.696320 -1.113907 -0.034866  4.220319   \n",
       "4  2.720276 -0.325161 -4.133167  0.662231 -1.023361 -0.287338  4.958700   \n",
       "\n",
       "      mGyro activity  \n",
       "0  0.918298      car  \n",
       "1  0.890564      car  \n",
       "2  1.006707      car  \n",
       "3  1.314102      car  \n",
       "4  1.252351      car  "
      ]
     },
     "execution_count": 18,
     "metadata": {},
     "output_type": "execute_result"
    }
   ],
   "source": [
    "path_acc = os.getcwd() + '/data/Car1109out/*/*AccelerometerLinear.csv'  \n",
    "path_gyro= os.getcwd() + '/data/Car1109out/*/*Gyroscope.csv' \n",
    "acc_files = glob.glob(path_acc)\n",
    "gyro_files= glob.glob(path_gyro)\n",
    "car_df= read_files(acc_files[0], gyro_files[0], 'car')\n",
    "n = len(car_df)\n",
    "car_df = car_df[350:n-500]\n",
    "for acc_file, gyro_file in zip(acc_files, gyro_files) :\n",
    "    df_this = read_files(acc_file, gyro_file, 'car')\n",
    "    n = len(df_this)\n",
    "    df_this = df_this[350 : n-1000]\n",
    "    car_df = pd.concat([car_df, df_this])\n",
    "car_df.reset_index(drop = True, inplace = True)\n",
    "car_df.dropna()\n",
    "print(car_df.shape)\n",
    "car_df.head()"
   ]
  },
  {
   "cell_type": "code",
   "execution_count": 19,
   "metadata": {},
   "outputs": [
    {
     "name": "stdout",
     "output_type": "stream",
     "text": [
      "(302817, 9)\n"
     ]
    },
    {
     "data": {
      "text/html": [
       "<div>\n",
       "<style>\n",
       "    .dataframe thead tr:only-child th {\n",
       "        text-align: right;\n",
       "    }\n",
       "\n",
       "    .dataframe thead th {\n",
       "        text-align: left;\n",
       "    }\n",
       "\n",
       "    .dataframe tbody tr th {\n",
       "        vertical-align: top;\n",
       "    }\n",
       "</style>\n",
       "<table border=\"1\" class=\"dataframe\">\n",
       "  <thead>\n",
       "    <tr style=\"text-align: right;\">\n",
       "      <th></th>\n",
       "      <th>AX</th>\n",
       "      <th>AY</th>\n",
       "      <th>AZ</th>\n",
       "      <th>GX</th>\n",
       "      <th>GY</th>\n",
       "      <th>GZ</th>\n",
       "      <th>mAcc</th>\n",
       "      <th>mGyro</th>\n",
       "      <th>activity</th>\n",
       "    </tr>\n",
       "  </thead>\n",
       "  <tbody>\n",
       "    <tr>\n",
       "      <th>0</th>\n",
       "      <td>0.216673</td>\n",
       "      <td>-2.220218</td>\n",
       "      <td>5.458470</td>\n",
       "      <td>-0.545776</td>\n",
       "      <td>0.001419</td>\n",
       "      <td>0.738510</td>\n",
       "      <td>5.896712</td>\n",
       "      <td>0.918298</td>\n",
       "      <td>car</td>\n",
       "    </tr>\n",
       "    <tr>\n",
       "      <th>1</th>\n",
       "      <td>1.244931</td>\n",
       "      <td>-2.468510</td>\n",
       "      <td>6.312817</td>\n",
       "      <td>-0.031250</td>\n",
       "      <td>-0.395920</td>\n",
       "      <td>0.797104</td>\n",
       "      <td>6.891665</td>\n",
       "      <td>0.890564</td>\n",
       "      <td>car</td>\n",
       "    </tr>\n",
       "    <tr>\n",
       "      <th>2</th>\n",
       "      <td>3.075368</td>\n",
       "      <td>-2.942336</td>\n",
       "      <td>3.492404</td>\n",
       "      <td>0.376740</td>\n",
       "      <td>-0.740005</td>\n",
       "      <td>0.569138</td>\n",
       "      <td>5.505644</td>\n",
       "      <td>1.006707</td>\n",
       "      <td>car</td>\n",
       "    </tr>\n",
       "    <tr>\n",
       "      <th>3</th>\n",
       "      <td>3.620392</td>\n",
       "      <td>-2.080567</td>\n",
       "      <td>-0.612449</td>\n",
       "      <td>0.696320</td>\n",
       "      <td>-1.113907</td>\n",
       "      <td>-0.034866</td>\n",
       "      <td>4.220319</td>\n",
       "      <td>1.314102</td>\n",
       "      <td>car</td>\n",
       "    </tr>\n",
       "    <tr>\n",
       "      <th>4</th>\n",
       "      <td>2.720276</td>\n",
       "      <td>-0.325161</td>\n",
       "      <td>-4.133167</td>\n",
       "      <td>0.662231</td>\n",
       "      <td>-1.023361</td>\n",
       "      <td>-0.287338</td>\n",
       "      <td>4.958700</td>\n",
       "      <td>1.252351</td>\n",
       "      <td>car</td>\n",
       "    </tr>\n",
       "  </tbody>\n",
       "</table>\n",
       "</div>"
      ],
      "text/plain": [
       "         AX        AY        AZ        GX        GY        GZ      mAcc  \\\n",
       "0  0.216673 -2.220218  5.458470 -0.545776  0.001419  0.738510  5.896712   \n",
       "1  1.244931 -2.468510  6.312817 -0.031250 -0.395920  0.797104  6.891665   \n",
       "2  3.075368 -2.942336  3.492404  0.376740 -0.740005  0.569138  5.505644   \n",
       "3  3.620392 -2.080567 -0.612449  0.696320 -1.113907 -0.034866  4.220319   \n",
       "4  2.720276 -0.325161 -4.133167  0.662231 -1.023361 -0.287338  4.958700   \n",
       "\n",
       "      mGyro activity  \n",
       "0  0.918298      car  \n",
       "1  0.890564      car  \n",
       "2  1.006707      car  \n",
       "3  1.314102      car  \n",
       "4  1.252351      car  "
      ]
     },
     "execution_count": 19,
     "metadata": {},
     "output_type": "execute_result"
    }
   ],
   "source": [
    "path_acc = os.getcwd() + '/data/Car28march/*/*AccelerometerLinear.csv'  \n",
    "path_gyro= os.getcwd() + '/data/Car28march/*/*Gyroscope.csv' \n",
    "acc_files = glob.glob(path_acc)\n",
    "gyro_files= glob.glob(path_gyro)\n",
    "# car_df= read_files(acc_files[0], gyro_files[0], 'car')\n",
    "# n = len(car_df)\n",
    "# car_df = car_df[350:n-500]\n",
    "for acc_file, gyro_file in zip(acc_files, gyro_files) :\n",
    "    df_this = read_files(acc_file, gyro_file, 'car')\n",
    "    n = len(df_this)\n",
    "    df_this = df_this[350 : n-1500]\n",
    "    car_df = pd.concat([car_df, df_this])\n",
    "car_df.reset_index(drop = True, inplace = True)\n",
    "print(car_df.shape)\n",
    "car_df.head()"
   ]
  },
  {
   "cell_type": "code",
   "execution_count": 20,
   "metadata": {},
   "outputs": [
    {
     "name": "stdout",
     "output_type": "stream",
     "text": [
      "(259931, 9)\n"
     ]
    },
    {
     "data": {
      "text/html": [
       "<div>\n",
       "<style>\n",
       "    .dataframe thead tr:only-child th {\n",
       "        text-align: right;\n",
       "    }\n",
       "\n",
       "    .dataframe thead th {\n",
       "        text-align: left;\n",
       "    }\n",
       "\n",
       "    .dataframe tbody tr th {\n",
       "        vertical-align: top;\n",
       "    }\n",
       "</style>\n",
       "<table border=\"1\" class=\"dataframe\">\n",
       "  <thead>\n",
       "    <tr style=\"text-align: right;\">\n",
       "      <th></th>\n",
       "      <th>AX</th>\n",
       "      <th>AY</th>\n",
       "      <th>AZ</th>\n",
       "      <th>GX</th>\n",
       "      <th>GY</th>\n",
       "      <th>GZ</th>\n",
       "      <th>mAcc</th>\n",
       "      <th>mGyro</th>\n",
       "      <th>activity</th>\n",
       "    </tr>\n",
       "  </thead>\n",
       "  <tbody>\n",
       "    <tr>\n",
       "      <th>0</th>\n",
       "      <td>-0.985525</td>\n",
       "      <td>-0.036862</td>\n",
       "      <td>1.284003</td>\n",
       "      <td>0.155899</td>\n",
       "      <td>-0.286224</td>\n",
       "      <td>-0.467819</td>\n",
       "      <td>1.619037</td>\n",
       "      <td>0.570161</td>\n",
       "      <td>cycle</td>\n",
       "    </tr>\n",
       "    <tr>\n",
       "      <th>1</th>\n",
       "      <td>1.824851</td>\n",
       "      <td>-1.193510</td>\n",
       "      <td>1.208663</td>\n",
       "      <td>0.170822</td>\n",
       "      <td>-0.178635</td>\n",
       "      <td>-0.394318</td>\n",
       "      <td>2.493073</td>\n",
       "      <td>0.465378</td>\n",
       "      <td>cycle</td>\n",
       "    </tr>\n",
       "    <tr>\n",
       "      <th>2</th>\n",
       "      <td>3.455138</td>\n",
       "      <td>-1.936862</td>\n",
       "      <td>0.884946</td>\n",
       "      <td>0.238998</td>\n",
       "      <td>-0.276642</td>\n",
       "      <td>-0.456100</td>\n",
       "      <td>4.058638</td>\n",
       "      <td>0.584533</td>\n",
       "      <td>cycle</td>\n",
       "    </tr>\n",
       "    <tr>\n",
       "      <th>3</th>\n",
       "      <td>2.116870</td>\n",
       "      <td>-1.228464</td>\n",
       "      <td>0.737354</td>\n",
       "      <td>0.405182</td>\n",
       "      <td>-0.437500</td>\n",
       "      <td>-0.408173</td>\n",
       "      <td>2.556160</td>\n",
       "      <td>0.722623</td>\n",
       "      <td>cycle</td>\n",
       "    </tr>\n",
       "    <tr>\n",
       "      <th>4</th>\n",
       "      <td>0.545213</td>\n",
       "      <td>0.049081</td>\n",
       "      <td>0.766393</td>\n",
       "      <td>0.473358</td>\n",
       "      <td>-0.333099</td>\n",
       "      <td>-0.387924</td>\n",
       "      <td>0.941820</td>\n",
       "      <td>0.696784</td>\n",
       "      <td>cycle</td>\n",
       "    </tr>\n",
       "  </tbody>\n",
       "</table>\n",
       "</div>"
      ],
      "text/plain": [
       "         AX        AY        AZ        GX        GY        GZ      mAcc  \\\n",
       "0 -0.985525 -0.036862  1.284003  0.155899 -0.286224 -0.467819  1.619037   \n",
       "1  1.824851 -1.193510  1.208663  0.170822 -0.178635 -0.394318  2.493073   \n",
       "2  3.455138 -1.936862  0.884946  0.238998 -0.276642 -0.456100  4.058638   \n",
       "3  2.116870 -1.228464  0.737354  0.405182 -0.437500 -0.408173  2.556160   \n",
       "4  0.545213  0.049081  0.766393  0.473358 -0.333099 -0.387924  0.941820   \n",
       "\n",
       "      mGyro activity  \n",
       "0  0.570161    cycle  \n",
       "1  0.465378    cycle  \n",
       "2  0.584533    cycle  \n",
       "3  0.722623    cycle  \n",
       "4  0.696784    cycle  "
      ]
     },
     "execution_count": 20,
     "metadata": {},
     "output_type": "execute_result"
    }
   ],
   "source": [
    "path_acc = os.getcwd() + '/data/Cycling/*/*AccelerometerLinear.csv'  \n",
    "path_gyro= os.getcwd() + '/data/Cycling/*/*Gyroscope.csv' \n",
    "acc_files = glob.glob(path_acc)\n",
    "gyro_files= glob.glob(path_gyro)\n",
    "cycle_df= read_files(acc_files[0], gyro_files[0], 'cycle')\n",
    "n = len(cycle_df)\n",
    "cycle_df = cycle_df[1350:n-1500]\n",
    "for acc_file, gyro_file in zip(acc_files, gyro_files) :\n",
    "    df_this = read_files(acc_file, gyro_file, 'car')\n",
    "    n = len(df_this)\n",
    "    df_this = df_this[1350 : n-1500]\n",
    "    cycle_df = pd.concat([cycle_df, df_this])\n",
    "cycle_df.reset_index(drop = True, inplace = True)\n",
    "cycle_df.dropna()\n",
    "print(cycle_df.shape)\n",
    "cycle_df.head()"
   ]
  },
  {
   "cell_type": "code",
   "execution_count": 21,
   "metadata": {
    "collapsed": true
   },
   "outputs": [],
   "source": [
    "segment_size = 300"
   ]
  },
  {
   "cell_type": "code",
   "execution_count": 22,
   "metadata": {},
   "outputs": [
    {
     "data": {
      "text/plain": [
       "(4836, 300, 12)"
      ]
     },
     "execution_count": 22,
     "metadata": {},
     "output_type": "execute_result"
    }
   ],
   "source": [
    "#data segmentation\n",
    "walk_segments, walk_labels = segmentation(walk_df, segment_size)\n",
    "walk_segments = np.transpose(walk_segments, (0, 2, 1))\n",
    "np.array(walk_segments).shape"
   ]
  },
  {
   "cell_type": "code",
   "execution_count": 23,
   "metadata": {},
   "outputs": [
    {
     "data": {
      "text/plain": [
       "array([ -1.0529022 ,   0.13752747,  -2.8214722 ,  -2.0475368 ,\n",
       "        -7.7812786 ,   1.8001194 ,   8.24506722,   3.01466785,\n",
       "        -4.41687426,  -5.17092761,   0.95178732, -10.05760387])"
      ]
     },
     "execution_count": 23,
     "metadata": {},
     "output_type": "execute_result"
    }
   ],
   "source": [
    "walk_segments[0][0]"
   ]
  },
  {
   "cell_type": "code",
   "execution_count": 24,
   "metadata": {},
   "outputs": [
    {
     "data": {
      "text/plain": [
       "(5956, 300, 12)"
      ]
     },
     "execution_count": 24,
     "metadata": {},
     "output_type": "execute_result"
    }
   ],
   "source": [
    "#data segmentation\n",
    "bike_segments, bike_labels = segmentation(bike_df, segment_size)\n",
    "bike_segments = np.transpose(bike_segments, (0, 2, 1))\n",
    "np.array(bike_segments).shape"
   ]
  },
  {
   "cell_type": "code",
   "execution_count": 25,
   "metadata": {},
   "outputs": [
    {
     "data": {
      "text/plain": [
       "(6051, 300, 12)"
      ]
     },
     "execution_count": 25,
     "metadata": {},
     "output_type": "execute_result"
    }
   ],
   "source": [
    "#data segmentation\n",
    "car_segments, car_labels = segmentation(car_df, segment_size)\n",
    "car_segments = np.transpose(car_segments, (0, 2, 1))\n",
    "np.array(car_segments).shape"
   ]
  },
  {
   "cell_type": "code",
   "execution_count": 26,
   "metadata": {},
   "outputs": [
    {
     "data": {
      "text/plain": [
       "(5193, 300, 12)"
      ]
     },
     "execution_count": 26,
     "metadata": {},
     "output_type": "execute_result"
    }
   ],
   "source": [
    "#data segmentation\n",
    "cycle_segments, cycle_labels = segmentation(cycle_df, segment_size)\n",
    "cycle_segments = np.transpose(cycle_segments, (0, 2, 1))\n",
    "np.array(cycle_segments).shape"
   ]
  },
  {
   "cell_type": "code",
   "execution_count": 27,
   "metadata": {
    "collapsed": true
   },
   "outputs": [],
   "source": [
    "train = np.concatenate((bike_segments, car_segments, walk_segments, cycle_segments), axis=0)"
   ]
  },
  {
   "cell_type": "code",
   "execution_count": 28,
   "metadata": {},
   "outputs": [
    {
     "data": {
      "text/plain": [
       "(22036, 300, 12)"
      ]
     },
     "execution_count": 28,
     "metadata": {},
     "output_type": "execute_result"
    }
   ],
   "source": [
    "np.array(train).shape"
   ]
  },
  {
   "cell_type": "code",
   "execution_count": 29,
   "metadata": {},
   "outputs": [
    {
     "data": {
      "text/plain": [
       "(22036, 1)"
      ]
     },
     "execution_count": 29,
     "metadata": {},
     "output_type": "execute_result"
    }
   ],
   "source": [
    "label1 = [0]*len(bike_segments)\n",
    "label2 = [1]*len(car_segments)\n",
    "label3 = [2]*len(walk_segments)\n",
    "label4 = [3]*len(cycle_segments)\n",
    "label = label1 + label2 + label3 + label4\n",
    "np.array(label).shape\n",
    "label = np.array(label).reshape(len(label), 1) \n",
    "label.shape"
   ]
  },
  {
   "cell_type": "code",
   "execution_count": 30,
   "metadata": {
    "collapsed": true
   },
   "outputs": [],
   "source": [
    "RANDOM_SEED = 42\n",
    "X_train, X_test, y_train, y_test = train_test_split(train, label, test_size=0.2, random_state=RANDOM_SEED)"
   ]
  },
  {
   "cell_type": "code",
   "execution_count": 31,
   "metadata": {
    "collapsed": true
   },
   "outputs": [],
   "source": [
    "# X_train = shuffle(X_train)"
   ]
  },
  {
   "cell_type": "code",
   "execution_count": 32,
   "metadata": {},
   "outputs": [
    {
     "data": {
      "text/plain": [
       "(17628, 300, 12)"
      ]
     },
     "execution_count": 32,
     "metadata": {},
     "output_type": "execute_result"
    }
   ],
   "source": [
    "np.array(X_train).shape\n"
   ]
  },
  {
   "cell_type": "code",
   "execution_count": 33,
   "metadata": {},
   "outputs": [
    {
     "name": "stdout",
     "output_type": "stream",
     "text": [
      "Some useful info to get an insight on dataset's shape and normalisation:\n",
      "(X shape, y shape, every X's mean, every X's standard deviation)\n",
      "(4408, 300, 12) (4408, 1) 0.0403212984406 2.44704353151\n",
      "The dataset is therefore properly normalised, as expected, but not yet one-hot encoded.\n"
     ]
    }
   ],
   "source": [
    "# Input Data \n",
    "\n",
    "training_data_count = len(X_train)  # training series (with 50% overlap between each serie)\n",
    "test_data_count = len(X_test)  #  testing series\n",
    "n_steps = len(X_train[0])  # 400 timesteps per series\n",
    "n_input = len(X_train[0][0])  # 8 input pa.90618rameters per timestep\n",
    "\n",
    "\n",
    "# LSTM Neural Network's internal structure\n",
    "\n",
    "n_hidden = 32 # Hidden layer num of features\n",
    "n_classes = 4 # Total classes (should go up, or should go down)\n",
    "\n",
    "\n",
    "# Training \n",
    "\n",
    "learning_rate = 0.01\n",
    "lambda_loss_amount = 0.0015\n",
    "training_iters = training_data_count * 100  # Loop 300 times on the dataset\n",
    "batch_size = 1500\n",
    "display_iter = 30000  # To show test set accuracy during training\n",
    "\n",
    "tf.reset_default_graph()\n",
    "# Some debugging info\n",
    "\n",
    "print(\"Some useful info to get an insight on dataset's shape and normalisation:\")\n",
    "print(\"(X shape, y shape, every X's mean, every X's standard deviation)\")\n",
    "print(np.array(X_test).shape, np.array(y_test).shape, np.mean(X_test), np.std(X_test))\n",
    "print(\"The dataset is therefore properly normalised, as expected, but not yet one-hot encoded.\")"
   ]
  },
  {
   "cell_type": "code",
   "execution_count": 34,
   "metadata": {
    "collapsed": true
   },
   "outputs": [],
   "source": [
    "def LSTM_RNN(_X, _weights, _biases):\n",
    "    _X = tf.transpose(_X, [1, 0, 2])  # permute n_steps and batch_size\n",
    "    # Reshape to prepare input to hidden activation\n",
    "    _X = tf.reshape(_X, [-1, n_input]) \n",
    "    # new shape: (n_steps*batch_size, n_input)\n",
    "    \n",
    "    # ReLU activation, thanks to Yu Zhao for adding this improvement here:\n",
    "    _X = tf.nn.relu(tf.matmul(_X, _weights['hidden']) + _biases['hidden'])\n",
    "    # Split data because rnn cell needs a list of inputs for the RNN inner loop\n",
    "    _X = tf.split(_X, n_steps, 0) \n",
    "    # new shape: n_steps * (batch_size, n_hidden)\n",
    "\n",
    "    # Define two stacked LSTM cells (two recurrent layers deep) with tensorflow\n",
    "    lstm_cell_1 = tf.contrib.rnn.BasicLSTMCell(n_hidden, forget_bias=1.0, state_is_tuple=True)\n",
    "    lstm_cell_2 = tf.contrib.rnn.BasicLSTMCell(n_hidden, forget_bias=1.0, state_is_tuple=True)\n",
    "    lstm_cells = tf.contrib.rnn.MultiRNNCell([lstm_cell_1, lstm_cell_2], state_is_tuple=True)\n",
    "    # Get LSTM cell output\n",
    "#     tf.reset_default_graph()\n",
    "    outputs, states = tf.contrib.rnn.static_rnn(lstm_cells, _X, dtype=tf.float32)\n",
    "    lstm_last_output = outputs[-1]\n",
    "    \n",
    "    # Linear activation\n",
    "#     y_= tf.matmul(lstm_last_output, _weights['out']) + _biases['out']\n",
    "    y_ = tf.nn.softmax(tf.matmul(lstm_last_output, _weights['out']) + _biases['out'], name=\"y_\")\n",
    "    return tf.matmul(lstm_last_output, _weights['out']) + _biases['out']\n",
    "\n",
    "def extract_batch_size(_train, step, batch_size): \n",
    "    \n",
    "    shape = list(_train.shape)\n",
    "    shape[0] = batch_size\n",
    "    batch_s = np.empty(shape)\n",
    "\n",
    "    for i in range(batch_size):\n",
    "        # Loop index\n",
    "        index = ((step-1)*batch_size + i) % len(_train)\n",
    "        batch_s[i] = _train[index] \n",
    "\n",
    "    return batch_s\n",
    "\n",
    "\n",
    "def one_hot(y_, n_classes=n_classes):\n",
    "    \n",
    "    y_ = y_.reshape(len(y_))\n",
    "    return np.eye(n_classes)[np.array(y_, dtype=np.int32)]  # Returns FLOATS"
   ]
  },
  {
   "cell_type": "code",
   "execution_count": 35,
   "metadata": {
    "scrolled": true
   },
   "outputs": [
    {
     "name": "stdout",
     "output_type": "stream",
     "text": [
      "WARNING:tensorflow:From <ipython-input-34-e642b0dfc672>:14: BasicLSTMCell.__init__ (from tensorflow.python.ops.rnn_cell_impl) is deprecated and will be removed in a future version.\n",
      "Instructions for updating:\n",
      "This class is deprecated, please use tf.nn.rnn_cell.LSTMCell, which supports all the feature this cell currently has. Please replace the existing code with tf.nn.rnn_cell.LSTMCell(name='basic_lstm_cell').\n",
      "WARNING:tensorflow:From <ipython-input-35-40d01f8fa6ae>:21: softmax_cross_entropy_with_logits (from tensorflow.python.ops.nn_ops) is deprecated and will be removed in a future version.\n",
      "Instructions for updating:\n",
      "\n",
      "Future major versions of TensorFlow will allow gradients to flow\n",
      "into the labels input on backprop by default.\n",
      "\n",
      "See `tf.nn.softmax_cross_entropy_with_logits_v2`.\n",
      "\n"
     ]
    }
   ],
   "source": [
    "# Graph input/output\n",
    "x = tf.placeholder(tf.float32, [None, n_steps, n_input])\n",
    "y = tf.placeholder(tf.float32, [None, n_classes])\n",
    "\n",
    "# Graph weights\n",
    "weights = {\n",
    "    'hidden': tf.Variable(tf.random_normal([n_input, n_hidden])), # Hidden layer weights\n",
    "    'out': tf.Variable(tf.random_normal([n_hidden, n_classes], mean=1.0))\n",
    "}\n",
    "biases = {\n",
    "    'hidden': tf.Variable(tf.random_normal([n_hidden])),\n",
    "    'out': tf.Variable(tf.random_normal([n_classes]))\n",
    "}\n",
    "\n",
    "pred = LSTM_RNN(x, weights, biases)\n",
    "\n",
    "# Loss, optimizer and evaluation\n",
    "l2 = lambda_loss_amount * sum(\n",
    "    tf.nn.l2_loss(tf_var) for tf_var in tf.trainable_variables()\n",
    ") # L2 loss prevents this overkill neural network to overfit the data\n",
    "cost = tf.reduce_mean(tf.nn.softmax_cross_entropy_with_logits(labels=y, logits=pred)) + l2 # Softmax loss\n",
    "optimizer = tf.train.AdamOptimizer(learning_rate=learning_rate).minimize(cost) # Adam Optimizer\n",
    "\n",
    "correct_pred = tf.equal(tf.argmax(pred,1), tf.argmax(y,1))\n",
    "accuracy = tf.reduce_mean(tf.cast(correct_pred, tf.float32))"
   ]
  },
  {
   "cell_type": "code",
   "execution_count": 36,
   "metadata": {
    "scrolled": true
   },
   "outputs": [
    {
     "name": "stdout",
     "output_type": "stream",
     "text": [
      "Training iter #1500:   Batch Loss = 2.469148, Accuracy = 0.21199999749660492\n",
      "PERFORMANCE ON TEST SET: Batch Loss = 2.7657666206359863, Accuracy = 0.4240018129348755\n",
      "Training iter #30000:   Batch Loss = 1.005511, Accuracy = 0.8666666746139526\n",
      "PERFORMANCE ON TEST SET: Batch Loss = 1.023200273513794, Accuracy = 0.8527677059173584\n",
      "Training iter #60000:   Batch Loss = 0.846788, Accuracy = 0.8953333497047424\n",
      "PERFORMANCE ON TEST SET: Batch Loss = 0.850641131401062, Accuracy = 0.8936025500297546\n",
      "Training iter #90000:   Batch Loss = 0.898961, Accuracy = 0.8653333187103271\n",
      "PERFORMANCE ON TEST SET: Batch Loss = 0.9081805944442749, Accuracy = 0.8602541089057922\n",
      "Training iter #120000:   Batch Loss = 0.705452, Accuracy = 0.9480000138282776\n",
      "PERFORMANCE ON TEST SET: Batch Loss = 0.7437196969985962, Accuracy = 0.9308076500892639\n",
      "Training iter #150000:   Batch Loss = 0.726747, Accuracy = 0.9246666431427002\n",
      "PERFORMANCE ON TEST SET: Batch Loss = 0.7405939102172852, Accuracy = 0.9156079888343811\n",
      "Training iter #180000:   Batch Loss = 0.723041, Accuracy = 0.8813333511352539\n",
      "PERFORMANCE ON TEST SET: Batch Loss = 0.6679328680038452, Accuracy = 0.9221869111061096\n",
      "Training iter #210000:   Batch Loss = 0.646782, Accuracy = 0.9266666769981384\n",
      "PERFORMANCE ON TEST SET: Batch Loss = 0.6391534209251404, Accuracy = 0.9296733140945435\n",
      "Training iter #240000:   Batch Loss = 0.581680, Accuracy = 0.9480000138282776\n",
      "PERFORMANCE ON TEST SET: Batch Loss = 0.5684026479721069, Accuracy = 0.9539473652839661\n",
      "Training iter #270000:   Batch Loss = 0.573672, Accuracy = 0.9413333535194397\n",
      "PERFORMANCE ON TEST SET: Batch Loss = 0.5320096015930176, Accuracy = 0.9541742205619812\n",
      "Training iter #300000:   Batch Loss = 0.488821, Accuracy = 0.9620000123977661\n",
      "PERFORMANCE ON TEST SET: Batch Loss = 0.51347416639328, Accuracy = 0.9516787528991699\n",
      "Training iter #330000:   Batch Loss = 0.460223, Accuracy = 0.9559999704360962\n",
      "PERFORMANCE ON TEST SET: Batch Loss = 0.4733967185020447, Accuracy = 0.9566696882247925\n",
      "Training iter #360000:   Batch Loss = 0.421702, Accuracy = 0.9706666469573975\n",
      "PERFORMANCE ON TEST SET: Batch Loss = 0.448483943939209, Accuracy = 0.9593920111656189\n",
      "Training iter #390000:   Batch Loss = 0.421994, Accuracy = 0.9599999785423279\n",
      "PERFORMANCE ON TEST SET: Batch Loss = 0.42511218786239624, Accuracy = 0.9612069129943848\n",
      "Training iter #420000:   Batch Loss = 0.429059, Accuracy = 0.9466666579246521\n",
      "PERFORMANCE ON TEST SET: Batch Loss = 0.40843915939331055, Accuracy = 0.9623411893844604\n",
      "Training iter #450000:   Batch Loss = 0.382517, Accuracy = 0.9660000205039978\n",
      "PERFORMANCE ON TEST SET: Batch Loss = 0.37801089882850647, Accuracy = 0.9641560912132263\n",
      "Training iter #480000:   Batch Loss = 0.358610, Accuracy = 0.9620000123977661\n",
      "PERFORMANCE ON TEST SET: Batch Loss = 0.3866756558418274, Accuracy = 0.9566696882247925\n",
      "Training iter #510000:   Batch Loss = 0.337396, Accuracy = 0.9633333086967468\n",
      "PERFORMANCE ON TEST SET: Batch Loss = 0.35326796770095825, Accuracy = 0.9598457217216492\n",
      "Training iter #540000:   Batch Loss = 0.302104, Accuracy = 0.9666666388511658\n",
      "PERFORMANCE ON TEST SET: Batch Loss = 0.309029757976532, Accuracy = 0.9711887240409851\n",
      "Training iter #570000:   Batch Loss = 0.288857, Accuracy = 0.9766666889190674\n",
      "PERFORMANCE ON TEST SET: Batch Loss = 0.29230502247810364, Accuracy = 0.9727767705917358\n",
      "Training iter #600000:   Batch Loss = 0.340830, Accuracy = 0.9639999866485596\n",
      "PERFORMANCE ON TEST SET: Batch Loss = 0.346304327249527, Accuracy = 0.9607532024383545\n",
      "Training iter #630000:   Batch Loss = 0.300988, Accuracy = 0.968666672706604\n",
      "PERFORMANCE ON TEST SET: Batch Loss = 0.3108314871788025, Accuracy = 0.9666515588760376\n",
      "Training iter #660000:   Batch Loss = 0.289081, Accuracy = 0.9726666808128357\n",
      "PERFORMANCE ON TEST SET: Batch Loss = 0.2914067208766937, Accuracy = 0.9677858352661133\n",
      "Training iter #690000:   Batch Loss = 0.261962, Accuracy = 0.9746666550636292\n",
      "PERFORMANCE ON TEST SET: Batch Loss = 0.26046139001846313, Accuracy = 0.9743648171424866\n",
      "Training iter #720000:   Batch Loss = 0.233766, Accuracy = 0.984000027179718\n",
      "PERFORMANCE ON TEST SET: Batch Loss = 0.2424514889717102, Accuracy = 0.9773139953613281\n",
      "Training iter #750000:   Batch Loss = 0.265583, Accuracy = 0.9639999866485596\n",
      "PERFORMANCE ON TEST SET: Batch Loss = 0.25557559728622437, Accuracy = 0.97096186876297\n",
      "Training iter #780000:   Batch Loss = 0.218153, Accuracy = 0.9793333411216736\n",
      "PERFORMANCE ON TEST SET: Batch Loss = 0.2287762463092804, Accuracy = 0.9777677059173584\n",
      "Training iter #810000:   Batch Loss = 0.204097, Accuracy = 0.9800000190734863\n",
      "PERFORMANCE ON TEST SET: Batch Loss = 0.21176102757453918, Accuracy = 0.978675127029419\n",
      "Training iter #840000:   Batch Loss = 0.200509, Accuracy = 0.981333315372467\n",
      "PERFORMANCE ON TEST SET: Batch Loss = 0.21696293354034424, Accuracy = 0.9775408506393433\n",
      "Training iter #870000:   Batch Loss = 0.195918, Accuracy = 0.9773333072662354\n",
      "PERFORMANCE ON TEST SET: Batch Loss = 0.21458515524864197, Accuracy = 0.975045382976532\n",
      "Training iter #900000:   Batch Loss = 0.170789, Accuracy = 0.9833333492279053\n",
      "PERFORMANCE ON TEST SET: Batch Loss = 0.20699894428253174, Accuracy = 0.9725499153137207\n",
      "Training iter #930000:   Batch Loss = 0.253658, Accuracy = 0.9660000205039978\n",
      "PERFORMANCE ON TEST SET: Batch Loss = 0.2318873405456543, Accuracy = 0.9718693494796753\n",
      "Training iter #960000:   Batch Loss = 0.191675, Accuracy = 0.9800000190734863\n",
      "PERFORMANCE ON TEST SET: Batch Loss = 0.20240475237369537, Accuracy = 0.9768602252006531\n",
      "Training iter #990000:   Batch Loss = 0.194436, Accuracy = 0.9779999852180481\n",
      "PERFORMANCE ON TEST SET: Batch Loss = 0.22294840216636658, Accuracy = 0.9711887240409851\n",
      "Training iter #1020000:   Batch Loss = 0.194971, Accuracy = 0.9786666631698608\n",
      "PERFORMANCE ON TEST SET: Batch Loss = 0.20601005852222443, Accuracy = 0.973003625869751\n",
      "Training iter #1050000:   Batch Loss = 0.171118, Accuracy = 0.9826666712760925\n",
      "PERFORMANCE ON TEST SET: Batch Loss = 0.17050155997276306, Accuracy = 0.9848003387451172\n",
      "Training iter #1080000:   Batch Loss = 0.190711, Accuracy = 0.9739999771118164\n",
      "PERFORMANCE ON TEST SET: Batch Loss = 0.17271307110786438, Accuracy = 0.9802631735801697\n",
      "Training iter #1110000:   Batch Loss = 0.145165, Accuracy = 0.9879999756813049\n",
      "PERFORMANCE ON TEST SET: Batch Loss = 0.1623099148273468, Accuracy = 0.982758641242981\n",
      "Training iter #1140000:   Batch Loss = 0.150241, Accuracy = 0.984666645526886\n",
      "PERFORMANCE ON TEST SET: Batch Loss = 0.15645869076251984, Accuracy = 0.9836660623550415\n",
      "Training iter #1170000:   Batch Loss = 0.145937, Accuracy = 0.984000027179718\n",
      "PERFORMANCE ON TEST SET: Batch Loss = 0.1625526249408722, Accuracy = 0.9816243052482605\n",
      "Training iter #1200000:   Batch Loss = 0.144681, Accuracy = 0.984666645526886\n",
      "PERFORMANCE ON TEST SET: Batch Loss = 0.15466400980949402, Accuracy = 0.9807168841362\n",
      "Training iter #1230000:   Batch Loss = 0.150142, Accuracy = 0.9833333492279053\n",
      "PERFORMANCE ON TEST SET: Batch Loss = 0.1689349263906479, Accuracy = 0.9795825481414795\n",
      "Training iter #1260000:   Batch Loss = 0.133906, Accuracy = 0.9893333315849304\n",
      "PERFORMANCE ON TEST SET: Batch Loss = 0.13893362879753113, Accuracy = 0.9854809641838074\n",
      "Training iter #1290000:   Batch Loss = 0.139977, Accuracy = 0.9833333492279053\n",
      "PERFORMANCE ON TEST SET: Batch Loss = 0.19840213656425476, Accuracy = 0.9666515588760376\n",
      "Training iter #1320000:   Batch Loss = 0.140466, Accuracy = 0.984666645526886\n",
      "PERFORMANCE ON TEST SET: Batch Loss = 0.15063847601413727, Accuracy = 0.9850271940231323\n",
      "Training iter #1350000:   Batch Loss = 0.212349, Accuracy = 0.9613333344459534\n",
      "PERFORMANCE ON TEST SET: Batch Loss = 0.2242836356163025, Accuracy = 0.9557622671127319\n",
      "Training iter #1380000:   Batch Loss = 0.170314, Accuracy = 0.9800000190734863\n",
      "PERFORMANCE ON TEST SET: Batch Loss = 0.17872047424316406, Accuracy = 0.9782214164733887\n",
      "Training iter #1410000:   Batch Loss = 0.140924, Accuracy = 0.984666645526886\n",
      "PERFORMANCE ON TEST SET: Batch Loss = 0.1612507402896881, Accuracy = 0.9811705946922302\n",
      "Training iter #1440000:   Batch Loss = 0.152597, Accuracy = 0.9713333249092102\n",
      "PERFORMANCE ON TEST SET: Batch Loss = 0.13686446845531464, Accuracy = 0.9875226616859436\n",
      "Training iter #1470000:   Batch Loss = 0.140289, Accuracy = 0.984000027179718\n"
     ]
    },
    {
     "name": "stdout",
     "output_type": "stream",
     "text": [
      "PERFORMANCE ON TEST SET: Batch Loss = 0.14333368837833405, Accuracy = 0.9825317859649658\n",
      "Training iter #1500000:   Batch Loss = 0.305110, Accuracy = 0.9413333535194397\n",
      "PERFORMANCE ON TEST SET: Batch Loss = 0.16218292713165283, Accuracy = 0.9791288375854492\n",
      "Training iter #1530000:   Batch Loss = 0.150853, Accuracy = 0.9826666712760925\n",
      "PERFORMANCE ON TEST SET: Batch Loss = 0.14303839206695557, Accuracy = 0.9841197729110718\n",
      "Training iter #1560000:   Batch Loss = 0.120870, Accuracy = 0.9893333315849304\n",
      "PERFORMANCE ON TEST SET: Batch Loss = 0.12870725989341736, Accuracy = 0.9857078194618225\n",
      "Training iter #1590000:   Batch Loss = 0.114426, Accuracy = 0.9900000095367432\n",
      "PERFORMANCE ON TEST SET: Batch Loss = 0.12877157330513, Accuracy = 0.9843466281890869\n",
      "Training iter #1620000:   Batch Loss = 0.332614, Accuracy = 0.9240000247955322\n",
      "PERFORMANCE ON TEST SET: Batch Loss = 0.33576661348342896, Accuracy = 0.9312613606452942\n",
      "Training iter #1650000:   Batch Loss = 0.258129, Accuracy = 0.9660000205039978\n",
      "PERFORMANCE ON TEST SET: Batch Loss = 0.23337700963020325, Accuracy = 0.9686932563781738\n",
      "Training iter #1680000:   Batch Loss = 0.186644, Accuracy = 0.9806666374206543\n",
      "PERFORMANCE ON TEST SET: Batch Loss = 0.18868958950042725, Accuracy = 0.9752722382545471\n",
      "Training iter #1710000:   Batch Loss = 0.159209, Accuracy = 0.9833333492279053\n",
      "PERFORMANCE ON TEST SET: Batch Loss = 0.17970573902130127, Accuracy = 0.9764065146446228\n",
      "Training iter #1740000:   Batch Loss = 0.153344, Accuracy = 0.9786666631698608\n",
      "PERFORMANCE ON TEST SET: Batch Loss = 0.16085144877433777, Accuracy = 0.9820780158042908\n",
      "Optimization Finished!\n",
      "FINAL RESULT: Batch Loss = 0.1577477753162384, Accuracy = 0.9773139953613281\n"
     ]
    }
   ],
   "source": [
    "# To keep track of training's performance\n",
    "test_losses = []\n",
    "test_accuracies = []\n",
    "train_losses = []\n",
    "train_accuracies = []\n",
    "\n",
    "# Launch the graph\n",
    "sess = tf.InteractiveSession(config=tf.ConfigProto(log_device_placement=True))\n",
    "init = tf.global_variables_initializer()\n",
    "sess.run(init)\n",
    "\n",
    "# Perform Training steps with \"batch_size\" amount of example data at each loop\n",
    "step = 1\n",
    "while step * batch_size <= training_iters:\n",
    "    batch_xs =         extract_batch_size(X_train, step, batch_size)\n",
    "    batch_ys = one_hot(extract_batch_size(y_train, step, batch_size))\n",
    "\n",
    "    # Fit training using batch data\n",
    "    _, loss, acc = sess.run(\n",
    "        [optimizer, cost, accuracy],\n",
    "        feed_dict={\n",
    "            x: batch_xs, \n",
    "            y: batch_ys\n",
    "        }\n",
    "    )\n",
    "    train_losses.append(loss)\n",
    "    train_accuracies.append(acc)\n",
    "    \n",
    "    # Evaluate network only at some steps for faster training: \n",
    "    if (step*batch_size % display_iter == 0) or (step == 1) or (step * batch_size > training_iters):\n",
    "        \n",
    "        # To not spam console, show training accuracy/loss in this \"if\"\n",
    "        print(\"Training iter #\" + str(step*batch_size) + \\\n",
    "              \":   Batch Loss = \" + \"{:.6f}\".format(loss) + \\\n",
    "              \", Accuracy = {}\".format(acc))\n",
    "        \n",
    "        # Evaluation on the test set (no learning made here - just evaluation for diagnosis)\n",
    "        loss, acc = sess.run(\n",
    "            [cost, accuracy], \n",
    "            feed_dict={\n",
    "                x: X_test,\n",
    "                y: one_hot(y_test)\n",
    "            }\n",
    "        )\n",
    "        test_losses.append(loss)\n",
    "        test_accuracies.append(acc)\n",
    "        print(\"PERFORMANCE ON TEST SET: \" + \\\n",
    "              \"Batch Loss = {}\".format(loss) + \\\n",
    "              \", Accuracy = {}\".format(acc))\n",
    "\n",
    "    step += 1\n",
    "\n",
    "print(\"Optimization Finished!\")\n",
    "\n",
    "# Accuracy for test data\n",
    "\n",
    "one_hot_predictions, accuracy, final_loss = sess.run(\n",
    "    [pred, accuracy, cost],\n",
    "    feed_dict={\n",
    "        x: X_test,\n",
    "        y: one_hot(y_test)\n",
    "    }\n",
    ")\n",
    "\n",
    "test_losses.append(final_loss)\n",
    "test_accuracies.append(accuracy)\n",
    "\n",
    "print(\"FINAL RESULT: \" + \\\n",
    "      \"Batch Loss = {}\".format(final_loss) + \\\n",
    "      \", Accuracy = {}\".format(accuracy))"
   ]
  },
  {
   "cell_type": "code",
   "execution_count": 39,
   "metadata": {},
   "outputs": [
    {
     "name": "stderr",
     "output_type": "stream",
     "text": [
      "/home/vicky/anaconda3/lib/python3.6/site-packages/matplotlib/font_manager.py:1316: UserWarning: findfont: Font family ['Bitstream Vera Sans'] not found. Falling back to DejaVu Sans\n",
      "  (prop.get_family(), self.defaultFamily[fontext]))\n"
     ]
    },
    {
     "data": {
      "image/png": "[encoded data removed]",
      "text/plain": [
       "<matplotlib.figure.Figure at 0x7fbc313b7320>"
      ]
     },
     "metadata": {},
     "output_type": "display_data"
    }
   ],
   "source": [
    "# (Inline plots: )\n",
    "%matplotlib inline\n",
    "\n",
    "font = {\n",
    "    'family' : 'Bitstream Vera Sans',\n",
    "    'weight' : 'bold',\n",
    "    'size'   : 18\n",
    "}\n",
    "matplotlib.rc('font', **font)\n",
    "\n",
    "width = 12\n",
    "height = 12\n",
    "plt.figure(figsize=(width, height))\n",
    "\n",
    "indep_train_axis = np.array(range(batch_size, (len(train_losses)+1)*batch_size, batch_size))\n",
    "plt.plot(indep_train_axis, np.array(train_losses),     \"b--\", label=\"Train losses\")\n",
    "plt.plot(indep_train_axis, np.array(train_accuracies), \"g--\", label=\"Train accuracies\")\n",
    "\n",
    "indep_test_axis = np.append(\n",
    "    np.array(range(batch_size, len(test_losses)*display_iter, display_iter)[:-1]),\n",
    "    [training_iters]\n",
    ")\n",
    "plt.plot(indep_test_axis, np.array(test_losses),     \"b-\", label=\"Test losses\")\n",
    "plt.plot(indep_test_axis, np.array(test_accuracies), \"g-\", label=\"Test accuracies\")\n",
    "\n",
    "plt.title(\"Training session's progress over iterations\")\n",
    "plt.legend(loc='upper right', shadow=True)\n",
    "plt.ylabel('Training Progress (Loss or Accuracy values)')\n",
    "plt.xlabel('Training iteration')\n",
    "\n",
    "plt.show()"
   ]
  },
  {
   "cell_type": "code",
   "execution_count": 40,
   "metadata": {
    "scrolled": true
   },
   "outputs": [
    {
     "name": "stdout",
     "output_type": "stream",
     "text": [
      "Testing Accuracy: 97.73139953613281%\n",
      "\n",
      "Precision: 97.762373623943%\n",
      "Recall: 97.73139745916517%\n",
      "f1_score: 97.731646492033%\n",
      "\n",
      "Confusion Matrix:\n",
      "[[1175    1    0    5]\n",
      " [  45 1212    0    0]\n",
      " [   0    4  903   25]\n",
      " [   0    0   20 1018]]\n",
      "\n",
      "Confusion matrix (normalised to % of total test data):\n",
      "[[  2.66560783e+01   2.26860251e-02   0.00000000e+00   1.13430128e-01]\n",
      " [  1.02087116e+00   2.74954624e+01   0.00000000e+00   0.00000000e+00]\n",
      " [  0.00000000e+00   9.07441005e-02   2.04854813e+01   5.67150652e-01]\n",
      " [  0.00000000e+00   0.00000000e+00   4.53720510e-01   2.30943737e+01]]\n",
      "Note: training and testing data is not equally distributed amongst classes, \n",
      "so it is normal that more than a 6th of the data is correctly classifier in the last category.\n"
     ]
    },
    {
     "name": "stderr",
     "output_type": "stream",
     "text": [
      "/home/vicky/anaconda3/lib/python3.6/site-packages/matplotlib/font_manager.py:1316: UserWarning: findfont: Font family ['Bitstream Vera Sans'] not found. Falling back to DejaVu Sans\n",
      "  (prop.get_family(), self.defaultFamily[fontext]))\n"
     ]
    },
    {
     "data": {
      "image/png": "[encoded data removed]",
      "text/plain": [
       "<matplotlib.figure.Figure at 0x7fbc312ebb70>"
      ]
     },
     "metadata": {},
     "output_type": "display_data"
    }
   ],
   "source": [
    "# Results\n",
    "\n",
    "predictions = one_hot_predictions.argmax(1)\n",
    "\n",
    "print(\"Testing Accuracy: {}%\".format(100*accuracy))\n",
    "\n",
    "print(\"\")\n",
    "print(\"Precision: {}%\".format(100*metrics.precision_score(y_test, predictions, average=\"weighted\")))\n",
    "print(\"Recall: {}%\".format(100*metrics.recall_score(y_test, predictions, average=\"weighted\")))\n",
    "print(\"f1_score: {}%\".format(100*metrics.f1_score(y_test, predictions, average=\"weighted\")))\n",
    "\n",
    "print(\"\")\n",
    "print(\"Confusion Matrix:\")\n",
    "confusion_matrix = metrics.confusion_matrix(y_test, predictions)\n",
    "print(confusion_matrix)\n",
    "normalised_confusion_matrix = np.array(confusion_matrix, dtype=np.float32)/np.sum(confusion_matrix)*100\n",
    "\n",
    "print(\"\")\n",
    "print(\"Confusion matrix (normalised to % of total test data):\")\n",
    "print(normalised_confusion_matrix)\n",
    "print(\"Note: training and testing data is not equally distributed amongst classes, \")\n",
    "print(\"so it is normal that more than a 6th of the data is correctly classifier in the last category.\")\n",
    "\n",
    "# Plot Results: \n",
    "width = 12\n",
    "height = 12\n",
    "plt.figure(figsize=(width, height))\n",
    "plt.imshow(\n",
    "    normalised_confusion_matrix, \n",
    "    interpolation='nearest', \n",
    "    cmap=plt.cm.rainbow\n",
    ")\n",
    "plt.title(\"Confusion matrix \\n(normalised to % of total test data)\")\n",
    "plt.colorbar()\n",
    "tick_marks = np.arange(n_classes)\n",
    "plt.xticks(tick_marks, LABELS, rotation=45)\n",
    "plt.yticks(tick_marks, LABELS)\n",
    "plt.tight_layout()\n",
    "plt.ylabel('True label')\n",
    "plt.xlabel('Predicted label')\n",
    "plt.show()"
   ]
  },
  {
   "cell_type": "code",
   "execution_count": 51,
   "metadata": {
    "collapsed": true
   },
   "outputs": [],
   "source": [
    "# history = dict(train_losses, train_accuracies, test_losses, test_accuracies)"
   ]
  },
  {
   "cell_type": "code",
   "execution_count": 41,
   "metadata": {
    "collapsed": true
   },
   "outputs": [],
   "source": [
    "pickle.dump(predictions, open(\"prediction.p\", \"wb\"))"
   ]
  },
  {
   "cell_type": "code",
   "execution_count": 42,
   "metadata": {},
   "outputs": [
    {
     "data": {
      "text/plain": [
       "'././har.pbtxt'"
      ]
     },
     "execution_count": 42,
     "metadata": {},
     "output_type": "execute_result"
    }
   ],
   "source": [
    "tf.train.write_graph(sess.graph_def, '.', './har.pbtxt')"
   ]
  },
  {
   "cell_type": "code",
   "execution_count": 43,
   "metadata": {},
   "outputs": [
    {
     "data": {
      "text/plain": [
       "'./har.ckpt'"
      ]
     },
     "execution_count": 43,
     "metadata": {},
     "output_type": "execute_result"
    }
   ],
   "source": [
    "saver = tf.train.Saver()\n",
    "\n",
    "saver.save(sess, save_path = \"./har.ckpt\")"
   ]
  },
  {
   "cell_type": "code",
   "execution_count": 44,
   "metadata": {
    "collapsed": true
   },
   "outputs": [],
   "source": [
    "sess.close()"
   ]
  },
  {
   "cell_type": "code",
   "execution_count": 45,
   "metadata": {
    "collapsed": true
   },
   "outputs": [],
   "source": [
    "prediction1 = pickle.load(open(\"prediction.p\", \"rb\"))"
   ]
  },
  {
   "cell_type": "code",
   "execution_count": 46,
   "metadata": {
    "collapsed": true
   },
   "outputs": [],
   "source": [
    "from tensorflow.python.tools import freeze_graph\n",
    "\n",
    "MODEL_NAME = 'har'\n",
    "input_graph_path = MODEL_NAME + '.pbtxt'\n",
    "checkpoint_path = MODEL_NAME + '.ckpt'\n",
    "restore_op_name = \"save/restore_all\""
   ]
  },
  {
   "cell_type": "code",
   "execution_count": 47,
   "metadata": {
    "collapsed": true
   },
   "outputs": [],
   "source": [
    "filename_tensor_name =  \"save/Const:0\"\n",
    "output_frozen_graph_name = 'frozen_' + MODEL_NAME +'.pb'"
   ]
  },
  {
   "cell_type": "code",
   "execution_count": 48,
   "metadata": {},
   "outputs": [
    {
     "name": "stdout",
     "output_type": "stream",
     "text": [
      "INFO:tensorflow:Restoring parameters from har.ckpt\n",
      "INFO:tensorflow:Froze 8 variables.\n",
      "INFO:tensorflow:Converted 8 variables to const ops.\n"
     ]
    }
   ],
   "source": [
    "# tf.identity(y_conv, name='my_output')\n",
    "freeze_graph.freeze_graph(input_graph_path, input_saver=\"\",\n",
    "                         input_binary = False, input_checkpoint= checkpoint_path,\n",
    "                         output_node_names =\"y_\", restore_op_name=\"save/restore_all\",\n",
    "                         filename_tensor_name = \"save/Const:0\",\n",
    "                         output_graph = output_frozen_graph_name, clear_devices = True,\n",
    "                         initializer_nodes=\"\")"
   ]
  },
  {
   "cell_type": "code",
   "execution_count": null,
   "metadata": {
    "collapsed": true
   },
   "outputs": [],
   "source": []
  }
 ],
 "metadata": {
  "kernelspec": {
   "display_name": "Python 3",
   "language": "python",
   "name": "python3"
  },
  "language_info": {
   "codemirror_mode": {
    "name": "ipython",
    "version": 3
   },
   "file_extension": ".py",
   "mimetype": "text/x-python",
   "name": "python",
   "nbconvert_exporter": "python",
   "pygments_lexer": "ipython3",
   "version": "3.6.3"
  }
 },
 "nbformat": 4,
 "nbformat_minor": 2
}
