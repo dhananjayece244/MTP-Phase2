{
 "cells": [
  {
   "cell_type": "code",
   "execution_count": 1,
   "metadata": {},
   "outputs": [
    {
     "name": "stderr",
     "output_type": "stream",
     "text": [
      "/home/vicky/anaconda3/lib/python3.6/site-packages/sklearn/cross_validation.py:41: DeprecationWarning: This module was deprecated in version 0.18 in favor of the model_selection module into which all the refactored classes and functions are moved. Also note that the interface of the new CV iterators are different from that of this module. This module will be removed in 0.20.\n",
      "  \"This module will be removed in 0.20.\", DeprecationWarning)\n"
     ]
    }
   ],
   "source": [
    "# All Includes\n",
    "\n",
    "import numpy as np\n",
    "import matplotlib\n",
    "import matplotlib.pyplot as plt\n",
    "import tensorflow as tf  # Version 1.0.0 (some previous versions are used in past commits)\n",
    "from sklearn import metrics\n",
    "from sklearn.utils import shuffle\n",
    "\n",
    "import pandas as pd\n",
    "import numpy as np\n",
    "import os\n",
    "import glob \n",
    "import pickle\n",
    "from math import *\n",
    "import matplotlib.pyplot as plt\n",
    "from scipy import stats\n",
    "import seaborn as sns\n",
    "from pylab import rcParams\n",
    "from sklearn import metrics\n",
    "from sklearn.model_selection import train_test_split\n",
    "from scipy.ndimage import gaussian_filter\n",
    "from scipy.fftpack import fft\n",
    "from dtw import dtw\n",
    "from numpy import array, zeros, argmin, inf, ndim\n",
    "from scipy.spatial.distance import cdist\n",
    "from sklearn.metrics.pairwise import manhattan_distances\n",
    "from sklearn import svm\n",
    "from sklearn.ensemble import RandomForestClassifier\n",
    "from sklearn.cross_validation import cross_val_score\n",
    "from sklearn.metrics import accuracy_score\n",
    "from matplotlib.patches import Patch\n",
    "from matplotlib.lines import Line2D\n"
   ]
  },
  {
   "cell_type": "code",
   "execution_count": 2,
   "metadata": {
    "collapsed": true
   },
   "outputs": [],
   "source": [
    "# Those are separate normalised input features for the neural network\n",
    "INPUT_SIGNAL_TYPES = [\n",
    "    \"acc_x_\",\n",
    "    \"acc_y_\",\n",
    "    \"acc_z_\",\n",
    "    \"gyro_x_\",\n",
    "    \"gyro_y_\",\n",
    "    \"gyro_z_\",\n",
    "    \"total_acc\",\n",
    "    \"total_gyro\"\n",
    "]\n",
    "\n",
    "# Output classes to learn how to classify\n",
    "LABELS = [\n",
    "    \"MOTOR_BIKE\", \n",
    "    \"CAR\",\n",
    "    \"WALKING\",\n",
    "    \"CYCLING\"\n",
    "]"
   ]
  },
  {
   "cell_type": "code",
   "execution_count": 3,
   "metadata": {
    "collapsed": true
   },
   "outputs": [],
   "source": [
    "def GaussianFilter(df, window_length):\n",
    "    df1 = df\n",
    "    \n",
    "    df1['AX'] = gaussian_filter(df['AX'], window_length)\n",
    "    df1['AY'] = gaussian_filter(df['AY'], window_length)\n",
    "    df1['AZ'] = gaussian_filter(df['AZ'], window_length)\n",
    "\n",
    "    df1['GX'] = gaussian_filter(df['GX'], window_length)\n",
    "    df1['GY'] = gaussian_filter(df['GY'], window_length)\n",
    "    df1['GZ'] = gaussian_filter(df['GZ'], window_length)\n",
    "\n",
    "    return df1"
   ]
  },
  {
   "cell_type": "code",
   "execution_count": 4,
   "metadata": {
    "collapsed": true
   },
   "outputs": [],
   "source": [
    "def Amplitude(df, input_features, out_feature):\n",
    "    df[out_feature] = (df[input_features[0]]**2 + df[input_features[1]]**2  + df[input_features[2]]**2)**(1/2)"
   ]
  },
  {
   "cell_type": "code",
   "execution_count": 5,
   "metadata": {
    "collapsed": true
   },
   "outputs": [],
   "source": [
    "def segmentation(df, N_TIME_STEPS):\n",
    "    \n",
    "    N_FEATURES = 1\n",
    "    step = 50\n",
    "    segments = []\n",
    "    labels = []\n",
    "    for i in range(0, len(df) - N_TIME_STEPS, step):\n",
    "        gx = df['GX'].values[i: i + N_TIME_STEPS]\n",
    "        gy = df['GY'].values[i: i + N_TIME_STEPS]\n",
    "        gz = df['GZ'].values[i: i + N_TIME_STEPS]\n",
    "#         mean_gx = gx.mean()\n",
    "#         mn_gx = [mean_gx]*N_TIME_STEPS\n",
    "#         mean_gy = gy.mean()\n",
    "#         mn_gy = [mean_gy]*N_TIME_STEPS\n",
    "#         mean_gz = gz.mean()\n",
    "#         mn_gz = [mean_gz]*N_TIME_STEPS\n",
    "        \n",
    "        ax = df['AX'].values[i: i + N_TIME_STEPS]\n",
    "        ay = df['AY'].values[i: i + N_TIME_STEPS]\n",
    "        az = df['AZ'].values[i: i + N_TIME_STEPS]\n",
    "        \n",
    "        mean_ax = ax.mean()\n",
    "        mn_ax = ax-mean_ax\n",
    "        mean_ay = ay.mean()\n",
    "        mn_ay = ay-mean_ay\n",
    "        mean_az = az.mean()\n",
    "        mn_az = az-mean_az\n",
    "        \n",
    "        ma = df['mAcc'].values[i: i + N_TIME_STEPS]\n",
    "        mz = df['mGyro'].values[i: i + N_TIME_STEPS]\n",
    "        \n",
    "        mean_a = ma.mean()\n",
    "        mn_a = ax-mean_a\n",
    "        \n",
    "        label = \"ST\"\n",
    "        segments.append([gx, gy, gz, ax, ay, az, ma, mz, mn_ax, mn_ay, mn_az, mn_a])\n",
    "#         labels = stats.mode(df['activity'][i: i + N_TIME_STEPS])[0][0]\n",
    "        labels.append(label)\n",
    "    return segments, labels"
   ]
  },
  {
   "cell_type": "code",
   "execution_count": 6,
   "metadata": {
    "collapsed": true
   },
   "outputs": [],
   "source": [
    "def data_preprocessing(df):\n",
    "    #mean feature of 3-axis accelerometer data\n",
    "    input_features = ['AX', 'AY', 'AZ']\n",
    "    output_feature = 'mAcc'\n",
    "    Amplitude(df, input_features, output_feature)\n",
    "    \n",
    "    #mean feature of 3-axis gyroscope data\n",
    "    input_features = ['GX', 'GY', 'GZ']\n",
    "    output_feature = 'mGyro'\n",
    "    Amplitude(df, input_features, output_feature)\n",
    "    \n",
    "    #apply gaussian filter with window size 10\n",
    "    df = GaussianFilter(df, 10)\n",
    "    return df"
   ]
  },
  {
   "cell_type": "code",
   "execution_count": 33,
   "metadata": {
    "collapsed": true
   },
   "outputs": [],
   "source": [
    "#read csv file and return its data-frame\n",
    "def read_csv_file(acc, gyro, mode):\n",
    "    df_gyro = pd.read_csv(gyro, index_col=False)\n",
    "    df      = pd.read_csv(acc,  index_col=False)\n",
    "    df.rename(columns = {'X': 'AX', 'Y':'AY', 'Z':'AZ'}, inplace = True)\n",
    "    df['GX'] = df_gyro['X']\n",
    "    df['GY'] = df_gyro['Y']\n",
    "    df['GZ'] = df_gyro['Z']\n",
    "    \n",
    "    return df"
   ]
  },
  {
   "cell_type": "code",
   "execution_count": 34,
   "metadata": {
    "collapsed": true
   },
   "outputs": [],
   "source": [
    "def read_files(acc_file, gyro_file, activity):\n",
    "    df = read_csv_file(acc_file, gyro_file, activity)\n",
    "    df.reset_index(drop = True , inplace = True)\n",
    "    if('Milliseconds' in df.columns):\n",
    "        df = df.drop('Milliseconds', axis=1)\n",
    "    if('Timestamp' in df.columns):\n",
    "        df = df.drop('Timestamp', axis=1)\n",
    "    df = data_preprocessing(df)\n",
    "    df['activity'] = activity\n",
    "    \n",
    "    return df\n",
    "    "
   ]
  },
  {
   "cell_type": "code",
   "execution_count": 35,
   "metadata": {},
   "outputs": [
    {
     "name": "stderr",
     "output_type": "stream",
     "text": [
      "/home/vicky/anaconda3/lib/python3.6/site-packages/pandas/core/indexes/api.py:77: RuntimeWarning: '<' not supported between instances of 'int' and 'str', sort order is undefined for incomparable objects\n",
      "  result = result.union(other)\n"
     ]
    },
    {
     "name": "stdout",
     "output_type": "stream",
     "text": [
      "(53698, 10)\n"
     ]
    },
    {
     "data": {
      "text/html": [
       "<div>\n",
       "<style>\n",
       "    .dataframe thead tr:only-child th {\n",
       "        text-align: right;\n",
       "    }\n",
       "\n",
       "    .dataframe thead th {\n",
       "        text-align: left;\n",
       "    }\n",
       "\n",
       "    .dataframe tbody tr th {\n",
       "        vertical-align: top;\n",
       "    }\n",
       "</style>\n",
       "<table border=\"1\" class=\"dataframe\">\n",
       "  <thead>\n",
       "    <tr style=\"text-align: right;\">\n",
       "      <th></th>\n",
       "      <th>0</th>\n",
       "      <th>AX</th>\n",
       "      <th>AY</th>\n",
       "      <th>AZ</th>\n",
       "      <th>GX</th>\n",
       "      <th>GY</th>\n",
       "      <th>GZ</th>\n",
       "      <th>mAcc</th>\n",
       "      <th>mGyro</th>\n",
       "      <th>activity</th>\n",
       "    </tr>\n",
       "  </thead>\n",
       "  <tbody>\n",
       "    <tr>\n",
       "      <th>0</th>\n",
       "      <td>NaN</td>\n",
       "      <td>0.053224</td>\n",
       "      <td>0.314816</td>\n",
       "      <td>-0.039182</td>\n",
       "      <td>-0.011374</td>\n",
       "      <td>-0.039128</td>\n",
       "      <td>-0.005193</td>\n",
       "      <td>1.480741</td>\n",
       "      <td>0.048478</td>\n",
       "      <td>bike</td>\n",
       "    </tr>\n",
       "    <tr>\n",
       "      <th>1</th>\n",
       "      <td>NaN</td>\n",
       "      <td>0.050394</td>\n",
       "      <td>0.317808</td>\n",
       "      <td>-0.024306</td>\n",
       "      <td>-0.010242</td>\n",
       "      <td>-0.035566</td>\n",
       "      <td>-0.007808</td>\n",
       "      <td>0.503951</td>\n",
       "      <td>0.135044</td>\n",
       "      <td>bike</td>\n",
       "    </tr>\n",
       "    <tr>\n",
       "      <th>2</th>\n",
       "      <td>NaN</td>\n",
       "      <td>0.047070</td>\n",
       "      <td>0.319707</td>\n",
       "      <td>-0.010741</td>\n",
       "      <td>-0.009198</td>\n",
       "      <td>-0.031665</td>\n",
       "      <td>-0.010444</td>\n",
       "      <td>3.321339</td>\n",
       "      <td>0.134729</td>\n",
       "      <td>bike</td>\n",
       "    </tr>\n",
       "    <tr>\n",
       "      <th>3</th>\n",
       "      <td>NaN</td>\n",
       "      <td>0.043323</td>\n",
       "      <td>0.320499</td>\n",
       "      <td>0.001363</td>\n",
       "      <td>-0.008262</td>\n",
       "      <td>-0.027466</td>\n",
       "      <td>-0.013066</td>\n",
       "      <td>2.796644</td>\n",
       "      <td>0.175296</td>\n",
       "      <td>bike</td>\n",
       "    </tr>\n",
       "    <tr>\n",
       "      <th>4</th>\n",
       "      <td>NaN</td>\n",
       "      <td>0.039209</td>\n",
       "      <td>0.320110</td>\n",
       "      <td>0.011780</td>\n",
       "      <td>-0.007458</td>\n",
       "      <td>-0.023013</td>\n",
       "      <td>-0.015640</td>\n",
       "      <td>0.957629</td>\n",
       "      <td>0.270735</td>\n",
       "      <td>bike</td>\n",
       "    </tr>\n",
       "  </tbody>\n",
       "</table>\n",
       "</div>"
      ],
      "text/plain": [
       "    0        AX        AY        AZ        GX        GY        GZ      mAcc  \\\n",
       "0 NaN  0.053224  0.314816 -0.039182 -0.011374 -0.039128 -0.005193  1.480741   \n",
       "1 NaN  0.050394  0.317808 -0.024306 -0.010242 -0.035566 -0.007808  0.503951   \n",
       "2 NaN  0.047070  0.319707 -0.010741 -0.009198 -0.031665 -0.010444  3.321339   \n",
       "3 NaN  0.043323  0.320499  0.001363 -0.008262 -0.027466 -0.013066  2.796644   \n",
       "4 NaN  0.039209  0.320110  0.011780 -0.007458 -0.023013 -0.015640  0.957629   \n",
       "\n",
       "      mGyro activity  \n",
       "0  0.048478     bike  \n",
       "1  0.135044     bike  \n",
       "2  0.134729     bike  \n",
       "3  0.175296     bike  \n",
       "4  0.270735     bike  "
      ]
     },
     "execution_count": 35,
     "metadata": {},
     "output_type": "execute_result"
    }
   ],
   "source": [
    "#data loading\n",
    "\n",
    "path_acc = os.getcwd() + '/data/Bike2308/*/*AccelerometerLinear.csv'  \n",
    "path_gyro= os.getcwd() + '/data/Bike2308/*/*Gyroscope.csv'\n",
    "acc_files = glob.glob(path_acc)\n",
    "gyro_files= glob.glob(path_gyro)\n",
    "\n",
    "bike_df = []\n",
    "bike_df = pd.Series(bike_df)\n",
    "for acc_file, gyro_file in zip(acc_files, gyro_files) :\n",
    "    df_this = read_files(acc_file, gyro_file, 'bike')\n",
    "    n = len(df_this)\n",
    "    df_this = df_this[1500 : n-500]\n",
    "    bike_df = pd.concat([bike_df, df_this])\n",
    "bike_df.reset_index(drop = True, inplace = True)\n",
    "print(bike_df.shape)\n",
    "bike_df.head()\n"
   ]
  },
  {
   "cell_type": "code",
   "execution_count": 36,
   "metadata": {},
   "outputs": [
    {
     "name": "stdout",
     "output_type": "stream",
     "text": [
      "(298078, 10)\n"
     ]
    },
    {
     "data": {
      "text/html": [
       "<div>\n",
       "<style>\n",
       "    .dataframe thead tr:only-child th {\n",
       "        text-align: right;\n",
       "    }\n",
       "\n",
       "    .dataframe thead th {\n",
       "        text-align: left;\n",
       "    }\n",
       "\n",
       "    .dataframe tbody tr th {\n",
       "        vertical-align: top;\n",
       "    }\n",
       "</style>\n",
       "<table border=\"1\" class=\"dataframe\">\n",
       "  <thead>\n",
       "    <tr style=\"text-align: right;\">\n",
       "      <th></th>\n",
       "      <th>0</th>\n",
       "      <th>AX</th>\n",
       "      <th>AY</th>\n",
       "      <th>AZ</th>\n",
       "      <th>GX</th>\n",
       "      <th>GY</th>\n",
       "      <th>GZ</th>\n",
       "      <th>mAcc</th>\n",
       "      <th>mGyro</th>\n",
       "      <th>activity</th>\n",
       "    </tr>\n",
       "  </thead>\n",
       "  <tbody>\n",
       "    <tr>\n",
       "      <th>0</th>\n",
       "      <td>NaN</td>\n",
       "      <td>0.053224</td>\n",
       "      <td>0.314816</td>\n",
       "      <td>-0.039182</td>\n",
       "      <td>-0.011374</td>\n",
       "      <td>-0.039128</td>\n",
       "      <td>-0.005193</td>\n",
       "      <td>1.480741</td>\n",
       "      <td>0.048478</td>\n",
       "      <td>bike</td>\n",
       "    </tr>\n",
       "    <tr>\n",
       "      <th>1</th>\n",
       "      <td>NaN</td>\n",
       "      <td>0.050394</td>\n",
       "      <td>0.317808</td>\n",
       "      <td>-0.024306</td>\n",
       "      <td>-0.010242</td>\n",
       "      <td>-0.035566</td>\n",
       "      <td>-0.007808</td>\n",
       "      <td>0.503951</td>\n",
       "      <td>0.135044</td>\n",
       "      <td>bike</td>\n",
       "    </tr>\n",
       "    <tr>\n",
       "      <th>2</th>\n",
       "      <td>NaN</td>\n",
       "      <td>0.047070</td>\n",
       "      <td>0.319707</td>\n",
       "      <td>-0.010741</td>\n",
       "      <td>-0.009198</td>\n",
       "      <td>-0.031665</td>\n",
       "      <td>-0.010444</td>\n",
       "      <td>3.321339</td>\n",
       "      <td>0.134729</td>\n",
       "      <td>bike</td>\n",
       "    </tr>\n",
       "    <tr>\n",
       "      <th>3</th>\n",
       "      <td>NaN</td>\n",
       "      <td>0.043323</td>\n",
       "      <td>0.320499</td>\n",
       "      <td>0.001363</td>\n",
       "      <td>-0.008262</td>\n",
       "      <td>-0.027466</td>\n",
       "      <td>-0.013066</td>\n",
       "      <td>2.796644</td>\n",
       "      <td>0.175296</td>\n",
       "      <td>bike</td>\n",
       "    </tr>\n",
       "    <tr>\n",
       "      <th>4</th>\n",
       "      <td>NaN</td>\n",
       "      <td>0.039209</td>\n",
       "      <td>0.320110</td>\n",
       "      <td>0.011780</td>\n",
       "      <td>-0.007458</td>\n",
       "      <td>-0.023013</td>\n",
       "      <td>-0.015640</td>\n",
       "      <td>0.957629</td>\n",
       "      <td>0.270735</td>\n",
       "      <td>bike</td>\n",
       "    </tr>\n",
       "  </tbody>\n",
       "</table>\n",
       "</div>"
      ],
      "text/plain": [
       "    0        AX        AY        AZ        GX        GY        GZ      mAcc  \\\n",
       "0 NaN  0.053224  0.314816 -0.039182 -0.011374 -0.039128 -0.005193  1.480741   \n",
       "1 NaN  0.050394  0.317808 -0.024306 -0.010242 -0.035566 -0.007808  0.503951   \n",
       "2 NaN  0.047070  0.319707 -0.010741 -0.009198 -0.031665 -0.010444  3.321339   \n",
       "3 NaN  0.043323  0.320499  0.001363 -0.008262 -0.027466 -0.013066  2.796644   \n",
       "4 NaN  0.039209  0.320110  0.011780 -0.007458 -0.023013 -0.015640  0.957629   \n",
       "\n",
       "      mGyro activity  \n",
       "0  0.048478     bike  \n",
       "1  0.135044     bike  \n",
       "2  0.134729     bike  \n",
       "3  0.175296     bike  \n",
       "4  0.270735     bike  "
      ]
     },
     "execution_count": 36,
     "metadata": {},
     "output_type": "execute_result"
    }
   ],
   "source": [
    "#data loading\n",
    "\n",
    "path_acc = os.getcwd() + '/data/bike/*/*/*AccelerometerLinear.csv'  \n",
    "path_gyro= os.getcwd() + '/data/bike/*/*/*Gyroscope.csv'\n",
    "acc_files = glob.glob(path_acc)\n",
    "gyro_files= glob.glob(path_gyro)\n",
    "\n",
    "for acc_file, gyro_file in zip(acc_files, gyro_files) :\n",
    "    df_this = read_files(acc_file, gyro_file, 'bike')\n",
    "    n = len(df_this)\n",
    "    df_this = df_this[1500 : n-1500]\n",
    "    bike_df = pd.concat([bike_df, df_this])\n",
    "bike_df.reset_index(drop = True, inplace = True)\n",
    "bike_df.dropna()\n",
    "print(bike_df.shape)\n",
    "bike_df.head()\n"
   ]
  },
  {
   "cell_type": "code",
   "execution_count": 37,
   "metadata": {},
   "outputs": [
    {
     "name": "stderr",
     "output_type": "stream",
     "text": [
      "/home/vicky/anaconda3/lib/python3.6/site-packages/pandas/core/indexes/api.py:77: RuntimeWarning: '<' not supported between instances of 'int' and 'str', sort order is undefined for incomparable objects\n",
      "  result = result.union(other)\n"
     ]
    },
    {
     "name": "stdout",
     "output_type": "stream",
     "text": [
      "(196345, 10)\n"
     ]
    },
    {
     "data": {
      "text/html": [
       "<div>\n",
       "<style>\n",
       "    .dataframe thead tr:only-child th {\n",
       "        text-align: right;\n",
       "    }\n",
       "\n",
       "    .dataframe thead th {\n",
       "        text-align: left;\n",
       "    }\n",
       "\n",
       "    .dataframe tbody tr th {\n",
       "        vertical-align: top;\n",
       "    }\n",
       "</style>\n",
       "<table border=\"1\" class=\"dataframe\">\n",
       "  <thead>\n",
       "    <tr style=\"text-align: right;\">\n",
       "      <th></th>\n",
       "      <th>0</th>\n",
       "      <th>AX</th>\n",
       "      <th>AY</th>\n",
       "      <th>AZ</th>\n",
       "      <th>GX</th>\n",
       "      <th>GY</th>\n",
       "      <th>GZ</th>\n",
       "      <th>mAcc</th>\n",
       "      <th>mGyro</th>\n",
       "      <th>activity</th>\n",
       "    </tr>\n",
       "  </thead>\n",
       "  <tbody>\n",
       "    <tr>\n",
       "      <th>0</th>\n",
       "      <td>NaN</td>\n",
       "      <td>0.060464</td>\n",
       "      <td>-5.881064</td>\n",
       "      <td>0.776747</td>\n",
       "      <td>-0.417079</td>\n",
       "      <td>-0.125135</td>\n",
       "      <td>-1.310958</td>\n",
       "      <td>8.245067</td>\n",
       "      <td>3.014668</td>\n",
       "      <td>walk</td>\n",
       "    </tr>\n",
       "    <tr>\n",
       "      <th>1</th>\n",
       "      <td>NaN</td>\n",
       "      <td>-0.131828</td>\n",
       "      <td>-6.059065</td>\n",
       "      <td>0.801559</td>\n",
       "      <td>-0.390980</td>\n",
       "      <td>-0.097267</td>\n",
       "      <td>-1.121114</td>\n",
       "      <td>8.420892</td>\n",
       "      <td>2.765414</td>\n",
       "      <td>walk</td>\n",
       "    </tr>\n",
       "    <tr>\n",
       "      <th>2</th>\n",
       "      <td>NaN</td>\n",
       "      <td>-0.294295</td>\n",
       "      <td>-6.201744</td>\n",
       "      <td>0.813941</td>\n",
       "      <td>-0.358058</td>\n",
       "      <td>-0.071196</td>\n",
       "      <td>-0.917104</td>\n",
       "      <td>8.620252</td>\n",
       "      <td>2.477279</td>\n",
       "      <td>walk</td>\n",
       "    </tr>\n",
       "    <tr>\n",
       "      <th>3</th>\n",
       "      <td>NaN</td>\n",
       "      <td>-0.423835</td>\n",
       "      <td>-6.307902</td>\n",
       "      <td>0.813265</td>\n",
       "      <td>-0.318553</td>\n",
       "      <td>-0.047122</td>\n",
       "      <td>-0.701160</td>\n",
       "      <td>8.859215</td>\n",
       "      <td>2.141473</td>\n",
       "      <td>walk</td>\n",
       "    </tr>\n",
       "    <tr>\n",
       "      <th>4</th>\n",
       "      <td>NaN</td>\n",
       "      <td>-0.517898</td>\n",
       "      <td>-6.376554</td>\n",
       "      <td>0.799069</td>\n",
       "      <td>-0.272904</td>\n",
       "      <td>-0.025124</td>\n",
       "      <td>-0.475743</td>\n",
       "      <td>9.162117</td>\n",
       "      <td>1.783433</td>\n",
       "      <td>walk</td>\n",
       "    </tr>\n",
       "  </tbody>\n",
       "</table>\n",
       "</div>"
      ],
      "text/plain": [
       "    0        AX        AY        AZ        GX        GY        GZ      mAcc  \\\n",
       "0 NaN  0.060464 -5.881064  0.776747 -0.417079 -0.125135 -1.310958  8.245067   \n",
       "1 NaN -0.131828 -6.059065  0.801559 -0.390980 -0.097267 -1.121114  8.420892   \n",
       "2 NaN -0.294295 -6.201744  0.813941 -0.358058 -0.071196 -0.917104  8.620252   \n",
       "3 NaN -0.423835 -6.307902  0.813265 -0.318553 -0.047122 -0.701160  8.859215   \n",
       "4 NaN -0.517898 -6.376554  0.799069 -0.272904 -0.025124 -0.475743  9.162117   \n",
       "\n",
       "      mGyro activity  \n",
       "0  3.014668     walk  \n",
       "1  2.765414     walk  \n",
       "2  2.477279     walk  \n",
       "3  2.141473     walk  \n",
       "4  1.783433     walk  "
      ]
     },
     "execution_count": 37,
     "metadata": {},
     "output_type": "execute_result"
    }
   ],
   "source": [
    "#data loading\n",
    "\n",
    "path_acc = os.getcwd() + '/data/walk/*/*AccelerometerLinear.csv'  \n",
    "path_gyro= os.getcwd() + '/data/walk/*/*Gyroscope.csv'\n",
    "acc_files = glob.glob(path_acc)\n",
    "gyro_files= glob.glob(path_gyro)\n",
    "\n",
    "walk_df = []\n",
    "walk_df = pd.Series(walk_df)\n",
    "for acc_file, gyro_file in zip(acc_files, gyro_files) :\n",
    "    df_this = read_files(acc_file, gyro_file, 'walk')\n",
    "    n = len(df_this)\n",
    "    df_this = df_this[1500 : n-500]\n",
    "    walk_df = pd.concat([walk_df, df_this])\n",
    "walk_df.reset_index(drop = True, inplace = True)\n",
    "print(walk_df.shape)\n",
    "walk_df.head()\n"
   ]
  },
  {
   "cell_type": "code",
   "execution_count": 38,
   "metadata": {},
   "outputs": [
    {
     "name": "stdout",
     "output_type": "stream",
     "text": [
      "(160277, 9)\n"
     ]
    },
    {
     "data": {
      "text/html": [
       "<div>\n",
       "<style>\n",
       "    .dataframe thead tr:only-child th {\n",
       "        text-align: right;\n",
       "    }\n",
       "\n",
       "    .dataframe thead th {\n",
       "        text-align: left;\n",
       "    }\n",
       "\n",
       "    .dataframe tbody tr th {\n",
       "        vertical-align: top;\n",
       "    }\n",
       "</style>\n",
       "<table border=\"1\" class=\"dataframe\">\n",
       "  <thead>\n",
       "    <tr style=\"text-align: right;\">\n",
       "      <th></th>\n",
       "      <th>AX</th>\n",
       "      <th>AY</th>\n",
       "      <th>AZ</th>\n",
       "      <th>GX</th>\n",
       "      <th>GY</th>\n",
       "      <th>GZ</th>\n",
       "      <th>mAcc</th>\n",
       "      <th>mGyro</th>\n",
       "      <th>activity</th>\n",
       "    </tr>\n",
       "  </thead>\n",
       "  <tbody>\n",
       "    <tr>\n",
       "      <th>0</th>\n",
       "      <td>0.151147</td>\n",
       "      <td>-0.548212</td>\n",
       "      <td>0.384174</td>\n",
       "      <td>0.014104</td>\n",
       "      <td>0.032599</td>\n",
       "      <td>0.212953</td>\n",
       "      <td>5.896712</td>\n",
       "      <td>0.918298</td>\n",
       "      <td>car</td>\n",
       "    </tr>\n",
       "    <tr>\n",
       "      <th>1</th>\n",
       "      <td>0.145558</td>\n",
       "      <td>-0.549001</td>\n",
       "      <td>0.315767</td>\n",
       "      <td>0.022043</td>\n",
       "      <td>0.024087</td>\n",
       "      <td>0.209872</td>\n",
       "      <td>6.891665</td>\n",
       "      <td>0.890564</td>\n",
       "      <td>car</td>\n",
       "    </tr>\n",
       "    <tr>\n",
       "      <th>2</th>\n",
       "      <td>0.131640</td>\n",
       "      <td>-0.550599</td>\n",
       "      <td>0.237944</td>\n",
       "      <td>0.029397</td>\n",
       "      <td>0.016481</td>\n",
       "      <td>0.205640</td>\n",
       "      <td>5.505644</td>\n",
       "      <td>1.006707</td>\n",
       "      <td>car</td>\n",
       "    </tr>\n",
       "    <tr>\n",
       "      <th>3</th>\n",
       "      <td>0.109519</td>\n",
       "      <td>-0.552682</td>\n",
       "      <td>0.153242</td>\n",
       "      <td>0.035762</td>\n",
       "      <td>0.010158</td>\n",
       "      <td>0.200435</td>\n",
       "      <td>4.220319</td>\n",
       "      <td>1.314102</td>\n",
       "      <td>car</td>\n",
       "    </tr>\n",
       "    <tr>\n",
       "      <th>4</th>\n",
       "      <td>0.079650</td>\n",
       "      <td>-0.554942</td>\n",
       "      <td>0.064491</td>\n",
       "      <td>0.040765</td>\n",
       "      <td>0.005447</td>\n",
       "      <td>0.194477</td>\n",
       "      <td>4.958700</td>\n",
       "      <td>1.252351</td>\n",
       "      <td>car</td>\n",
       "    </tr>\n",
       "  </tbody>\n",
       "</table>\n",
       "</div>"
      ],
      "text/plain": [
       "         AX        AY        AZ        GX        GY        GZ      mAcc  \\\n",
       "0  0.151147 -0.548212  0.384174  0.014104  0.032599  0.212953  5.896712   \n",
       "1  0.145558 -0.549001  0.315767  0.022043  0.024087  0.209872  6.891665   \n",
       "2  0.131640 -0.550599  0.237944  0.029397  0.016481  0.205640  5.505644   \n",
       "3  0.109519 -0.552682  0.153242  0.035762  0.010158  0.200435  4.220319   \n",
       "4  0.079650 -0.554942  0.064491  0.040765  0.005447  0.194477  4.958700   \n",
       "\n",
       "      mGyro activity  \n",
       "0  0.918298      car  \n",
       "1  0.890564      car  \n",
       "2  1.006707      car  \n",
       "3  1.314102      car  \n",
       "4  1.252351      car  "
      ]
     },
     "execution_count": 38,
     "metadata": {},
     "output_type": "execute_result"
    }
   ],
   "source": [
    "path_acc = os.getcwd() + '/data/Car1109out/*/*AccelerometerLinear.csv'  \n",
    "path_gyro= os.getcwd() + '/data/Car1109out/*/*Gyroscope.csv' \n",
    "acc_files = glob.glob(path_acc)\n",
    "gyro_files= glob.glob(path_gyro)\n",
    "car_df= read_files(acc_files[0], gyro_files[0], 'car')\n",
    "n = len(car_df)\n",
    "car_df = car_df[350:n-500]\n",
    "for acc_file, gyro_file in zip(acc_files, gyro_files) :\n",
    "    df_this = read_files(acc_file, gyro_file, 'car')\n",
    "    n = len(df_this)\n",
    "    df_this = df_this[350 : n-1000]\n",
    "    car_df = pd.concat([car_df, df_this])\n",
    "car_df.reset_index(drop = True, inplace = True)\n",
    "car_df.dropna()\n",
    "print(car_df.shape)\n",
    "car_df.head()"
   ]
  },
  {
   "cell_type": "code",
   "execution_count": 39,
   "metadata": {},
   "outputs": [
    {
     "name": "stdout",
     "output_type": "stream",
     "text": [
      "(302817, 9)\n"
     ]
    },
    {
     "data": {
      "text/html": [
       "<div>\n",
       "<style>\n",
       "    .dataframe thead tr:only-child th {\n",
       "        text-align: right;\n",
       "    }\n",
       "\n",
       "    .dataframe thead th {\n",
       "        text-align: left;\n",
       "    }\n",
       "\n",
       "    .dataframe tbody tr th {\n",
       "        vertical-align: top;\n",
       "    }\n",
       "</style>\n",
       "<table border=\"1\" class=\"dataframe\">\n",
       "  <thead>\n",
       "    <tr style=\"text-align: right;\">\n",
       "      <th></th>\n",
       "      <th>AX</th>\n",
       "      <th>AY</th>\n",
       "      <th>AZ</th>\n",
       "      <th>GX</th>\n",
       "      <th>GY</th>\n",
       "      <th>GZ</th>\n",
       "      <th>mAcc</th>\n",
       "      <th>mGyro</th>\n",
       "      <th>activity</th>\n",
       "    </tr>\n",
       "  </thead>\n",
       "  <tbody>\n",
       "    <tr>\n",
       "      <th>0</th>\n",
       "      <td>0.151147</td>\n",
       "      <td>-0.548212</td>\n",
       "      <td>0.384174</td>\n",
       "      <td>0.014104</td>\n",
       "      <td>0.032599</td>\n",
       "      <td>0.212953</td>\n",
       "      <td>5.896712</td>\n",
       "      <td>0.918298</td>\n",
       "      <td>car</td>\n",
       "    </tr>\n",
       "    <tr>\n",
       "      <th>1</th>\n",
       "      <td>0.145558</td>\n",
       "      <td>-0.549001</td>\n",
       "      <td>0.315767</td>\n",
       "      <td>0.022043</td>\n",
       "      <td>0.024087</td>\n",
       "      <td>0.209872</td>\n",
       "      <td>6.891665</td>\n",
       "      <td>0.890564</td>\n",
       "      <td>car</td>\n",
       "    </tr>\n",
       "    <tr>\n",
       "      <th>2</th>\n",
       "      <td>0.131640</td>\n",
       "      <td>-0.550599</td>\n",
       "      <td>0.237944</td>\n",
       "      <td>0.029397</td>\n",
       "      <td>0.016481</td>\n",
       "      <td>0.205640</td>\n",
       "      <td>5.505644</td>\n",
       "      <td>1.006707</td>\n",
       "      <td>car</td>\n",
       "    </tr>\n",
       "    <tr>\n",
       "      <th>3</th>\n",
       "      <td>0.109519</td>\n",
       "      <td>-0.552682</td>\n",
       "      <td>0.153242</td>\n",
       "      <td>0.035762</td>\n",
       "      <td>0.010158</td>\n",
       "      <td>0.200435</td>\n",
       "      <td>4.220319</td>\n",
       "      <td>1.314102</td>\n",
       "      <td>car</td>\n",
       "    </tr>\n",
       "    <tr>\n",
       "      <th>4</th>\n",
       "      <td>0.079650</td>\n",
       "      <td>-0.554942</td>\n",
       "      <td>0.064491</td>\n",
       "      <td>0.040765</td>\n",
       "      <td>0.005447</td>\n",
       "      <td>0.194477</td>\n",
       "      <td>4.958700</td>\n",
       "      <td>1.252351</td>\n",
       "      <td>car</td>\n",
       "    </tr>\n",
       "  </tbody>\n",
       "</table>\n",
       "</div>"
      ],
      "text/plain": [
       "         AX        AY        AZ        GX        GY        GZ      mAcc  \\\n",
       "0  0.151147 -0.548212  0.384174  0.014104  0.032599  0.212953  5.896712   \n",
       "1  0.145558 -0.549001  0.315767  0.022043  0.024087  0.209872  6.891665   \n",
       "2  0.131640 -0.550599  0.237944  0.029397  0.016481  0.205640  5.505644   \n",
       "3  0.109519 -0.552682  0.153242  0.035762  0.010158  0.200435  4.220319   \n",
       "4  0.079650 -0.554942  0.064491  0.040765  0.005447  0.194477  4.958700   \n",
       "\n",
       "      mGyro activity  \n",
       "0  0.918298      car  \n",
       "1  0.890564      car  \n",
       "2  1.006707      car  \n",
       "3  1.314102      car  \n",
       "4  1.252351      car  "
      ]
     },
     "execution_count": 39,
     "metadata": {},
     "output_type": "execute_result"
    }
   ],
   "source": [
    "path_acc = os.getcwd() + '/data/Car28march/*/*AccelerometerLinear.csv'  \n",
    "path_gyro= os.getcwd() + '/data/Car28march/*/*Gyroscope.csv' \n",
    "acc_files = glob.glob(path_acc)\n",
    "gyro_files= glob.glob(path_gyro)\n",
    "# car_df= read_files(acc_files[0], gyro_files[0], 'car')\n",
    "# n = len(car_df)\n",
    "# car_df = car_df[350:n-500]\n",
    "for acc_file, gyro_file in zip(acc_files, gyro_files) :\n",
    "    df_this = read_files(acc_file, gyro_file, 'car')\n",
    "    n = len(df_this)\n",
    "    df_this = df_this[350 : n-1500]\n",
    "    car_df = pd.concat([car_df, df_this])\n",
    "car_df.reset_index(drop = True, inplace = True)\n",
    "print(car_df.shape)\n",
    "car_df.head()"
   ]
  },
  {
   "cell_type": "code",
   "execution_count": 40,
   "metadata": {},
   "outputs": [
    {
     "name": "stdout",
     "output_type": "stream",
     "text": [
      "(163767, 9)\n"
     ]
    },
    {
     "data": {
      "text/html": [
       "<div>\n",
       "<style>\n",
       "    .dataframe thead tr:only-child th {\n",
       "        text-align: right;\n",
       "    }\n",
       "\n",
       "    .dataframe thead th {\n",
       "        text-align: left;\n",
       "    }\n",
       "\n",
       "    .dataframe tbody tr th {\n",
       "        vertical-align: top;\n",
       "    }\n",
       "</style>\n",
       "<table border=\"1\" class=\"dataframe\">\n",
       "  <thead>\n",
       "    <tr style=\"text-align: right;\">\n",
       "      <th></th>\n",
       "      <th>AX</th>\n",
       "      <th>AY</th>\n",
       "      <th>AZ</th>\n",
       "      <th>GX</th>\n",
       "      <th>GY</th>\n",
       "      <th>GZ</th>\n",
       "      <th>mAcc</th>\n",
       "      <th>mGyro</th>\n",
       "      <th>activity</th>\n",
       "    </tr>\n",
       "  </thead>\n",
       "  <tbody>\n",
       "    <tr>\n",
       "      <th>0</th>\n",
       "      <td>0.359546</td>\n",
       "      <td>-0.533481</td>\n",
       "      <td>0.912715</td>\n",
       "      <td>-0.803297</td>\n",
       "      <td>-0.122332</td>\n",
       "      <td>-0.178516</td>\n",
       "      <td>2.181390</td>\n",
       "      <td>1.577161</td>\n",
       "      <td>cycle</td>\n",
       "    </tr>\n",
       "    <tr>\n",
       "      <th>1</th>\n",
       "      <td>0.329619</td>\n",
       "      <td>-0.505372</td>\n",
       "      <td>0.967403</td>\n",
       "      <td>-0.710067</td>\n",
       "      <td>-0.081461</td>\n",
       "      <td>-0.171987</td>\n",
       "      <td>1.066422</td>\n",
       "      <td>1.361305</td>\n",
       "      <td>cycle</td>\n",
       "    </tr>\n",
       "    <tr>\n",
       "      <th>2</th>\n",
       "      <td>0.300126</td>\n",
       "      <td>-0.476127</td>\n",
       "      <td>1.017169</td>\n",
       "      <td>-0.609237</td>\n",
       "      <td>-0.039031</td>\n",
       "      <td>-0.163752</td>\n",
       "      <td>4.193872</td>\n",
       "      <td>1.158954</td>\n",
       "      <td>cycle</td>\n",
       "    </tr>\n",
       "    <tr>\n",
       "      <th>3</th>\n",
       "      <td>0.271456</td>\n",
       "      <td>-0.446223</td>\n",
       "      <td>1.061183</td>\n",
       "      <td>-0.501821</td>\n",
       "      <td>0.004373</td>\n",
       "      <td>-0.153752</td>\n",
       "      <td>2.663096</td>\n",
       "      <td>1.137691</td>\n",
       "      <td>cycle</td>\n",
       "    </tr>\n",
       "    <tr>\n",
       "      <th>4</th>\n",
       "      <td>0.243963</td>\n",
       "      <td>-0.415988</td>\n",
       "      <td>1.098812</td>\n",
       "      <td>-0.388954</td>\n",
       "      <td>0.048159</td>\n",
       "      <td>-0.141963</td>\n",
       "      <td>1.326814</td>\n",
       "      <td>1.035640</td>\n",
       "      <td>cycle</td>\n",
       "    </tr>\n",
       "  </tbody>\n",
       "</table>\n",
       "</div>"
      ],
      "text/plain": [
       "         AX        AY        AZ        GX        GY        GZ      mAcc  \\\n",
       "0  0.359546 -0.533481  0.912715 -0.803297 -0.122332 -0.178516  2.181390   \n",
       "1  0.329619 -0.505372  0.967403 -0.710067 -0.081461 -0.171987  1.066422   \n",
       "2  0.300126 -0.476127  1.017169 -0.609237 -0.039031 -0.163752  4.193872   \n",
       "3  0.271456 -0.446223  1.061183 -0.501821  0.004373 -0.153752  2.663096   \n",
       "4  0.243963 -0.415988  1.098812 -0.388954  0.048159 -0.141963  1.326814   \n",
       "\n",
       "      mGyro activity  \n",
       "0  1.577161    cycle  \n",
       "1  1.361305    cycle  \n",
       "2  1.158954    cycle  \n",
       "3  1.137691    cycle  \n",
       "4  1.035640    cycle  "
      ]
     },
     "execution_count": 40,
     "metadata": {},
     "output_type": "execute_result"
    }
   ],
   "source": [
    "path_acc = os.getcwd() + '/data/Cycling/*/*AccelerometerLinear.csv'  \n",
    "path_gyro= os.getcwd() + '/data/Cycling/*/*Gyroscope.csv' \n",
    "acc_files = glob.glob(path_acc)\n",
    "gyro_files= glob.glob(path_gyro)\n",
    "cycle_df= read_files(acc_files[0], gyro_files[0], 'cycle')\n",
    "n = len(cycle_df)\n",
    "cycle_df = cycle_df[1350:n-1500]\n",
    "for acc_file, gyro_file in zip(acc_files, gyro_files) :\n",
    "    df_this = read_files(acc_file, gyro_file, 'car')\n",
    "    n = len(df_this)\n",
    "    df_this = df_this[1350 : n-1500]\n",
    "    cycle_df = pd.concat([cycle_df, df_this])\n",
    "cycle_df.reset_index(drop = True, inplace = True)\n",
    "cycle_df.dropna()\n",
    "print(cycle_df.shape)\n",
    "cycle_df.head()"
   ]
  },
  {
   "cell_type": "code",
   "execution_count": 41,
   "metadata": {
    "collapsed": true
   },
   "outputs": [],
   "source": [
    "segment_size = 200"
   ]
  },
  {
   "cell_type": "code",
   "execution_count": 42,
   "metadata": {},
   "outputs": [
    {
     "data": {
      "text/plain": [
       "(3923, 200, 12)"
      ]
     },
     "execution_count": 42,
     "metadata": {},
     "output_type": "execute_result"
    }
   ],
   "source": [
    "#data segmentation\n",
    "walk_segments, walk_labels = segmentation(walk_df, segment_size)\n",
    "walk_segments = np.transpose(walk_segments, (0, 2, 1))\n",
    "np.array(walk_segments).shape"
   ]
  },
  {
   "cell_type": "code",
   "execution_count": 43,
   "metadata": {},
   "outputs": [
    {
     "data": {
      "text/plain": [
       "array([-0.41707921, -0.12513538, -1.3109577 ,  0.06046419, -5.8810642 ,\n",
       "        0.77674709,  8.24506722,  3.01466785, -1.81956451, -2.93379932,\n",
       "        0.24094127, -7.93881995])"
      ]
     },
     "execution_count": 43,
     "metadata": {},
     "output_type": "execute_result"
    }
   ],
   "source": [
    "walk_segments[0][0]"
   ]
  },
  {
   "cell_type": "code",
   "execution_count": 44,
   "metadata": {},
   "outputs": [
    {
     "data": {
      "text/plain": [
       "(5958, 200, 12)"
      ]
     },
     "execution_count": 44,
     "metadata": {},
     "output_type": "execute_result"
    }
   ],
   "source": [
    "#data segmentation\n",
    "bike_segments, bike_labels = segmentation(bike_df, segment_size)\n",
    "bike_segments = np.transpose(bike_segments, (0, 2, 1))\n",
    "np.array(bike_segments).shape"
   ]
  },
  {
   "cell_type": "code",
   "execution_count": 45,
   "metadata": {},
   "outputs": [
    {
     "data": {
      "text/plain": [
       "(6053, 200, 12)"
      ]
     },
     "execution_count": 45,
     "metadata": {},
     "output_type": "execute_result"
    }
   ],
   "source": [
    "#data segmentation\n",
    "car_segments, car_labels = segmentation(car_df, segment_size)\n",
    "car_segments = np.transpose(car_segments, (0, 2, 1))\n",
    "np.array(car_segments).shape"
   ]
  },
  {
   "cell_type": "code",
   "execution_count": 46,
   "metadata": {},
   "outputs": [
    {
     "data": {
      "text/plain": [
       "(3272, 200, 12)"
      ]
     },
     "execution_count": 46,
     "metadata": {},
     "output_type": "execute_result"
    }
   ],
   "source": [
    "#data segmentation\n",
    "cycle_segments, cycle_labels = segmentation(cycle_df, segment_size)\n",
    "cycle_segments = np.transpose(cycle_segments, (0, 2, 1))\n",
    "np.array(cycle_segments).shape"
   ]
  },
  {
   "cell_type": "code",
   "execution_count": 47,
   "metadata": {
    "collapsed": true
   },
   "outputs": [],
   "source": [
    "train = np.concatenate((bike_segments, car_segments, walk_segments, cycle_segments), axis=0)"
   ]
  },
  {
   "cell_type": "code",
   "execution_count": 48,
   "metadata": {},
   "outputs": [
    {
     "data": {
      "text/plain": [
       "(19206, 200, 12)"
      ]
     },
     "execution_count": 48,
     "metadata": {},
     "output_type": "execute_result"
    }
   ],
   "source": [
    "np.array(train).shape"
   ]
  },
  {
   "cell_type": "code",
   "execution_count": 49,
   "metadata": {},
   "outputs": [
    {
     "data": {
      "text/plain": [
       "(19206, 1)"
      ]
     },
     "execution_count": 49,
     "metadata": {},
     "output_type": "execute_result"
    }
   ],
   "source": [
    "label1 = [0]*len(bike_segments)\n",
    "label2 = [1]*len(car_segments)\n",
    "label3 = [2]*len(walk_segments)\n",
    "label4 = [3]*len(cycle_segments)\n",
    "label = label1 + label2 + label3 + label4\n",
    "np.array(label).shape\n",
    "label = np.array(label).reshape(len(label), 1) \n",
    "label.shape"
   ]
  },
  {
   "cell_type": "code",
   "execution_count": 50,
   "metadata": {
    "collapsed": true
   },
   "outputs": [],
   "source": [
    "RANDOM_SEED = 42\n",
    "X_train, X_test, y_train, y_test = train_test_split(train, label, test_size=0.2, random_state=RANDOM_SEED)"
   ]
  },
  {
   "cell_type": "code",
   "execution_count": 51,
   "metadata": {
    "collapsed": true
   },
   "outputs": [],
   "source": [
    "# X_train = shuffle(X_train)"
   ]
  },
  {
   "cell_type": "code",
   "execution_count": 52,
   "metadata": {},
   "outputs": [
    {
     "data": {
      "text/plain": [
       "(15364, 200, 12)"
      ]
     },
     "execution_count": 52,
     "metadata": {},
     "output_type": "execute_result"
    }
   ],
   "source": [
    "np.array(X_train).shape\n"
   ]
  },
  {
   "cell_type": "code",
   "execution_count": 53,
   "metadata": {},
   "outputs": [
    {
     "name": "stdout",
     "output_type": "stream",
     "text": [
      "Some useful info to get an insight on dataset's shape and normalisation:\n",
      "(X shape, y shape, every X's mean, every X's standard deviation)\n",
      "(3842, 200, 12) (3842, 1) 0.0364453092924 1.67283632712\n",
      "The dataset is therefore properly normalised, as expected, but not yet one-hot encoded.\n"
     ]
    }
   ],
   "source": [
    "# Input Data \n",
    "\n",
    "training_data_count = len(X_train)  # training series (with 50% overlap between each serie)\n",
    "test_data_count = len(X_test)  #  testing series\n",
    "n_steps = len(X_train[0])  # 400 timesteps per series\n",
    "n_input = len(X_train[0][0])  # 8 input pa.90618rameters per timestep\n",
    "\n",
    "\n",
    "# LSTM Neural Network's internal structure\n",
    "\n",
    "n_hidden = 32 # Hidden layer num of features\n",
    "n_classes = 4 # Total classes (should go up, or should go down)\n",
    "\n",
    "\n",
    "# Training \n",
    "\n",
    "learning_rate = 0.005\n",
    "lambda_loss_amount = 0.0015\n",
    "training_iters = training_data_count * 100  # Loop 300 times on the dataset\n",
    "batch_size = 1500\n",
    "display_iter = 30000  # To show test set accuracy during training\n",
    "\n",
    "tf.reset_default_graph()\n",
    "# Some debugging info\n",
    "\n",
    "print(\"Some useful info to get an insight on dataset's shape and normalisation:\")\n",
    "print(\"(X shape, y shape, every X's mean, every X's standard deviation)\")\n",
    "print(np.array(X_test).shape, np.array(y_test).shape, np.mean(X_test), np.std(X_test))\n",
    "print(\"The dataset is therefore properly normalised, as expected, but not yet one-hot encoded.\")"
   ]
  },
  {
   "cell_type": "code",
   "execution_count": 54,
   "metadata": {
    "collapsed": true
   },
   "outputs": [],
   "source": [
    "def LSTM_RNN(_X, _weights, _biases):\n",
    "    _X = tf.transpose(_X, [1, 0, 2])  # permute n_steps and batch_size\n",
    "    # Reshape to prepare input to hidden activation\n",
    "    _X = tf.reshape(_X, [-1, n_input]) \n",
    "    # new shape: (n_steps*batch_size, n_input)\n",
    "    \n",
    "    # ReLU activation, thanks to Yu Zhao for adding this improvement here:\n",
    "    _X = tf.nn.relu(tf.matmul(_X, _weights['hidden']) + _biases['hidden'])\n",
    "    # Split data because rnn cell needs a list of inputs for the RNN inner loop\n",
    "    _X = tf.split(_X, n_steps, 0) \n",
    "    # new shape: n_steps * (batch_size, n_hidden)\n",
    "\n",
    "    # Define two stacked LSTM cells (two recurrent layers deep) with tensorflow\n",
    "    lstm_cell_1 = tf.contrib.rnn.BasicLSTMCell(n_hidden, forget_bias=1.0, state_is_tuple=True)\n",
    "    lstm_cell_2 = tf.contrib.rnn.BasicLSTMCell(n_hidden, forget_bias=1.0, state_is_tuple=True)\n",
    "    lstm_cells = tf.contrib.rnn.MultiRNNCell([lstm_cell_1, lstm_cell_2], state_is_tuple=True)\n",
    "    # Get LSTM cell output\n",
    "#     tf.reset_default_graph()\n",
    "    outputs, states = tf.contrib.rnn.static_rnn(lstm_cells, _X, dtype=tf.float32)\n",
    "    lstm_last_output = outputs[-1]\n",
    "    \n",
    "    # Linear activation\n",
    "    return tf.matmul(lstm_last_output, _weights['out']) + _biases['out']\n",
    "\n",
    "def extract_batch_size(_train, step, batch_size): \n",
    "    \n",
    "    shape = list(_train.shape)\n",
    "    shape[0] = batch_size\n",
    "    batch_s = np.empty(shape)\n",
    "\n",
    "    for i in range(batch_size):\n",
    "        # Loop index\n",
    "        index = ((step-1)*batch_size + i) % len(_train)\n",
    "        batch_s[i] = _train[index] \n",
    "\n",
    "    return batch_s\n",
    "\n",
    "\n",
    "def one_hot(y_, n_classes=n_classes):\n",
    "    \n",
    "    y_ = y_.reshape(len(y_))\n",
    "    return np.eye(n_classes)[np.array(y_, dtype=np.int32)]  # Returns FLOATS"
   ]
  },
  {
   "cell_type": "code",
   "execution_count": 55,
   "metadata": {
    "scrolled": true
   },
   "outputs": [],
   "source": [
    "# Graph input/output\n",
    "x = tf.placeholder(tf.float32, [None, n_steps, n_input])\n",
    "y = tf.placeholder(tf.float32, [None, n_classes])\n",
    "\n",
    "# Graph weights\n",
    "weights = {\n",
    "    'hidden': tf.Variable(tf.random_normal([n_input, n_hidden])), # Hidden layer weights\n",
    "    'out': tf.Variable(tf.random_normal([n_hidden, n_classes], mean=1.0))\n",
    "}\n",
    "biases = {\n",
    "    'hidden': tf.Variable(tf.random_normal([n_hidden])),\n",
    "    'out': tf.Variable(tf.random_normal([n_classes]))\n",
    "}\n",
    "\n",
    "pred = LSTM_RNN(x, weights, biases)\n",
    "\n",
    "# Loss, optimizer and evaluation\n",
    "l2 = lambda_loss_amount * sum(\n",
    "    tf.nn.l2_loss(tf_var) for tf_var in tf.trainable_variables()\n",
    ") # L2 loss prevents this overkill neural network to overfit the data\n",
    "cost = tf.reduce_mean(tf.nn.softmax_cross_entropy_with_logits(labels=y, logits=pred)) + l2 # Softmax loss\n",
    "optimizer = tf.train.AdamOptimizer(learning_rate=learning_rate).minimize(cost) # Adam Optimizer\n",
    "\n",
    "correct_pred = tf.equal(tf.argmax(pred,1), tf.argmax(y,1))\n",
    "accuracy = tf.reduce_mean(tf.cast(correct_pred, tf.float32))"
   ]
  },
  {
   "cell_type": "code",
   "execution_count": 56,
   "metadata": {
    "scrolled": true
   },
   "outputs": [
    {
     "name": "stderr",
     "output_type": "stream",
     "text": [
      "/home/vicky/anaconda3/lib/python3.6/site-packages/tensorflow/python/client/session.py:1662: UserWarning: An interactive session is already active. This can cause out-of-memory errors in some cases. You must explicitly call `InteractiveSession.close()` to release resources held by the other session(s).\n",
      "  warnings.warn('An interactive session is already active. This can '\n"
     ]
    },
    {
     "name": "stdout",
     "output_type": "stream",
     "text": [
      "Training iter #1500:   Batch Loss = 3.848839, Accuracy = 0.3213333189487457\n",
      "PERFORMANCE ON TEST SET: Batch Loss = 2.442153215408325, Accuracy = 0.3240499794483185\n",
      "Training iter #30000:   Batch Loss = 1.121370, Accuracy = 0.7913333177566528\n",
      "PERFORMANCE ON TEST SET: Batch Loss = 1.0877007246017456, Accuracy = 0.8131181597709656\n",
      "Training iter #60000:   Batch Loss = 0.999208, Accuracy = 0.8286666870117188\n",
      "PERFORMANCE ON TEST SET: Batch Loss = 0.9726612567901611, Accuracy = 0.8464341759681702\n",
      "Training iter #90000:   Batch Loss = 0.878821, Accuracy = 0.8686666488647461\n",
      "PERFORMANCE ON TEST SET: Batch Loss = 0.869045615196228, Accuracy = 0.869338870048523\n",
      "Training iter #120000:   Batch Loss = 0.810191, Accuracy = 0.8866666555404663\n",
      "PERFORMANCE ON TEST SET: Batch Loss = 0.8352649211883545, Accuracy = 0.8714211583137512\n",
      "Training iter #150000:   Batch Loss = 0.749589, Accuracy = 0.8939999938011169\n",
      "PERFORMANCE ON TEST SET: Batch Loss = 0.7645246982574463, Accuracy = 0.8888599872589111\n",
      "Training iter #180000:   Batch Loss = 0.733706, Accuracy = 0.8846666812896729\n",
      "PERFORMANCE ON TEST SET: Batch Loss = 0.7225308418273926, Accuracy = 0.8951067328453064\n",
      "Training iter #210000:   Batch Loss = 0.684553, Accuracy = 0.8993333578109741\n",
      "PERFORMANCE ON TEST SET: Batch Loss = 0.6874672174453735, Accuracy = 0.8979697823524475\n",
      "Training iter #240000:   Batch Loss = 0.654021, Accuracy = 0.9100000262260437\n",
      "PERFORMANCE ON TEST SET: Batch Loss = 0.6508440971374512, Accuracy = 0.906298816204071\n",
      "Training iter #270000:   Batch Loss = 0.615808, Accuracy = 0.9079999923706055\n",
      "PERFORMANCE ON TEST SET: Batch Loss = 0.6204438209533691, Accuracy = 0.9141072630882263\n",
      "Training iter #300000:   Batch Loss = 0.582234, Accuracy = 0.9133333563804626\n",
      "PERFORMANCE ON TEST SET: Batch Loss = 0.6016248464584351, Accuracy = 0.910463273525238\n",
      "Training iter #330000:   Batch Loss = 0.531941, Accuracy = 0.9346666932106018\n",
      "PERFORMANCE ON TEST SET: Batch Loss = 0.5568581819534302, Accuracy = 0.9232170581817627\n",
      "Training iter #360000:   Batch Loss = 0.516262, Accuracy = 0.9346666932106018\n",
      "PERFORMANCE ON TEST SET: Batch Loss = 0.5456228852272034, Accuracy = 0.9247787594795227\n",
      "Training iter #390000:   Batch Loss = 0.523460, Accuracy = 0.9226666688919067\n",
      "PERFORMANCE ON TEST SET: Batch Loss = 0.506711483001709, Accuracy = 0.934148907661438\n",
      "Training iter #420000:   Batch Loss = 0.502123, Accuracy = 0.9226666688919067\n",
      "PERFORMANCE ON TEST SET: Batch Loss = 0.478057324886322, Accuracy = 0.9403956532478333\n",
      "Training iter #450000:   Batch Loss = 0.438309, Accuracy = 0.9513333439826965\n",
      "PERFORMANCE ON TEST SET: Batch Loss = 0.4575166702270508, Accuracy = 0.9448204040527344\n",
      "Training iter #480000:   Batch Loss = 0.419030, Accuracy = 0.9526666402816772\n",
      "PERFORMANCE ON TEST SET: Batch Loss = 0.44089263677597046, Accuracy = 0.9429984092712402\n",
      "Training iter #510000:   Batch Loss = 0.410470, Accuracy = 0.9513333439826965\n",
      "PERFORMANCE ON TEST SET: Batch Loss = 0.41533011198043823, Accuracy = 0.9492452144622803\n",
      "Training iter #540000:   Batch Loss = 0.422472, Accuracy = 0.9433333277702332\n",
      "PERFORMANCE ON TEST SET: Batch Loss = 0.428048700094223, Accuracy = 0.9453409910202026\n",
      "Training iter #570000:   Batch Loss = 0.410101, Accuracy = 0.9513333439826965\n",
      "PERFORMANCE ON TEST SET: Batch Loss = 0.3980293571949005, Accuracy = 0.950286328792572\n",
      "Training iter #600000:   Batch Loss = 0.393531, Accuracy = 0.9539999961853027\n",
      "PERFORMANCE ON TEST SET: Batch Loss = 0.39201492071151733, Accuracy = 0.9497657418251038\n",
      "Training iter #630000:   Batch Loss = 0.361693, Accuracy = 0.9513333439826965\n",
      "PERFORMANCE ON TEST SET: Batch Loss = 0.37538942694664, Accuracy = 0.9515877366065979\n",
      "Training iter #660000:   Batch Loss = 0.354068, Accuracy = 0.9526666402816772\n",
      "PERFORMANCE ON TEST SET: Batch Loss = 0.3678531050682068, Accuracy = 0.950286328792572\n",
      "Training iter #690000:   Batch Loss = 0.345233, Accuracy = 0.9486666917800903\n",
      "PERFORMANCE ON TEST SET: Batch Loss = 0.343433141708374, Accuracy = 0.9547110795974731\n",
      "Training iter #720000:   Batch Loss = 0.359404, Accuracy = 0.9380000233650208\n",
      "PERFORMANCE ON TEST SET: Batch Loss = 0.3482871651649475, Accuracy = 0.9513274431228638\n",
      "Training iter #750000:   Batch Loss = 0.315365, Accuracy = 0.9553333520889282\n",
      "PERFORMANCE ON TEST SET: Batch Loss = 0.33501869440078735, Accuracy = 0.9515877366065979\n",
      "Training iter #780000:   Batch Loss = 0.417689, Accuracy = 0.9259999990463257\n",
      "PERFORMANCE ON TEST SET: Batch Loss = 1.0951173305511475, Accuracy = 0.8219677209854126\n",
      "Training iter #810000:   Batch Loss = 0.393853, Accuracy = 0.9440000057220459\n",
      "PERFORMANCE ON TEST SET: Batch Loss = 0.41790494322776794, Accuracy = 0.9333680272102356\n",
      "Training iter #840000:   Batch Loss = 0.331169, Accuracy = 0.9573333263397217\n",
      "PERFORMANCE ON TEST SET: Batch Loss = 0.3557377755641937, Accuracy = 0.9479438066482544\n",
      "Training iter #870000:   Batch Loss = 0.331110, Accuracy = 0.9606666564941406\n",
      "PERFORMANCE ON TEST SET: Batch Loss = 0.3344860076904297, Accuracy = 0.9539302587509155\n",
      "Training iter #900000:   Batch Loss = 0.329598, Accuracy = 0.95333331823349\n",
      "PERFORMANCE ON TEST SET: Batch Loss = 0.3247557282447815, Accuracy = 0.9528891444206238\n",
      "Training iter #930000:   Batch Loss = 0.309546, Accuracy = 0.9580000042915344\n",
      "PERFORMANCE ON TEST SET: Batch Loss = 0.31691980361938477, Accuracy = 0.9500260353088379\n",
      "Training iter #960000:   Batch Loss = 0.284959, Accuracy = 0.9646666646003723\n",
      "PERFORMANCE ON TEST SET: Batch Loss = 0.3013065457344055, Accuracy = 0.9562727808952332\n",
      "Training iter #990000:   Batch Loss = 0.314870, Accuracy = 0.9453333616256714\n",
      "PERFORMANCE ON TEST SET: Batch Loss = 0.31743741035461426, Accuracy = 0.9476835131645203\n",
      "Training iter #1020000:   Batch Loss = 0.282981, Accuracy = 0.9573333263397217\n",
      "PERFORMANCE ON TEST SET: Batch Loss = 0.30053162574768066, Accuracy = 0.9531493782997131\n",
      "Training iter #1050000:   Batch Loss = 0.303609, Accuracy = 0.9419999718666077\n",
      "PERFORMANCE ON TEST SET: Batch Loss = 0.2858426868915558, Accuracy = 0.9565330743789673\n",
      "Training iter #1080000:   Batch Loss = 0.254413, Accuracy = 0.9646666646003723\n",
      "PERFORMANCE ON TEST SET: Batch Loss = 0.2804659605026245, Accuracy = 0.957574188709259\n",
      "Training iter #1110000:   Batch Loss = 0.266393, Accuracy = 0.9539999961853027\n",
      "PERFORMANCE ON TEST SET: Batch Loss = 0.30284634232521057, Accuracy = 0.9469026327133179\n",
      "Training iter #1140000:   Batch Loss = 0.246667, Accuracy = 0.9700000286102295\n",
      "PERFORMANCE ON TEST SET: Batch Loss = 0.2748059928417206, Accuracy = 0.956012487411499\n",
      "Training iter #1170000:   Batch Loss = 0.329204, Accuracy = 0.9386666417121887\n",
      "PERFORMANCE ON TEST SET: Batch Loss = 0.33852094411849976, Accuracy = 0.9315460920333862\n",
      "Training iter #1200000:   Batch Loss = 0.308328, Accuracy = 0.949999988079071\n",
      "PERFORMANCE ON TEST SET: Batch Loss = 0.2862747609615326, Accuracy = 0.9536699652671814\n",
      "Training iter #1230000:   Batch Loss = 0.260981, Accuracy = 0.9580000042915344\n",
      "PERFORMANCE ON TEST SET: Batch Loss = 0.27155157923698425, Accuracy = 0.9580947160720825\n",
      "Training iter #1260000:   Batch Loss = 0.247542, Accuracy = 0.9646666646003723\n",
      "PERFORMANCE ON TEST SET: Batch Loss = 0.2640531063079834, Accuracy = 0.9604372978210449\n",
      "Training iter #1290000:   Batch Loss = 0.244271, Accuracy = 0.9660000205039978\n",
      "PERFORMANCE ON TEST SET: Batch Loss = 0.2556731700897217, Accuracy = 0.9596564173698425\n",
      "Training iter #1320000:   Batch Loss = 0.270104, Accuracy = 0.9466666579246521\n",
      "PERFORMANCE ON TEST SET: Batch Loss = 0.26460719108581543, Accuracy = 0.954450786113739\n",
      "Training iter #1350000:   Batch Loss = 0.239225, Accuracy = 0.9639999866485596\n",
      "PERFORMANCE ON TEST SET: Batch Loss = 0.24716494977474213, Accuracy = 0.9588755965232849\n",
      "Training iter #1380000:   Batch Loss = 0.238583, Accuracy = 0.9653333425521851\n",
      "PERFORMANCE ON TEST SET: Batch Loss = 0.25191858410835266, Accuracy = 0.9622592329978943\n",
      "Training iter #1410000:   Batch Loss = 0.213585, Accuracy = 0.9739999771118164\n",
      "PERFORMANCE ON TEST SET: Batch Loss = 0.24372676014900208, Accuracy = 0.9625195264816284\n",
      "Training iter #1440000:   Batch Loss = 0.225725, Accuracy = 0.9673333168029785\n",
      "PERFORMANCE ON TEST SET: Batch Loss = 0.23437318205833435, Accuracy = 0.9630400538444519\n",
      "Training iter #1470000:   Batch Loss = 0.215876, Accuracy = 0.972000002861023\n"
     ]
    },
    {
     "name": "stdout",
     "output_type": "stream",
     "text": [
      "PERFORMANCE ON TEST SET: Batch Loss = 0.24036377668380737, Accuracy = 0.9619989395141602\n",
      "Training iter #1500000:   Batch Loss = 0.191515, Accuracy = 0.9786666631698608\n",
      "PERFORMANCE ON TEST SET: Batch Loss = 0.2279016077518463, Accuracy = 0.9643414616584778\n",
      "Training iter #1530000:   Batch Loss = 0.233121, Accuracy = 0.9593333601951599\n",
      "PERFORMANCE ON TEST SET: Batch Loss = 0.2224844992160797, Accuracy = 0.9661634564399719\n",
      "Optimization Finished!\n",
      "FINAL RESULT: Batch Loss = 0.2321251928806305, Accuracy = 0.964862048625946\n"
     ]
    }
   ],
   "source": [
    "# To keep track of training's performance\n",
    "test_losses = []\n",
    "test_accuracies = []\n",
    "train_losses = []\n",
    "train_accuracies = []\n",
    "\n",
    "# Launch the graph\n",
    "sess = tf.InteractiveSession(config=tf.ConfigProto(log_device_placement=True))\n",
    "init = tf.global_variables_initializer()\n",
    "sess.run(init)\n",
    "\n",
    "# Perform Training steps with \"batch_size\" amount of example data at each loop\n",
    "step = 1\n",
    "while step * batch_size <= training_iters:\n",
    "    batch_xs =         extract_batch_size(X_train, step, batch_size)\n",
    "    batch_ys = one_hot(extract_batch_size(y_train, step, batch_size))\n",
    "\n",
    "    # Fit training using batch data\n",
    "    _, loss, acc = sess.run(\n",
    "        [optimizer, cost, accuracy],\n",
    "        feed_dict={\n",
    "            x: batch_xs, \n",
    "            y: batch_ys\n",
    "        }\n",
    "    )\n",
    "    train_losses.append(loss)\n",
    "    train_accuracies.append(acc)\n",
    "    \n",
    "    # Evaluate network only at some steps for faster training: \n",
    "    if (step*batch_size % display_iter == 0) or (step == 1) or (step * batch_size > training_iters):\n",
    "        \n",
    "        # To not spam console, show training accuracy/loss in this \"if\"\n",
    "        print(\"Training iter #\" + str(step*batch_size) + \\\n",
    "              \":   Batch Loss = \" + \"{:.6f}\".format(loss) + \\\n",
    "              \", Accuracy = {}\".format(acc))\n",
    "        \n",
    "        # Evaluation on the test set (no learning made here - just evaluation for diagnosis)\n",
    "        loss, acc = sess.run(\n",
    "            [cost, accuracy], \n",
    "            feed_dict={\n",
    "                x: X_test,\n",
    "                y: one_hot(y_test)\n",
    "            }\n",
    "        )\n",
    "        test_losses.append(loss)\n",
    "        test_accuracies.append(acc)\n",
    "        print(\"PERFORMANCE ON TEST SET: \" + \\\n",
    "              \"Batch Loss = {}\".format(loss) + \\\n",
    "              \", Accuracy = {}\".format(acc))\n",
    "\n",
    "    step += 1\n",
    "\n",
    "print(\"Optimization Finished!\")\n",
    "\n",
    "# Accuracy for test data\n",
    "\n",
    "one_hot_predictions, accuracy, final_loss = sess.run(\n",
    "    [pred, accuracy, cost],\n",
    "    feed_dict={\n",
    "        x: X_test,\n",
    "        y: one_hot(y_test)\n",
    "    }\n",
    ")\n",
    "\n",
    "test_losses.append(final_loss)\n",
    "test_accuracies.append(accuracy)\n",
    "\n",
    "print(\"FINAL RESULT: \" + \\\n",
    "      \"Batch Loss = {}\".format(final_loss) + \\\n",
    "      \", Accuracy = {}\".format(accuracy))"
   ]
  },
  {
   "cell_type": "code",
   "execution_count": 58,
   "metadata": {},
   "outputs": [
    {
     "name": "stderr",
     "output_type": "stream",
     "text": [
      "/home/vicky/anaconda3/lib/python3.6/site-packages/matplotlib/font_manager.py:1316: UserWarning: findfont: Font family ['Bitstream Vera Sans'] not found. Falling back to DejaVu Sans\n",
      "  (prop.get_family(), self.defaultFamily[fontext]))\n"
     ]
    },
    {
     "data": {
      "image/png": "[encoded data removed]",
      "text/plain": [
       "<matplotlib.figure.Figure at 0x7f072238d4e0>"
      ]
     },
     "metadata": {},
     "output_type": "display_data"
    }
   ],
   "source": [
    "# (Inline plots: )\n",
    "%matplotlib inline\n",
    "\n",
    "font = {\n",
    "    'family' : 'Bitstream Vera Sans',\n",
    "    'weight' : 'bold',\n",
    "    'size'   : 18\n",
    "}\n",
    "matplotlib.rc('font', **font)\n",
    "\n",
    "width = 12\n",
    "height = 12\n",
    "plt.figure(figsize=(width, height))\n",
    "\n",
    "indep_train_axis = np.array(range(batch_size, (len(train_losses)+1)*batch_size, batch_size))\n",
    "plt.plot(indep_train_axis, np.array(train_losses),     \"b--\", label=\"Train losses\")\n",
    "plt.plot(indep_train_axis, np.array(train_accuracies), \"g--\", label=\"Train accuracies\")\n",
    "\n",
    "indep_test_axis = np.append(\n",
    "    np.array(range(batch_size, len(test_losses)*display_iter, display_iter)[:-1]),\n",
    "    [training_iters]\n",
    ")\n",
    "plt.plot(indep_test_axis, np.array(test_losses),     \"b-\", label=\"Test losses\")\n",
    "plt.plot(indep_test_axis, np.array(test_accuracies), \"g-\", label=\"Test accuracies\")\n",
    "\n",
    "plt.title(\"Training session's progress over iterations\")\n",
    "plt.legend(loc='upper right', shadow=True)\n",
    "plt.ylabel('Training Progress (Loss or Accuracy values)')\n",
    "plt.xlabel('Training iteration')\n",
    "\n",
    "plt.show()"
   ]
  },
  {
   "cell_type": "code",
   "execution_count": 59,
   "metadata": {},
   "outputs": [
    {
     "name": "stdout",
     "output_type": "stream",
     "text": [
      "Testing Accuracy: 96.4862048625946%\n",
      "\n",
      "Precision: 96.51631183678217%\n",
      "Recall: 96.48620510150963%\n",
      "f1_score: 96.4934457120274%\n",
      "\n",
      "Confusion Matrix:\n",
      "[[1126   61    0    1]\n",
      " [  42 1173    0    2]\n",
      " [   0    6  822    0]\n",
      " [  16    3    4  586]]\n",
      "\n",
      "Confusion matrix (normalised to % of total test data):\n",
      "[[  2.93076515e+01   1.58771479e+00   0.00000000e+00   2.60281116e-02]\n",
      " [  1.09318066e+00   3.05309734e+01   0.00000000e+00   5.20562232e-02]\n",
      " [  0.00000000e+00   1.56168669e-01   2.13951073e+01   0.00000000e+00]\n",
      " [  4.16449785e-01   7.80843347e-02   1.04112446e-01   1.52524729e+01]]\n",
      "Note: training and testing data is not equally distributed amongst classes, \n",
      "so it is normal that more than a 6th of the data is correctly classifier in the last category.\n"
     ]
    },
    {
     "name": "stderr",
     "output_type": "stream",
     "text": [
      "/home/vicky/anaconda3/lib/python3.6/site-packages/matplotlib/font_manager.py:1316: UserWarning: findfont: Font family ['Bitstream Vera Sans'] not found. Falling back to DejaVu Sans\n",
      "  (prop.get_family(), self.defaultFamily[fontext]))\n"
     ]
    },
    {
     "data": {
      "image/png": "[encoded data removed]",
      "text/plain": [
       "<matplotlib.figure.Figure at 0x7f06f26b22b0>"
      ]
     },
     "metadata": {},
     "output_type": "display_data"
    }
   ],
   "source": [
    "# Results\n",
    "\n",
    "predictions = one_hot_predictions.argmax(1)\n",
    "\n",
    "print(\"Testing Accuracy: {}%\".format(100*accuracy))\n",
    "\n",
    "print(\"\")\n",
    "print(\"Precision: {}%\".format(100*metrics.precision_score(y_test, predictions, average=\"weighted\")))\n",
    "print(\"Recall: {}%\".format(100*metrics.recall_score(y_test, predictions, average=\"weighted\")))\n",
    "print(\"f1_score: {}%\".format(100*metrics.f1_score(y_test, predictions, average=\"weighted\")))\n",
    "\n",
    "print(\"\")\n",
    "print(\"Confusion Matrix:\")\n",
    "confusion_matrix = metrics.confusion_matrix(y_test, predictions)\n",
    "print(confusion_matrix)\n",
    "normalised_confusion_matrix = np.array(confusion_matrix, dtype=np.float32)/np.sum(confusion_matrix)*100\n",
    "\n",
    "print(\"\")\n",
    "print(\"Confusion matrix (normalised to % of total test data):\")\n",
    "print(normalised_confusion_matrix)\n",
    "print(\"Note: training and testing data is not equally distributed amongst classes, \")\n",
    "print(\"so it is normal that more than a 6th of the data is correctly classifier in the last category.\")\n",
    "\n",
    "# Plot Results: \n",
    "width = 12\n",
    "height = 12\n",
    "plt.figure(figsize=(width, height))\n",
    "plt.imshow(\n",
    "    normalised_confusion_matrix, \n",
    "    interpolation='nearest', \n",
    "    cmap=plt.cm.rainbow\n",
    ")\n",
    "plt.title(\"Confusion matrix \\n(normalised to % of total test data)\")\n",
    "plt.colorbar()\n",
    "tick_marks = np.arange(n_classes)\n",
    "plt.xticks(tick_marks, LABELS, rotation=45)\n",
    "plt.yticks(tick_marks, LABELS)\n",
    "plt.tight_layout()\n",
    "plt.ylabel('True label')\n",
    "plt.xlabel('Predicted label')\n",
    "plt.show()"
   ]
  },
  {
   "cell_type": "code",
   "execution_count": null,
   "metadata": {
    "collapsed": true
   },
   "outputs": [],
   "source": []
  },
  {
   "cell_type": "code",
   "execution_count": null,
   "metadata": {
    "collapsed": true
   },
   "outputs": [],
   "source": []
  },
  {
   "cell_type": "code",
   "execution_count": null,
   "metadata": {
    "collapsed": true
   },
   "outputs": [],
   "source": []
  }
 ],
 "metadata": {
  "kernelspec": {
   "display_name": "Python 3",
   "language": "python",
   "name": "python3"
  },
  "language_info": {
   "codemirror_mode": {
    "name": "ipython",
    "version": 3
   },
   "file_extension": ".py",
   "mimetype": "text/x-python",
   "name": "python",
   "nbconvert_exporter": "python",
   "pygments_lexer": "ipython3",
   "version": "3.6.3"
  }
 },
 "nbformat": 4,
 "nbformat_minor": 2
}
