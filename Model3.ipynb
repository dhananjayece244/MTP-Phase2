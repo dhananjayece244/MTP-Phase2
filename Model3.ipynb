{
 "cells": [
  {
   "cell_type": "code",
   "execution_count": 1,
   "metadata": {},
   "outputs": [
    {
     "name": "stderr",
     "output_type": "stream",
     "text": [
      "/home/vicky/anaconda3/lib/python3.6/site-packages/sklearn/cross_validation.py:41: DeprecationWarning: This module was deprecated in version 0.18 in favor of the model_selection module into which all the refactored classes and functions are moved. Also note that the interface of the new CV iterators are different from that of this module. This module will be removed in 0.20.\n",
      "  \"This module will be removed in 0.20.\", DeprecationWarning)\n"
     ]
    }
   ],
   "source": [
    "#DTW calculation\n",
    "\n",
    "import pandas as pd\n",
    "import numpy as np\n",
    "import os\n",
    "import glob \n",
    "import pickle\n",
    "from math import *\n",
    "import matplotlib.pyplot as plt\n",
    "from scipy import stats\n",
    "import seaborn as sns\n",
    "from pylab import rcParams\n",
    "from sklearn import metrics\n",
    "from sklearn.model_selection import train_test_split\n",
    "from scipy.ndimage import gaussian_filter\n",
    "from scipy.fftpack import fft\n",
    "from dtw import dtw\n",
    "from numpy import array, zeros, argmin, inf, ndim\n",
    "from scipy.spatial.distance import cdist\n",
    "from sklearn.metrics.pairwise import manhattan_distances\n",
    "from sklearn import svm\n",
    "from sklearn.ensemble import RandomForestClassifier\n",
    "from sklearn.cross_validation import cross_val_score\n",
    "from sklearn.metrics import accuracy_score\n",
    "# from quatrotate import qv_mult # this routine implements rotation via quaternion multiplication\n",
    "\n",
    "%matplotlib inline"
   ]
  },
  {
   "cell_type": "code",
   "execution_count": 186,
   "metadata": {
    "collapsed": true
   },
   "outputs": [],
   "source": [
    "def find_contiguous_colors(colors):\n",
    "    # finds the continuous segments of colors and returns those segments\n",
    "    segs = []\n",
    "    curr_seg = []\n",
    "    prev_color = ''\n",
    "    for c in colors:\n",
    "        if c == prev_color or prev_color == '':\n",
    "            curr_seg.append(c)\n",
    "        else:\n",
    "            segs.append(curr_seg)\n",
    "            curr_seg = []\n",
    "            curr_seg.append(c)\n",
    "        prev_color = c\n",
    "    segs.append(curr_seg) # the final one\n",
    "    return segs\n",
    " \n",
    "def plot_multicolored_lines(x,y,colors):\n",
    "    segments = find_contiguous_colors(colors)\n",
    "    plt.figure(figsize=(20,4))\n",
    "    start= 0\n",
    "    for seg in segments:\n",
    "        end = start + len(seg)\n",
    "        l, = plt.gca().plot(x[start-1:end+1],y[start-1:end+1],lw=2,c=seg[0]) \n",
    "        start = end"
   ]
  },
  {
   "cell_type": "code",
   "execution_count": 187,
   "metadata": {
    "collapsed": true
   },
   "outputs": [],
   "source": [
    "# Function to map the colors as a list from the input list of x variables\n",
    "def color_mapping(lst):\n",
    "    cols=[]\n",
    "    colors = {'ST':'blue', 'LT':'red','RT':'green'}\n",
    "    for l in lst:\n",
    "        cols.append(colors[l])      \n",
    "    return cols"
   ]
  },
  {
   "cell_type": "code",
   "execution_count": 188,
   "metadata": {
    "collapsed": true
   },
   "outputs": [],
   "source": [
    "def GaussianFilter(df, window_length):\n",
    "    df1 = df\n",
    "    \n",
    "    df1['AX'] = gaussian_filter(df['AX'], window_length)\n",
    "    df1['AY'] = gaussian_filter(df['AY'], window_length)\n",
    "    df1['AZ'] = gaussian_filter(df['AZ'], window_length)\n",
    "\n",
    "    df1['GX'] = gaussian_filter(df['GX'], window_length)\n",
    "    df1['GY'] = gaussian_filter(df['GY'], window_length)\n",
    "    df1['GZ'] = gaussian_filter(df['GZ'], window_length)\n",
    "    \n",
    "    df1['AX1'] = gaussian_filter(df['AX1'], window_length)\n",
    "    df1['AY1'] = gaussian_filter(df['AY1'], window_length)\n",
    "    df1['AZ1'] = gaussian_filter(df['AZ1'], window_length)\n",
    "\n",
    "    df1['GX1'] = gaussian_filter(df['GX1'], window_length)\n",
    "    df1['GY1'] = gaussian_filter(df['GY1'], window_length)\n",
    "    df1['GZ1'] = gaussian_filter(df['GZ1'], window_length)\n",
    "    return df1"
   ]
  },
  {
   "cell_type": "code",
   "execution_count": 189,
   "metadata": {
    "collapsed": true
   },
   "outputs": [],
   "source": [
    "def Amplitude(df, input_features, out_feature):\n",
    "    df[out_feature] = (df[input_features[0]]**2 + df[input_features[1]]**2  + df[input_features[2]]**2)**(1/2)\n",
    "  \n",
    "    "
   ]
  },
  {
   "cell_type": "code",
   "execution_count": 190,
   "metadata": {
    "collapsed": true
   },
   "outputs": [],
   "source": [
    "def Yaw_Roll_Pitch(df):\n",
    "    roll  = []\n",
    "    pitch = []\n",
    "    yaw   = []\n",
    "    for i in range(len(df)):\n",
    "        x = df['AX'][i]\n",
    "        y = df['AY'][i]\n",
    "        z = df['AZ'][i]\n",
    "        roll1 = atan(y/z)*57.3\n",
    "        pitch1= atan((-x/(y*y + z*z)**(1/2)))*57.3\n",
    "        yaw1  = atan((z/((x*x + z*z)**(1/2))))*57.3\n",
    "        \n",
    "        roll.append(roll1)\n",
    "        pitch.append(pitch1)\n",
    "        yaw.append(yaw1)\n",
    "    \n",
    "    df['orientX'] = pitch\n",
    "    df['orientY'] = roll\n",
    "    df['orientZ'] = yaw"
   ]
  },
  {
   "cell_type": "code",
   "execution_count": null,
   "metadata": {
    "collapsed": true
   },
   "outputs": [],
   "source": []
  },
  {
   "cell_type": "code",
   "execution_count": 191,
   "metadata": {
    "collapsed": true
   },
   "outputs": [],
   "source": [
    "def getQuat(df):\n",
    "\n",
    "        \"\"\" Given 3 orientation angles, compute the quaternion. \"\"\"\n",
    "\n",
    "        yaw   = df['orientZ'] / 2. * np.pi / 180\n",
    "        roll  = df['orientX'] / 2. * np.pi / 180\n",
    "        pitch = df['orientY'] / 2. * np.pi / 180\n",
    "\n",
    "        w =  np.cos(roll) * np.cos(pitch) * np.cos(yaw) + \\\n",
    "                np.sin(roll) * np.sin(pitch) * np.sin(yaw)\n",
    "\n",
    "        x =  np.sin(roll) * np.cos(pitch) * np.cos(yaw) - \\\n",
    "                np.cos(roll) * np.sin(pitch) * np.sin(yaw)\n",
    "\n",
    "        y =  np.cos(roll) * np.sin(pitch) * np.cos(yaw) + \\\n",
    "                np.sin(roll) * np.cos(pitch) * np.sin(yaw)\n",
    "\n",
    "        z =  np.cos(roll) * np.cos(pitch) * np.sin(yaw) - \\\n",
    "                np.sin(roll) * np.sin(pitch) * np.cos(yaw)\n",
    "\n",
    "        return w, x, y, z"
   ]
  },
  {
   "cell_type": "code",
   "execution_count": 192,
   "metadata": {
    "collapsed": true
   },
   "outputs": [],
   "source": [
    "\"\"\"\n",
    "Rotate a 3D vector using the axis-angle method (quaternions).\n",
    "\"\"\"\n",
    "\n",
    "import numpy as np\n",
    "\n",
    "\n",
    "def normalize(v, tolerance=0.00001):\n",
    "    mag2 = sum(n * n for n in v)\n",
    "    if abs(mag2 - 1.0) > tolerance:\n",
    "        mag = np.sqrt(mag2)\n",
    "        v = tuple(n / mag for n in v)\n",
    "    return v\n",
    "\n",
    "def q_mult(q1, q2):\n",
    "    w1, x1, y1, z1 = q1\n",
    "    w2, x2, y2, z2 = q2\n",
    "    w = w1 * w2 - x1 * x2 - y1 * y2 - z1 * z2\n",
    "    x = w1 * x2 + x1 * w2 + y1 * z2 - z1 * y2\n",
    "    y = w1 * y2 + y1 * w2 + z1 * x2 - x1 * z2\n",
    "    z = w1 * z2 + z1 * w2 + x1 * y2 - y1 * x2\n",
    "    return w, x, y, z\n",
    "\n",
    "def q_conjugate(q):\n",
    "    w, x, y, z = q\n",
    "    return (w, -x, -y, -z)\n",
    "\n",
    "def qv_mult(q1, v1):\n",
    "    q2 = (0.0,) + v1\n",
    "    return q_mult(q_mult(q1, q2), q_conjugate(q1))[1:]\n",
    "\n",
    "def axisangle_to_q(v, theta):\n",
    "    v = normalize(v)\n",
    "    x, y, z = v\n",
    "    theta /= 2\n",
    "    w = np.cos(theta)\n",
    "    x = x * np.sin(theta)\n",
    "    y = y * np.sin(theta)\n",
    "    z = z * np.sin(theta)\n",
    "    return w, x, y, z\n",
    "\n",
    "def q_to_axisangle(q):\n",
    "    w, v = q[0], q[1:]\n",
    "    theta = np.acos(w) * 2.0\n",
    "    return normalize(v), theta"
   ]
  },
  {
   "cell_type": "code",
   "execution_count": 193,
   "metadata": {
    "collapsed": true
   },
   "outputs": [],
   "source": [
    "def get_rotation(quatern, vector):\n",
    "    rotaedvector = []\n",
    "    for i in range(vector.shape[0]):\n",
    "        rotaedvector.append(qv_mult(tuple(quatern[i,:]), tuple(vector[i,:])))\n",
    "    return np.array(rotaedvector)"
   ]
  },
  {
   "cell_type": "code",
   "execution_count": 194,
   "metadata": {
    "collapsed": true
   },
   "outputs": [],
   "source": [
    "def rotate(df):\n",
    "    features = ['A', 'G']\n",
    "    quaternion = df[['quaternionW', 'quaternionX',\n",
    "                     'quaternionY','quaternionZ']].values\n",
    "    \n",
    "    for f in features:\n",
    "        xyzlist = [f + 'X', f + 'Y', f + 'Z']\n",
    "        xyz = df[xyzlist].values\n",
    "        xyz_rotated = get_rotation(quaternion, xyz)\n",
    "        df[f + 'X1'] = xyz_rotated[:,0]\n",
    "        df[f + 'Y1'] = xyz_rotated[:,1]\n",
    "        df[f + 'Z1'] = xyz_rotated[:,2]\n",
    "        "
   ]
  },
  {
   "cell_type": "code",
   "execution_count": 195,
   "metadata": {
    "collapsed": true
   },
   "outputs": [],
   "source": [
    "#generate frequency domain data from time domain data usinf Fast Fourier transformation\n",
    "\n",
    "def FFT(df, input_features, output_features):\n",
    "    \n",
    "    for i in range(len(input_features)):\n",
    "        reals = np.real(np.fft.rfft(df[input_features[i]]))\n",
    "        imagn = np.imag(np.fft.rfft(df[input_features[i]]))\n",
    "\n",
    "        complexs = [reals[0]]\n",
    "        n = len(reals)\n",
    "        if(n%2 == 0):\n",
    "            complexs.append(imagn[0])\n",
    "        for j in range(1, n-1):\n",
    "            complexs.append(reals[j])\n",
    "            complexs.append(imagn[j])\n",
    "        if( len(df) > len(complexs)):\n",
    "            complexs.append(reals[j])\n",
    "        if( len(df) > len(complexs)):\n",
    "            complexs.append(imagn[j])\n",
    "            \n",
    "        df[output_features[i]] = complexs\n",
    "    return df"
   ]
  },
  {
   "cell_type": "code",
   "execution_count": 196,
   "metadata": {
    "collapsed": true
   },
   "outputs": [],
   "source": [
    "def segmentation(df, N_TIME_STEPS):\n",
    "    \n",
    "    N_FEATURES = 1\n",
    "    step = 50\n",
    "    segments = []\n",
    "    labels = []\n",
    "    for i in range(0, len(df) - N_TIME_STEPS, step):\n",
    "        gx = df['GX1'].values[i: i + N_TIME_STEPS]\n",
    "        gy = df['GY1'].values[i: i + N_TIME_STEPS]\n",
    "        gz = df['GZ1'].values[i: i + N_TIME_STEPS]\n",
    "        \n",
    "        ax = df['AX1'].values[i: i + N_TIME_STEPS]\n",
    "        ay = df['AY1'].values[i: i + N_TIME_STEPS]\n",
    "        az = df['AZ1'].values[i: i + N_TIME_STEPS]\n",
    "        \n",
    "        fax = df['fAX'].values[i: i + N_TIME_STEPS]\n",
    "        fay = df['fAY'].values[i: i + N_TIME_STEPS]\n",
    "        faz = df['fAZ'].values[i: i + N_TIME_STEPS]\n",
    "        \n",
    "        ma = df['mAcc'].values[i: i + N_TIME_STEPS]\n",
    "        mz = df['mGyro'].values[i: i + N_TIME_STEPS]\n",
    "        label = \"ST\"\n",
    "        segments.append([gx, gy, gz, ax, ay, az, ma, mz, fax, fay, faz])\n",
    "#         labels = stats.mode(df['activity'][i: i + N_TIME_STEPS])[0][0]\n",
    "        labels.append(label)\n",
    "    return segments, labels"
   ]
  },
  {
   "cell_type": "code",
   "execution_count": 197,
   "metadata": {
    "collapsed": true
   },
   "outputs": [],
   "source": [
    "def DTWDistance(s1, s2, w):\n",
    "    DTW={}\n",
    "\n",
    "    w = max(w, abs(len(s1)-len(s2)))\n",
    "\n",
    "    for i in range(-1,len(s1)):\n",
    "        for j in range(-1,len(s2)):\n",
    "            DTW[(i, j)] = float('inf')\n",
    "    DTW[(-1, -1)] = 0\n",
    "\n",
    "    for i in range(len(s1)):\n",
    "        for j in range(max(0, i-w), min(len(s2), i+w)):\n",
    "            dist= (s1[i]-s2[j])**2\n",
    "            DTW[(i, j)] = dist + min(DTW[(i-1, j)],DTW[(i, j-1)], DTW[(i-1, j-1)])\n",
    "\n",
    "    return (DTW[len(s1)-1, len(s2)-1])**(1/2)"
   ]
  },
  {
   "cell_type": "code",
   "execution_count": 198,
   "metadata": {
    "collapsed": true
   },
   "outputs": [],
   "source": [
    "def loss_for_segments(segments, comp, feature):\n",
    "    loss =[]\n",
    "    labels=[]\n",
    "    length = len(segments)\n",
    "    for i in range(length):\n",
    "        x = segments[i][feature]        \n",
    "        dist = DTWDistance(x, comp, 50)\n",
    "#         print(i , '=>', dist)\n",
    "        loss.append(dist)\n",
    "    \n",
    "    return loss"
   ]
  },
  {
   "cell_type": "code",
   "execution_count": 199,
   "metadata": {
    "collapsed": true
   },
   "outputs": [],
   "source": [
    "def data_preprocessing(df):\n",
    "    #mean feature of 3-axis accelerometer data\n",
    "    input_features = ['AX', 'AY', 'AZ']\n",
    "    output_feature = 'mAcc'\n",
    "    Amplitude(df, input_features, output_feature)\n",
    "    \n",
    "    #mean feature of 3-axis gyroscope data\n",
    "    input_features = ['GX', 'GY', 'GZ']\n",
    "    output_feature = 'mGyro'\n",
    "    Amplitude(df, input_features, output_feature)\n",
    "    \n",
    "    #Re-Orientation of 3-axis acc. and gyro sensor data\n",
    "    Yaw_Roll_Pitch(df)\n",
    "    qw, qx, qy, qz = getQuat(df)\n",
    "    df['quaternionW'] = qw\n",
    "    df['quaternionX'] = qx\n",
    "    df['quaternionY'] = qy\n",
    "    df['quaternionZ'] = qz\n",
    "    rotate(df)\n",
    "    #apply gaussian filter with window size 10\n",
    "    df = GaussianFilter(df, 10)\n",
    "    \n",
    "    #Frequency domain feature generation from time series accelerometer data\n",
    "    input_features = ['AX1', 'AY1', 'AZ1']\n",
    "    output_feature = ['fAX', 'fAY', 'fAZ']\n",
    "    df = FFT(df, input_features, output_feature)\n",
    "    \n",
    "    #Frequency domain feature generation from time series gyroscope data\n",
    "    input_features = ['AX1', 'AY1', 'AZ1']\n",
    "    output_feature = ['fGX', 'fGY', 'fGZ']\n",
    "    df = FFT(df, input_features, output_feature)\n",
    "    \n",
    "    return df"
   ]
  },
  {
   "cell_type": "code",
   "execution_count": 200,
   "metadata": {
    "collapsed": true
   },
   "outputs": [],
   "source": [
    "#read csv file and return its data-frame\n",
    "def read_csv_file(acc, gyro, mode):\n",
    "    df_gyro = pd.read_csv(gyro, index_col=False)\n",
    "    df      = pd.read_csv(acc,  index_col=False)\n",
    "    df.rename(columns = {'X': 'AX', 'Y':'AY', 'Z':'AZ'}, inplace = True)\n",
    "    df['GX'] = df_gyro['X']\n",
    "    df['GY'] = df_gyro['Y']\n",
    "    df['GZ'] = df_gyro['Z']\n",
    "    \n",
    "    df['activity'] = mode\n",
    "    \n",
    "    return df"
   ]
  },
  {
   "cell_type": "code",
   "execution_count": 201,
   "metadata": {
    "collapsed": true
   },
   "outputs": [],
   "source": [
    "def read_files(acc_file, gyro_file, activity):\n",
    "    df = read_csv_file(acc_file, gyro_file, activity)\n",
    "    df.reset_index(drop = True , inplace = True)\n",
    "    if('Milliseconds' in df.columns):\n",
    "        df = df.drop('Milliseconds', axis=1)\n",
    "    if('Timestamp' in df.columns):\n",
    "        df = df.drop('Timestamp', axis=1)\n",
    "\n",
    "    df = data_preprocessing(df)\n",
    "    \n",
    "    return df\n",
    "    "
   ]
  },
  {
   "cell_type": "code",
   "execution_count": 19,
   "metadata": {},
   "outputs": [
    {
     "name": "stdout",
     "output_type": "stream",
     "text": [
      "/home/vicky/Desktop/Dhananjay/human-activity/data/Bike2308/2018-08-23_16-01-56/AccelerometerLinear.csv\n",
      "/home/vicky/Desktop/Dhananjay/human-activity/data/Bike2308/2018-08-23_16-01-56/Gyroscope.csv\n",
      "len of this file  (12548, 28)\n",
      "len of this file  (11698, 28)\n",
      "(23246, 28)\n",
      "/home/vicky/Desktop/Dhananjay/human-activity/data/Bike2308/2018-08-23_16-15-15/AccelerometerLinear.csv\n",
      "/home/vicky/Desktop/Dhananjay/human-activity/data/Bike2308/2018-08-23_16-15-15/Gyroscope.csv\n",
      "len of this file  (7601, 28)\n",
      "len of this file  (6751, 28)\n",
      "(29997, 28)\n",
      "/home/vicky/Desktop/Dhananjay/human-activity/data/Bike2308/2018-08-23_16-18-07/AccelerometerLinear.csv\n",
      "/home/vicky/Desktop/Dhananjay/human-activity/data/Bike2308/2018-08-23_16-18-07/Gyroscope.csv\n",
      "len of this file  (14413, 28)\n",
      "len of this file  (13563, 28)\n",
      "(43560, 28)\n",
      "/home/vicky/Desktop/Dhananjay/human-activity/data/Bike2308/2018-08-23_16-00-19/AccelerometerLinear.csv\n",
      "/home/vicky/Desktop/Dhananjay/human-activity/data/Bike2308/2018-08-23_16-00-19/Gyroscope.csv\n",
      "len of this file  (2989, 28)\n",
      "len of this file  (2139, 28)\n",
      "(45699, 28)\n",
      "/home/vicky/Desktop/Dhananjay/human-activity/data/Bike2308/2018-08-23_16-10-08/AccelerometerLinear.csv\n",
      "/home/vicky/Desktop/Dhananjay/human-activity/data/Bike2308/2018-08-23_16-10-08/Gyroscope.csv\n",
      "len of this file  (5522, 28)\n",
      "len of this file  (4672, 28)\n",
      "(50371, 28)\n",
      "/home/vicky/Desktop/Dhananjay/human-activity/data/Bike2308/2018-08-23_15-53-43/AccelerometerLinear.csv\n",
      "/home/vicky/Desktop/Dhananjay/human-activity/data/Bike2308/2018-08-23_15-53-43/Gyroscope.csv\n",
      "len of this file  (7778, 28)\n",
      "len of this file  (6928, 28)\n",
      "(57299, 28)\n",
      "/home/vicky/Desktop/Dhananjay/human-activity/data/Bike2308/2018-08-23_16-07-26/AccelerometerLinear.csv\n",
      "/home/vicky/Desktop/Dhananjay/human-activity/data/Bike2308/2018-08-23_16-07-26/Gyroscope.csv\n",
      "len of this file  (5550, 28)\n",
      "len of this file  (4700, 28)\n",
      "(61999, 28)\n",
      "/home/vicky/Desktop/Dhananjay/human-activity/data/Bike2308/2018-08-23_16-12-06/AccelerometerLinear.csv\n",
      "/home/vicky/Desktop/Dhananjay/human-activity/data/Bike2308/2018-08-23_16-12-06/Gyroscope.csv\n",
      "len of this file  (7566, 28)\n",
      "len of this file  (6716, 28)\n",
      "(68715, 28)\n",
      "/home/vicky/Desktop/Dhananjay/human-activity/data/Bike2308/2018-08-23_15-56-52/AccelerometerLinear.csv\n",
      "/home/vicky/Desktop/Dhananjay/human-activity/data/Bike2308/2018-08-23_15-56-52/Gyroscope.csv\n",
      "len of this file  (7731, 28)\n",
      "len of this file  (6881, 28)\n",
      "(75596, 28)\n"
     ]
    },
    {
     "data": {
      "text/html": [
       "<div>\n",
       "<style>\n",
       "    .dataframe thead tr:only-child th {\n",
       "        text-align: right;\n",
       "    }\n",
       "\n",
       "    .dataframe thead th {\n",
       "        text-align: left;\n",
       "    }\n",
       "\n",
       "    .dataframe tbody tr th {\n",
       "        vertical-align: top;\n",
       "    }\n",
       "</style>\n",
       "<table border=\"1\" class=\"dataframe\">\n",
       "  <thead>\n",
       "    <tr style=\"text-align: right;\">\n",
       "      <th></th>\n",
       "      <th>AX</th>\n",
       "      <th>AY</th>\n",
       "      <th>AZ</th>\n",
       "      <th>GX</th>\n",
       "      <th>GY</th>\n",
       "      <th>GZ</th>\n",
       "      <th>activity</th>\n",
       "      <th>mAcc</th>\n",
       "      <th>mGyro</th>\n",
       "      <th>orientX</th>\n",
       "      <th>...</th>\n",
       "      <th>AZ1</th>\n",
       "      <th>GX1</th>\n",
       "      <th>GY1</th>\n",
       "      <th>GZ1</th>\n",
       "      <th>fAX</th>\n",
       "      <th>fAY</th>\n",
       "      <th>fAZ</th>\n",
       "      <th>fGX</th>\n",
       "      <th>fGY</th>\n",
       "      <th>fGZ</th>\n",
       "    </tr>\n",
       "  </thead>\n",
       "  <tbody>\n",
       "    <tr>\n",
       "      <th>0</th>\n",
       "      <td>-0.074300</td>\n",
       "      <td>0.456554</td>\n",
       "      <td>-0.182508</td>\n",
       "      <td>-0.036865</td>\n",
       "      <td>0.003397</td>\n",
       "      <td>0.080608</td>\n",
       "      <td>bike</td>\n",
       "      <td>0.426444</td>\n",
       "      <td>0.145873</td>\n",
       "      <td>2.652757</td>\n",
       "      <td>...</td>\n",
       "      <td>-0.035259</td>\n",
       "      <td>-0.046475</td>\n",
       "      <td>0.020892</td>\n",
       "      <td>0.039588</td>\n",
       "      <td>-0.308360</td>\n",
       "      <td>-8.924048</td>\n",
       "      <td>38.414573</td>\n",
       "      <td>-0.308360</td>\n",
       "      <td>-8.924048</td>\n",
       "      <td>38.414573</td>\n",
       "    </tr>\n",
       "    <tr>\n",
       "      <th>1</th>\n",
       "      <td>-0.061872</td>\n",
       "      <td>0.457102</td>\n",
       "      <td>-0.173090</td>\n",
       "      <td>-0.033712</td>\n",
       "      <td>0.003523</td>\n",
       "      <td>0.068831</td>\n",
       "      <td>bike</td>\n",
       "      <td>1.002651</td>\n",
       "      <td>0.097540</td>\n",
       "      <td>-35.814092</td>\n",
       "      <td>...</td>\n",
       "      <td>-0.033809</td>\n",
       "      <td>-0.044570</td>\n",
       "      <td>0.020135</td>\n",
       "      <td>0.034127</td>\n",
       "      <td>-41.994016</td>\n",
       "      <td>-49.155563</td>\n",
       "      <td>-74.332197</td>\n",
       "      <td>-41.994016</td>\n",
       "      <td>-49.155563</td>\n",
       "      <td>-74.332197</td>\n",
       "    </tr>\n",
       "    <tr>\n",
       "      <th>2</th>\n",
       "      <td>-0.049648</td>\n",
       "      <td>0.457061</td>\n",
       "      <td>-0.163515</td>\n",
       "      <td>-0.030654</td>\n",
       "      <td>0.004060</td>\n",
       "      <td>0.057569</td>\n",
       "      <td>bike</td>\n",
       "      <td>0.689433</td>\n",
       "      <td>0.123884</td>\n",
       "      <td>-45.232244</td>\n",
       "      <td>...</td>\n",
       "      <td>-0.033229</td>\n",
       "      <td>-0.042532</td>\n",
       "      <td>0.019373</td>\n",
       "      <td>0.028992</td>\n",
       "      <td>-6.285454</td>\n",
       "      <td>-87.913096</td>\n",
       "      <td>-25.224010</td>\n",
       "      <td>-6.285454</td>\n",
       "      <td>-87.913096</td>\n",
       "      <td>-25.224010</td>\n",
       "    </tr>\n",
       "    <tr>\n",
       "      <th>3</th>\n",
       "      <td>-0.037555</td>\n",
       "      <td>0.456411</td>\n",
       "      <td>-0.153770</td>\n",
       "      <td>-0.027684</td>\n",
       "      <td>0.005004</td>\n",
       "      <td>0.046849</td>\n",
       "      <td>bike</td>\n",
       "      <td>0.856619</td>\n",
       "      <td>0.121199</td>\n",
       "      <td>42.974459</td>\n",
       "      <td>...</td>\n",
       "      <td>-0.033408</td>\n",
       "      <td>-0.040379</td>\n",
       "      <td>0.018621</td>\n",
       "      <td>0.024156</td>\n",
       "      <td>-33.357039</td>\n",
       "      <td>65.253064</td>\n",
       "      <td>-98.960931</td>\n",
       "      <td>-33.357039</td>\n",
       "      <td>65.253064</td>\n",
       "      <td>-98.960931</td>\n",
       "    </tr>\n",
       "    <tr>\n",
       "      <th>4</th>\n",
       "      <td>-0.025532</td>\n",
       "      <td>0.455134</td>\n",
       "      <td>-0.143828</td>\n",
       "      <td>-0.024786</td>\n",
       "      <td>0.006355</td>\n",
       "      <td>0.036678</td>\n",
       "      <td>bike</td>\n",
       "      <td>0.936104</td>\n",
       "      <td>0.086623</td>\n",
       "      <td>39.187794</td>\n",
       "      <td>...</td>\n",
       "      <td>-0.034188</td>\n",
       "      <td>-0.038124</td>\n",
       "      <td>0.017893</td>\n",
       "      <td>0.019589</td>\n",
       "      <td>49.216495</td>\n",
       "      <td>-117.272423</td>\n",
       "      <td>-89.515525</td>\n",
       "      <td>49.216495</td>\n",
       "      <td>-117.272423</td>\n",
       "      <td>-89.515525</td>\n",
       "    </tr>\n",
       "  </tbody>\n",
       "</table>\n",
       "<p>5 rows × 28 columns</p>\n",
       "</div>"
      ],
      "text/plain": [
       "         AX        AY        AZ        GX        GY        GZ activity  \\\n",
       "0 -0.074300  0.456554 -0.182508 -0.036865  0.003397  0.080608     bike   \n",
       "1 -0.061872  0.457102 -0.173090 -0.033712  0.003523  0.068831     bike   \n",
       "2 -0.049648  0.457061 -0.163515 -0.030654  0.004060  0.057569     bike   \n",
       "3 -0.037555  0.456411 -0.153770 -0.027684  0.005004  0.046849     bike   \n",
       "4 -0.025532  0.455134 -0.143828 -0.024786  0.006355  0.036678     bike   \n",
       "\n",
       "       mAcc     mGyro    orientX    ...           AZ1       GX1       GY1  \\\n",
       "0  0.426444  0.145873   2.652757    ...     -0.035259 -0.046475  0.020892   \n",
       "1  1.002651  0.097540 -35.814092    ...     -0.033809 -0.044570  0.020135   \n",
       "2  0.689433  0.123884 -45.232244    ...     -0.033229 -0.042532  0.019373   \n",
       "3  0.856619  0.121199  42.974459    ...     -0.033408 -0.040379  0.018621   \n",
       "4  0.936104  0.086623  39.187794    ...     -0.034188 -0.038124  0.017893   \n",
       "\n",
       "        GZ1        fAX         fAY        fAZ        fGX         fGY  \\\n",
       "0  0.039588  -0.308360   -8.924048  38.414573  -0.308360   -8.924048   \n",
       "1  0.034127 -41.994016  -49.155563 -74.332197 -41.994016  -49.155563   \n",
       "2  0.028992  -6.285454  -87.913096 -25.224010  -6.285454  -87.913096   \n",
       "3  0.024156 -33.357039   65.253064 -98.960931 -33.357039   65.253064   \n",
       "4  0.019589  49.216495 -117.272423 -89.515525  49.216495 -117.272423   \n",
       "\n",
       "         fGZ  \n",
       "0  38.414573  \n",
       "1 -74.332197  \n",
       "2 -25.224010  \n",
       "3 -98.960931  \n",
       "4 -89.515525  \n",
       "\n",
       "[5 rows x 28 columns]"
      ]
     },
     "execution_count": 19,
     "metadata": {},
     "output_type": "execute_result"
    }
   ],
   "source": [
    "  \n",
    "path_acc = os.getcwd() + '/data/Bike2308/*/*AccelerometerLinear.csv'  \n",
    "path_gyro= os.getcwd() + '/data/Bike2308/*/*Gyroscope.csv' \n",
    "acc_files = glob.glob(path_acc)\n",
    "gyro_files= glob.glob(path_gyro)\n",
    "bike_df= read_files(acc_files[0], gyro_files[0], 'bike')\n",
    "n = len(bike_df)\n",
    "bike_df = bike_df[500:n-500]\n",
    "for acc_file, gyro_file in zip(acc_files, gyro_files) :\n",
    "    print(acc_file)\n",
    "    print(gyro_file)\n",
    "    df_this = read_files(acc_file, gyro_file, 'bike')\n",
    "    n = len(df_this)\n",
    "    print(\"len of this file \",df_this.shape)\n",
    "    df_this = df_this[350 : n-500]\n",
    "    print(\"len of this file \",df_this.shape)\n",
    "    bike_df = pd.concat([bike_df, df_this])\n",
    "    print(bike_df.shape)\n",
    "bike_df.reset_index(drop = True, inplace = True)\n",
    "bike_df.head()\n"
   ]
  },
  {
   "cell_type": "code",
   "execution_count": 82,
   "metadata": {},
   "outputs": [
    {
     "name": "stdout",
     "output_type": "stream",
     "text": [
      "(75596, 28)\n"
     ]
    },
    {
     "data": {
      "text/plain": [
       "Index(['AX', 'AY', 'AZ', 'GX', 'GY', 'GZ', 'activity', 'mAcc', 'mGyro',\n",
       "       'orientX', 'orientY', 'orientZ', 'quaternionW', 'quaternionX',\n",
       "       'quaternionY', 'quaternionZ', 'AX1', 'AY1', 'AZ1', 'GX1', 'GY1', 'GZ1',\n",
       "       'fAX', 'fAY', 'fAZ', 'fGX', 'fGY', 'fGZ'],\n",
       "      dtype='object')"
      ]
     },
     "execution_count": 82,
     "metadata": {},
     "output_type": "execute_result"
    }
   ],
   "source": [
    "print(bike_df.shape)\n",
    "bike_df.columns"
   ]
  },
  {
   "cell_type": "code",
   "execution_count": 83,
   "metadata": {},
   "outputs": [
    {
     "data": {
      "text/plain": [
       "(1504, 11, 400)"
      ]
     },
     "execution_count": 83,
     "metadata": {},
     "output_type": "execute_result"
    }
   ],
   "source": [
    "bike_segments, bike_labels = segmentation(bike_df, 400)\n",
    "np.array(bike_segments).shape\n",
    "\n"
   ]
  },
  {
   "cell_type": "code",
   "execution_count": 84,
   "metadata": {
    "collapsed": true
   },
   "outputs": [],
   "source": [
    "def DTWdistance(segments, ref):\n",
    "    y = segments\n",
    "    DTW_list = []\n",
    "    for i in range(len(segments[1])):\n",
    "        x = ref\n",
    "        print(\"calculating loss for feature \", i, \"....\")\n",
    "        diff = loss_for_segments(y, x, i)\n",
    "\n",
    "        DTW_list.append(diff)\n",
    "    \n",
    "    return DTW_list  "
   ]
  },
  {
   "cell_type": "code",
   "execution_count": 85,
   "metadata": {},
   "outputs": [
    {
     "data": {
      "text/plain": [
       "400"
      ]
     },
     "execution_count": 85,
     "metadata": {},
     "output_type": "execute_result"
    }
   ],
   "source": [
    "ref  = [0.0]*400\n",
    "len(ref)\n"
   ]
  },
  {
   "cell_type": "code",
   "execution_count": 86,
   "metadata": {},
   "outputs": [
    {
     "name": "stdout",
     "output_type": "stream",
     "text": [
      "calculating loss for feature  0 ....\n",
      "calculating loss for feature  1 ....\n",
      "calculating loss for feature  2 ....\n",
      "calculating loss for feature  3 ....\n",
      "calculating loss for feature  4 ....\n",
      "calculating loss for feature  5 ....\n",
      "calculating loss for feature  6 ....\n",
      "calculating loss for feature  7 ....\n",
      "calculating loss for feature  8 ....\n",
      "calculating loss for feature  9 ....\n",
      "calculating loss for feature  10 ....\n"
     ]
    }
   ],
   "source": [
    "bike_dtw_data = DTWdistance(bike_segments, ref)"
   ]
  },
  {
   "cell_type": "code",
   "execution_count": 157,
   "metadata": {
    "collapsed": true
   },
   "outputs": [],
   "source": [
    "# print(np.array(bike_dtw_data).shape)\n",
    "# bike_dtw_data = [*zip(*bike_dtw_data)]\n",
    "# print(np.array(bike_dtw_data).shape)\n",
    "\n"
   ]
  },
  {
   "cell_type": "code",
   "execution_count": 42,
   "metadata": {
    "collapsed": true
   },
   "outputs": [],
   "source": [
    "# df = pd.DataFrame({\"name1\" :bike_dtw_data[0], \"name2\" :bike_dtw_data[1],\"name3\" :bike_dtw_data[2],\n",
    "#                    \"name4\" :bike_dtw_data[3], \"name5\" :bike_dtw_data[4],\"name6\" :bike_dtw_data[5],})\n",
    "# df.to_csv(\"bike_dtw.csv\", index=False)"
   ]
  },
  {
   "cell_type": "code",
   "execution_count": 87,
   "metadata": {},
   "outputs": [
    {
     "name": "stdout",
     "output_type": "stream",
     "text": [
      "(11, 1504)\n",
      "(1504, 11)\n"
     ]
    }
   ],
   "source": [
    "print(np.array(bike_dtw_data).shape)\n",
    "bike_dtw_data = [*zip(*bike_dtw_data)]\n",
    "print(np.array(bike_dtw_data).shape)"
   ]
  },
  {
   "cell_type": "code",
   "execution_count": 88,
   "metadata": {
    "collapsed": true
   },
   "outputs": [],
   "source": [
    "import csv\n",
    "with open(\"train_bike.csv\",\"w+\") as my_csv:\n",
    "    csvWriter = csv.writer(my_csv,delimiter=',')\n",
    "    csvWriter.writerows(bike_dtw_data)"
   ]
  },
  {
   "cell_type": "code",
   "execution_count": 34,
   "metadata": {
    "collapsed": true
   },
   "outputs": [],
   "source": [
    "# for i in range(6):\n",
    "#     loss_series_st = pd.Series(dtw_data[i])\n",
    "#     loss_series_st[0:200].plot(figsize =(20,4))\n",
    "#     plt.xlabel('Segment numbers')\n",
    "#     plt.ylabel('Diff. with ref. segm.')\n"
   ]
  },
  {
   "cell_type": "code",
   "execution_count": 35,
   "metadata": {
    "collapsed": true
   },
   "outputs": [],
   "source": [
    "# for i in range(6):\n",
    "#     loss_series_st = pd.Series(dtw_data_for_car[i])\n",
    "#     loss_series_st[0:200].plot(figsize =(20,4))\n",
    "#     plt.xlabel('Segment numbers')\n",
    "#     plt.ylabel('Diff. with ref. segm.')"
   ]
  },
  {
   "cell_type": "code",
   "execution_count": 36,
   "metadata": {},
   "outputs": [
    {
     "name": "stdout",
     "output_type": "stream",
     "text": [
      "/home/vicky/Desktop/Dhananjay/human-activity/data/Car1109out/2018-09-11_19-14-12/AccelerometerLinear.csv\n",
      "/home/vicky/Desktop/Dhananjay/human-activity/data/Car1109out/2018-09-11_19-14-12/Gyroscope.csv\n",
      "len of this file  (3622, 28)\n",
      "len of this file  (2772, 28)\n",
      "(5544, 28)\n",
      "/home/vicky/Desktop/Dhananjay/human-activity/data/Car1109out/2018-09-11_18-46-25/AccelerometerLinear.csv\n",
      "/home/vicky/Desktop/Dhananjay/human-activity/data/Car1109out/2018-09-11_18-46-25/Gyroscope.csv\n",
      "len of this file  (6310, 28)\n",
      "len of this file  (5460, 28)\n",
      "(11004, 28)\n",
      "/home/vicky/Desktop/Dhananjay/human-activity/data/Car1109out/2018-09-11_18-55-22/AccelerometerLinear.csv\n",
      "/home/vicky/Desktop/Dhananjay/human-activity/data/Car1109out/2018-09-11_18-55-22/Gyroscope.csv\n",
      "len of this file  (2872, 28)\n",
      "len of this file  (2022, 28)\n",
      "(13026, 28)\n",
      "/home/vicky/Desktop/Dhananjay/human-activity/data/Car1109out/2018-09-11_19-17-04/AccelerometerLinear.csv\n",
      "/home/vicky/Desktop/Dhananjay/human-activity/data/Car1109out/2018-09-11_19-17-04/Gyroscope.csv\n",
      "len of this file  (4013, 28)\n",
      "len of this file  (3163, 28)\n",
      "(16189, 28)\n",
      "/home/vicky/Desktop/Dhananjay/human-activity/data/Car1109out/2018-09-11_18-52-55/AccelerometerLinear.csv\n",
      "/home/vicky/Desktop/Dhananjay/human-activity/data/Car1109out/2018-09-11_18-52-55/Gyroscope.csv\n",
      "len of this file  (4621, 28)\n",
      "len of this file  (3771, 28)\n",
      "(19960, 28)\n",
      "/home/vicky/Desktop/Dhananjay/human-activity/data/Car1109out/2018-09-11_18-41-31/AccelerometerLinear.csv\n",
      "/home/vicky/Desktop/Dhananjay/human-activity/data/Car1109out/2018-09-11_18-41-31/Gyroscope.csv\n",
      "len of this file  (11825, 28)\n",
      "len of this file  (10975, 28)\n",
      "(30935, 28)\n",
      "/home/vicky/Desktop/Dhananjay/human-activity/data/Car1109out/2018-09-11_18-54-35/AccelerometerLinear.csv\n",
      "/home/vicky/Desktop/Dhananjay/human-activity/data/Car1109out/2018-09-11_18-54-35/Gyroscope.csv\n",
      "len of this file  (1976, 28)\n",
      "len of this file  (1126, 28)\n",
      "(32061, 28)\n",
      "/home/vicky/Desktop/Dhananjay/human-activity/data/Car1109out/2018-09-11_19-06-21/AccelerometerLinear.csv\n",
      "/home/vicky/Desktop/Dhananjay/human-activity/data/Car1109out/2018-09-11_19-06-21/Gyroscope.csv\n",
      "len of this file  (4686, 28)\n",
      "len of this file  (3836, 28)\n",
      "(35897, 28)\n",
      "/home/vicky/Desktop/Dhananjay/human-activity/data/Car1109out/2018-09-11_18-48-55/AccelerometerLinear.csv\n",
      "/home/vicky/Desktop/Dhananjay/human-activity/data/Car1109out/2018-09-11_18-48-55/Gyroscope.csv\n",
      "len of this file  (10695, 28)\n",
      "len of this file  (9845, 28)\n",
      "(45742, 28)\n",
      "/home/vicky/Desktop/Dhananjay/human-activity/data/Car1109out/2018-09-11_19-08-36/AccelerometerLinear.csv\n",
      "/home/vicky/Desktop/Dhananjay/human-activity/data/Car1109out/2018-09-11_19-08-36/Gyroscope.csv\n",
      "len of this file  (2977, 28)\n",
      "len of this file  (2127, 28)\n",
      "(47869, 28)\n",
      "/home/vicky/Desktop/Dhananjay/human-activity/data/Car1109out/2018-09-11_18-58-15/AccelerometerLinear.csv\n",
      "/home/vicky/Desktop/Dhananjay/human-activity/data/Car1109out/2018-09-11_18-58-15/Gyroscope.csv\n",
      "len of this file  (1494, 28)\n",
      "len of this file  (644, 28)\n",
      "(48513, 28)\n",
      "/home/vicky/Desktop/Dhananjay/human-activity/data/Car1109out/2018-09-11_19-00-58/AccelerometerLinear.csv\n",
      "/home/vicky/Desktop/Dhananjay/human-activity/data/Car1109out/2018-09-11_19-00-58/Gyroscope.csv\n",
      "len of this file  (2177, 28)\n",
      "len of this file  (1327, 28)\n",
      "(49840, 28)\n",
      "/home/vicky/Desktop/Dhananjay/human-activity/data/Car1109out/2018-09-11_19-15-40/AccelerometerLinear.csv\n",
      "/home/vicky/Desktop/Dhananjay/human-activity/data/Car1109out/2018-09-11_19-15-40/Gyroscope.csv\n",
      "len of this file  (3324, 28)\n",
      "len of this file  (2474, 28)\n",
      "(52314, 28)\n",
      "/home/vicky/Desktop/Dhananjay/human-activity/data/Car1109out/2018-09-11_19-05-01/AccelerometerLinear.csv\n",
      "/home/vicky/Desktop/Dhananjay/human-activity/data/Car1109out/2018-09-11_19-05-01/Gyroscope.csv\n",
      "len of this file  (3108, 28)\n",
      "len of this file  (2258, 28)\n",
      "(54572, 28)\n",
      "/home/vicky/Desktop/Dhananjay/human-activity/data/Car1109out/2018-09-11_19-09-45/AccelerometerLinear.csv\n",
      "/home/vicky/Desktop/Dhananjay/human-activity/data/Car1109out/2018-09-11_19-09-45/Gyroscope.csv\n",
      "len of this file  (4945, 28)\n",
      "len of this file  (4095, 28)\n",
      "(58667, 28)\n",
      "/home/vicky/Desktop/Dhananjay/human-activity/data/Car1109out/2018-09-11_19-01-52/AccelerometerLinear.csv\n",
      "/home/vicky/Desktop/Dhananjay/human-activity/data/Car1109out/2018-09-11_19-01-52/Gyroscope.csv\n",
      "len of this file  (3762, 28)\n",
      "len of this file  (2912, 28)\n",
      "(61579, 28)\n",
      "/home/vicky/Desktop/Dhananjay/human-activity/data/Car1109out/2018-09-11_18-57-17/AccelerometerLinear.csv\n",
      "/home/vicky/Desktop/Dhananjay/human-activity/data/Car1109out/2018-09-11_18-57-17/Gyroscope.csv\n",
      "len of this file  (2414, 28)\n",
      "len of this file  (1564, 28)\n",
      "(63143, 28)\n",
      "/home/vicky/Desktop/Dhananjay/human-activity/data/Car1109out/2018-09-11_18-56-28/AccelerometerLinear.csv\n",
      "/home/vicky/Desktop/Dhananjay/human-activity/data/Car1109out/2018-09-11_18-56-28/Gyroscope.csv\n",
      "len of this file  (2031, 28)\n",
      "len of this file  (1181, 28)\n",
      "(64324, 28)\n",
      "/home/vicky/Desktop/Dhananjay/human-activity/data/Car1109out/2018-09-11_18-59-32/AccelerometerLinear.csv\n",
      "/home/vicky/Desktop/Dhananjay/human-activity/data/Car1109out/2018-09-11_18-59-32/Gyroscope.csv\n",
      "len of this file  (3768, 28)\n",
      "len of this file  (2918, 28)\n",
      "(67242, 28)\n",
      "/home/vicky/Desktop/Dhananjay/human-activity/data/Car1109out/2018-09-11_19-11-35/AccelerometerLinear.csv\n",
      "/home/vicky/Desktop/Dhananjay/human-activity/data/Car1109out/2018-09-11_19-11-35/Gyroscope.csv\n",
      "len of this file  (3337, 28)\n",
      "len of this file  (2487, 28)\n",
      "(69729, 28)\n",
      "/home/vicky/Desktop/Dhananjay/human-activity/data/Car1109out/2018-09-11_19-03-21/AccelerometerLinear.csv\n",
      "/home/vicky/Desktop/Dhananjay/human-activity/data/Car1109out/2018-09-11_19-03-21/Gyroscope.csv\n",
      "len of this file  (1466, 28)\n",
      "len of this file  (616, 28)\n",
      "(70345, 28)\n"
     ]
    },
    {
     "data": {
      "text/html": [
       "<div>\n",
       "<style>\n",
       "    .dataframe thead tr:only-child th {\n",
       "        text-align: right;\n",
       "    }\n",
       "\n",
       "    .dataframe thead th {\n",
       "        text-align: left;\n",
       "    }\n",
       "\n",
       "    .dataframe tbody tr th {\n",
       "        vertical-align: top;\n",
       "    }\n",
       "</style>\n",
       "<table border=\"1\" class=\"dataframe\">\n",
       "  <thead>\n",
       "    <tr style=\"text-align: right;\">\n",
       "      <th></th>\n",
       "      <th>AX</th>\n",
       "      <th>AY</th>\n",
       "      <th>AZ</th>\n",
       "      <th>GX</th>\n",
       "      <th>GY</th>\n",
       "      <th>GZ</th>\n",
       "      <th>activity</th>\n",
       "      <th>mAcc</th>\n",
       "      <th>mGyro</th>\n",
       "      <th>orientX</th>\n",
       "      <th>...</th>\n",
       "      <th>AZ1</th>\n",
       "      <th>GX1</th>\n",
       "      <th>GY1</th>\n",
       "      <th>GZ1</th>\n",
       "      <th>fAX</th>\n",
       "      <th>fAY</th>\n",
       "      <th>fAZ</th>\n",
       "      <th>fGX</th>\n",
       "      <th>fGY</th>\n",
       "      <th>fGZ</th>\n",
       "    </tr>\n",
       "  </thead>\n",
       "  <tbody>\n",
       "    <tr>\n",
       "      <th>0</th>\n",
       "      <td>0.151147</td>\n",
       "      <td>-0.548212</td>\n",
       "      <td>0.384174</td>\n",
       "      <td>0.014104</td>\n",
       "      <td>0.032599</td>\n",
       "      <td>0.212953</td>\n",
       "      <td>car</td>\n",
       "      <td>5.896712</td>\n",
       "      <td>0.918298</td>\n",
       "      <td>-2.105947</td>\n",
       "      <td>...</td>\n",
       "      <td>0.468213</td>\n",
       "      <td>-0.102314</td>\n",
       "      <td>-0.065251</td>\n",
       "      <td>0.194360</td>\n",
       "      <td>0.390241</td>\n",
       "      <td>0.242471</td>\n",
       "      <td>1.450791</td>\n",
       "      <td>0.390241</td>\n",
       "      <td>0.242471</td>\n",
       "      <td>1.450791</td>\n",
       "    </tr>\n",
       "    <tr>\n",
       "      <th>1</th>\n",
       "      <td>0.145558</td>\n",
       "      <td>-0.549001</td>\n",
       "      <td>0.315767</td>\n",
       "      <td>0.022043</td>\n",
       "      <td>0.024087</td>\n",
       "      <td>0.209872</td>\n",
       "      <td>car</td>\n",
       "      <td>6.891665</td>\n",
       "      <td>0.890564</td>\n",
       "      <td>-10.407979</td>\n",
       "      <td>...</td>\n",
       "      <td>0.398035</td>\n",
       "      <td>-0.088283</td>\n",
       "      <td>-0.070148</td>\n",
       "      <td>0.191415</td>\n",
       "      <td>-0.956881</td>\n",
       "      <td>0.785667</td>\n",
       "      <td>1.839521</td>\n",
       "      <td>-0.956881</td>\n",
       "      <td>0.785667</td>\n",
       "      <td>1.839521</td>\n",
       "    </tr>\n",
       "    <tr>\n",
       "      <th>2</th>\n",
       "      <td>0.131640</td>\n",
       "      <td>-0.550599</td>\n",
       "      <td>0.237944</td>\n",
       "      <td>0.029397</td>\n",
       "      <td>0.016481</td>\n",
       "      <td>0.205640</td>\n",
       "      <td>car</td>\n",
       "      <td>5.505644</td>\n",
       "      <td>1.006707</td>\n",
       "      <td>-33.960476</td>\n",
       "      <td>...</td>\n",
       "      <td>0.318826</td>\n",
       "      <td>-0.073928</td>\n",
       "      <td>-0.073003</td>\n",
       "      <td>0.186786</td>\n",
       "      <td>-0.691534</td>\n",
       "      <td>-0.422401</td>\n",
       "      <td>-0.150374</td>\n",
       "      <td>-0.691534</td>\n",
       "      <td>-0.422401</td>\n",
       "      <td>-0.150374</td>\n",
       "    </tr>\n",
       "    <tr>\n",
       "      <th>3</th>\n",
       "      <td>0.109519</td>\n",
       "      <td>-0.552682</td>\n",
       "      <td>0.153242</td>\n",
       "      <td>0.035762</td>\n",
       "      <td>0.010158</td>\n",
       "      <td>0.200435</td>\n",
       "      <td>car</td>\n",
       "      <td>4.220319</td>\n",
       "      <td>1.314102</td>\n",
       "      <td>-59.080153</td>\n",
       "      <td>...</td>\n",
       "      <td>0.233326</td>\n",
       "      <td>-0.059636</td>\n",
       "      <td>-0.073536</td>\n",
       "      <td>0.180548</td>\n",
       "      <td>-0.849753</td>\n",
       "      <td>0.600769</td>\n",
       "      <td>1.439380</td>\n",
       "      <td>-0.849753</td>\n",
       "      <td>0.600769</td>\n",
       "      <td>1.439380</td>\n",
       "    </tr>\n",
       "    <tr>\n",
       "      <th>4</th>\n",
       "      <td>0.079650</td>\n",
       "      <td>-0.554942</td>\n",
       "      <td>0.064491</td>\n",
       "      <td>0.040765</td>\n",
       "      <td>0.005447</td>\n",
       "      <td>0.194477</td>\n",
       "      <td>car</td>\n",
       "      <td>4.958700</td>\n",
       "      <td>1.252351</td>\n",
       "      <td>-33.272546</td>\n",
       "      <td>...</td>\n",
       "      <td>0.144593</td>\n",
       "      <td>-0.045799</td>\n",
       "      <td>-0.071550</td>\n",
       "      <td>0.172831</td>\n",
       "      <td>-0.610689</td>\n",
       "      <td>-0.188359</td>\n",
       "      <td>1.171801</td>\n",
       "      <td>-0.610689</td>\n",
       "      <td>-0.188359</td>\n",
       "      <td>1.171801</td>\n",
       "    </tr>\n",
       "  </tbody>\n",
       "</table>\n",
       "<p>5 rows × 28 columns</p>\n",
       "</div>"
      ],
      "text/plain": [
       "         AX        AY        AZ        GX        GY        GZ activity  \\\n",
       "0  0.151147 -0.548212  0.384174  0.014104  0.032599  0.212953      car   \n",
       "1  0.145558 -0.549001  0.315767  0.022043  0.024087  0.209872      car   \n",
       "2  0.131640 -0.550599  0.237944  0.029397  0.016481  0.205640      car   \n",
       "3  0.109519 -0.552682  0.153242  0.035762  0.010158  0.200435      car   \n",
       "4  0.079650 -0.554942  0.064491  0.040765  0.005447  0.194477      car   \n",
       "\n",
       "       mAcc     mGyro    orientX    ...          AZ1       GX1       GY1  \\\n",
       "0  5.896712  0.918298  -2.105947    ...     0.468213 -0.102314 -0.065251   \n",
       "1  6.891665  0.890564 -10.407979    ...     0.398035 -0.088283 -0.070148   \n",
       "2  5.505644  1.006707 -33.960476    ...     0.318826 -0.073928 -0.073003   \n",
       "3  4.220319  1.314102 -59.080153    ...     0.233326 -0.059636 -0.073536   \n",
       "4  4.958700  1.252351 -33.272546    ...     0.144593 -0.045799 -0.071550   \n",
       "\n",
       "        GZ1       fAX       fAY       fAZ       fGX       fGY       fGZ  \n",
       "0  0.194360  0.390241  0.242471  1.450791  0.390241  0.242471  1.450791  \n",
       "1  0.191415 -0.956881  0.785667  1.839521 -0.956881  0.785667  1.839521  \n",
       "2  0.186786 -0.691534 -0.422401 -0.150374 -0.691534 -0.422401 -0.150374  \n",
       "3  0.180548 -0.849753  0.600769  1.439380 -0.849753  0.600769  1.439380  \n",
       "4  0.172831 -0.610689 -0.188359  1.171801 -0.610689 -0.188359  1.171801  \n",
       "\n",
       "[5 rows x 28 columns]"
      ]
     },
     "execution_count": 36,
     "metadata": {},
     "output_type": "execute_result"
    }
   ],
   "source": [
    "path_acc = os.getcwd() + '/data/Car1109out/*/*AccelerometerLinear.csv'  \n",
    "path_gyro= os.getcwd() + '/data/Car1109out/*/*Gyroscope.csv' \n",
    "acc_files = glob.glob(path_acc)\n",
    "gyro_files= glob.glob(path_gyro)\n",
    "car_df= read_files(acc_files[0], gyro_files[0], 'car')\n",
    "n = len(car_df)\n",
    "car_df = car_df[350:n-500]\n",
    "for acc_file, gyro_file in zip(acc_files, gyro_files) :\n",
    "    print(acc_file)\n",
    "    print(gyro_file)\n",
    "    df_this = read_files(acc_file, gyro_file, 'car')\n",
    "    n = len(df_this)\n",
    "    print(\"len of this file \",df_this.shape)\n",
    "    df_this = df_this[350 : n-500]\n",
    "    print(\"len of this file \",df_this.shape)\n",
    "    car_df = pd.concat([car_df, df_this])\n",
    "    print(car_df.shape)\n",
    "car_df.reset_index(drop = True, inplace = True)\n",
    "car_df.head()"
   ]
  },
  {
   "cell_type": "code",
   "execution_count": 89,
   "metadata": {},
   "outputs": [
    {
     "name": "stdout",
     "output_type": "stream",
     "text": [
      "(70345, 28)\n"
     ]
    },
    {
     "data": {
      "text/plain": [
       "Index(['AX', 'AY', 'AZ', 'GX', 'GY', 'GZ', 'activity', 'mAcc', 'mGyro',\n",
       "       'orientX', 'orientY', 'orientZ', 'quaternionW', 'quaternionX',\n",
       "       'quaternionY', 'quaternionZ', 'AX1', 'AY1', 'AZ1', 'GX1', 'GY1', 'GZ1',\n",
       "       'fAX', 'fAY', 'fAZ', 'fGX', 'fGY', 'fGZ'],\n",
       "      dtype='object')"
      ]
     },
     "execution_count": 89,
     "metadata": {},
     "output_type": "execute_result"
    }
   ],
   "source": [
    "print(car_df.shape)\n",
    "car_df.columns"
   ]
  },
  {
   "cell_type": "code",
   "execution_count": 90,
   "metadata": {},
   "outputs": [
    {
     "data": {
      "text/plain": [
       "(1399, 11, 400)"
      ]
     },
     "execution_count": 90,
     "metadata": {},
     "output_type": "execute_result"
    }
   ],
   "source": [
    "car_segments, car_labels = segmentation(car_df, 400)\n",
    "np.array(car_segments).shape"
   ]
  },
  {
   "cell_type": "code",
   "execution_count": 91,
   "metadata": {},
   "outputs": [
    {
     "name": "stdout",
     "output_type": "stream",
     "text": [
      "calculating loss for feature  0 ....\n",
      "calculating loss for feature  1 ....\n",
      "calculating loss for feature  2 ....\n",
      "calculating loss for feature  3 ....\n",
      "calculating loss for feature  4 ....\n",
      "calculating loss for feature  5 ....\n",
      "calculating loss for feature  6 ....\n",
      "calculating loss for feature  7 ....\n",
      "calculating loss for feature  8 ....\n",
      "calculating loss for feature  9 ....\n",
      "calculating loss for feature  10 ....\n"
     ]
    }
   ],
   "source": [
    "car_dtw_data = DTWdistance(car_segments, ref)"
   ]
  },
  {
   "cell_type": "code",
   "execution_count": 53,
   "metadata": {
    "collapsed": true
   },
   "outputs": [],
   "source": [
    "# df1 = pd.DataFrame({\"name1\" :car_dtw_data[0], \"name2\" :car_dtw_data[1],\"name3\" :car_dtw_data[2],\n",
    "#                    \"name4\" :car_dtw_data[3], \"name5\" :car_dtw_data[4],\"name6\" :car_dtw_data[5],})\n",
    "# df1.to_csv(\"car_dtw.csv\", index=False)\n"
   ]
  },
  {
   "cell_type": "code",
   "execution_count": 92,
   "metadata": {},
   "outputs": [
    {
     "name": "stdout",
     "output_type": "stream",
     "text": [
      "(11, 1399)\n",
      "(1399, 11)\n"
     ]
    }
   ],
   "source": [
    "print(np.array(car_dtw_data).shape)\n",
    "car_dtw_data = [*zip(*car_dtw_data)]\n",
    "print(np.array(car_dtw_data).shape)"
   ]
  },
  {
   "cell_type": "code",
   "execution_count": 93,
   "metadata": {
    "collapsed": true
   },
   "outputs": [],
   "source": [
    "import csv\n",
    "with open(\"train_car.csv\",\"w+\") as my_csv:\n",
    "    csvWriter = csv.writer(my_csv,delimiter=',')\n",
    "    csvWriter.writerows(car_dtw_data)"
   ]
  },
  {
   "cell_type": "code",
   "execution_count": 95,
   "metadata": {},
   "outputs": [
    {
     "name": "stdout",
     "output_type": "stream",
     "text": [
      "1503\n",
      "1398\n"
     ]
    }
   ],
   "source": [
    "train1 = pd.read_csv('train_bike.csv').values.tolist()\n",
    "train2 = pd.read_csv('train_car.csv').values.tolist()\n",
    "print(len(train1))\n",
    "print(len(train2))"
   ]
  },
  {
   "cell_type": "code",
   "execution_count": 43,
   "metadata": {
    "collapsed": true
   },
   "outputs": [],
   "source": [
    "\n",
    "# # train1 = bike_dtw_data                 #dtw feature vector for bike\n",
    "# label1 = [1]*len(train1)       #putting lebel = 1 to all bike samples\n",
    "\n",
    "# # train2 = car_dtw_data         #dtw feature vector for car\n",
    "# label2 = [0]*len(train2)       #putting lebel = 1 to all car samples\n",
    "\n",
    "# train = [x+y for x,y in zip(train1, train2)]  #putting both traing data into one  \n",
    "\n",
    "# label = label1 + label2  #putting both lables into one label\n",
    "\n",
    "# # train = [*zip(*train)]   #transpose of traing data\n",
    "# train = train1 + train2\n"
   ]
  },
  {
   "cell_type": "code",
   "execution_count": 96,
   "metadata": {
    "collapsed": true
   },
   "outputs": [],
   "source": [
    "label1 = [1]*len(train1)\n",
    "label2 = [0]*len(train2)\n",
    "\n",
    "label = label1 + label2\n",
    "train = train1 + train2\n"
   ]
  },
  {
   "cell_type": "code",
   "execution_count": 97,
   "metadata": {},
   "outputs": [
    {
     "data": {
      "text/plain": [
       "2901"
      ]
     },
     "execution_count": 97,
     "metadata": {},
     "output_type": "execute_result"
    }
   ],
   "source": [
    "len(train)"
   ]
  },
  {
   "cell_type": "code",
   "execution_count": 98,
   "metadata": {
    "collapsed": true
   },
   "outputs": [],
   "source": [
    "RANDOM_SEED = 42\n",
    "X_train, X_test, y_train, y_test = train_test_split(train, label, test_size=0.2, random_state=RANDOM_SEED)"
   ]
  },
  {
   "cell_type": "code",
   "execution_count": 99,
   "metadata": {},
   "outputs": [
    {
     "name": "stdout",
     "output_type": "stream",
     "text": [
      "2320\n",
      "2320\n",
      "581\n",
      "581\n"
     ]
    }
   ],
   "source": [
    "print(len(X_train))\n",
    "print(len(y_train))\n",
    "print(len(X_test))\n",
    "print(len(y_test))\n"
   ]
  },
  {
   "cell_type": "code",
   "execution_count": 100,
   "metadata": {},
   "outputs": [
    {
     "name": "stdout",
     "output_type": "stream",
     "text": [
      "---------SVM model---------\n",
      "\n",
      "cross-validation score \n",
      "\n",
      "[ 0.9311828   0.95053763  0.9375      0.95464363  0.94816415] 0.944405641097 0.00870718798753\n",
      "\n",
      "\n",
      "Accuracy score on test set:  0.974\n"
     ]
    }
   ],
   "source": [
    "# apply svm model\n",
    "print(\"---------SVM model---------\\n\")\n",
    "svm_clf = svm.SVC(kernel='linear', C=1)\n",
    "svm_clf.fit(X_train, y_train)\n",
    "svm_predict_y = svm_clf.predict(X_test)\n",
    "\n",
    "# get the 5-fold cross-validation score\n",
    "\n",
    "print(\"cross-validation score \\n\")\n",
    "scores = cross_val_score(svm_clf, X_train, y_train, cv=5)\n",
    "print(scores, scores.mean(), scores.std())\n",
    "\n",
    "\n",
    "# apply model to test set\n",
    "svm_clf.fit(X_train, y_train)\n",
    "svm_predict_y = svm_clf.predict(X_test)\n",
    "print(\"\\n\")\n",
    "# obtain accuracy score\n",
    "testscore = accuracy_score(y_test, svm_predict_y)\n",
    "print(\"Accuracy score on test set: %6.3f\" % testscore)"
   ]
  },
  {
   "cell_type": "code",
   "execution_count": 101,
   "metadata": {},
   "outputs": [
    {
     "name": "stdout",
     "output_type": "stream",
     "text": [
      "---------Random-Forest---------\n",
      "\n",
      "cross-validation score \n",
      "\n",
      "[ 0.99784946  0.99784946  0.99353448  0.99568035  0.99784017] 0.99655078517 0.00172576885309\n",
      "\n",
      "\n",
      "Accuracy score on test set:  0.997\n"
     ]
    }
   ],
   "source": [
    "\n",
    "# train a random forest\n",
    "print(\"---------Random-Forest---------\\n\")\n",
    "rf_clf = RandomForestClassifier(n_estimators=200)\n",
    "# get the 5-fold cross-validation score\n",
    "print(\"cross-validation score \\n\")\n",
    "scores = cross_val_score(rf_clf, X_train, y_train, cv=5)\n",
    "print(scores, scores.mean(), scores.std())\n",
    "\n",
    "\n",
    "# apply model to test set\n",
    "rf_clf.fit(X_train, y_train)\n",
    "rf_predict_y = rf_clf.predict(X_test)\n",
    "\n",
    "print(\"\\n\")\n",
    "# obtain accuracy score\n",
    "testscore = accuracy_score(y_test, rf_predict_y)\n",
    "print(\"Accuracy score on test set: %6.3f\" % testscore)"
   ]
  },
  {
   "cell_type": "code",
   "execution_count": 103,
   "metadata": {},
   "outputs": [
    {
     "name": "stdout",
     "output_type": "stream",
     "text": [
      "accuracy using svm model1 :  0.566265060241\n"
     ]
    }
   ],
   "source": [
    "pickle_path = 'rf_model2.pkl'\n",
    "unpickle = open(pickle_path, 'rb')\n",
    "\n",
    "grd_bst = pickle.load(unpickle)\n",
    "pred_grd = grd_bst.predict(X_test)\n",
    "# pred_grd = le.inverse_transform(pred_grd)\n",
    "accuracy_grd = accuracy_score(pred_grd,y_test)\n",
    "print('accuracy using svm model1 : ',accuracy_grd)"
   ]
  },
  {
   "cell_type": "code",
   "execution_count": 79,
   "metadata": {},
   "outputs": [
    {
     "name": "stdout",
     "output_type": "stream",
     "text": [
      "accuracy using svm model1 :  0.707401032702\n"
     ]
    }
   ],
   "source": [
    "pickle_path = 'svm_model2.pkl'\n",
    "unpickle = open(pickle_path, 'rb')\n",
    "grd_bst = pickle.load(unpickle)\n",
    "pred_grd = grd_bst.predict(X_test)\n",
    "# pred_grd = le.inverse_transform(pred_grd)\n",
    "accuracy_grd = accuracy_score(pred_grd,y_test)\n",
    "print('accuracy using svm model1 : ',accuracy_grd)"
   ]
  },
  {
   "cell_type": "code",
   "execution_count": null,
   "metadata": {
    "collapsed": true
   },
   "outputs": [],
   "source": []
  }
 ],
 "metadata": {
  "kernelspec": {
   "display_name": "Python 3",
   "language": "python",
   "name": "python3"
  },
  "language_info": {
   "codemirror_mode": {
    "name": "ipython",
    "version": 3
   },
   "file_extension": ".py",
   "mimetype": "text/x-python",
   "name": "python",
   "nbconvert_exporter": "python",
   "pygments_lexer": "ipython3",
   "version": "3.6.3"
  }
 },
 "nbformat": 4,
 "nbformat_minor": 2
}
