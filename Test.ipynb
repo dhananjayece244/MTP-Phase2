{
 "cells": [
  {
   "cell_type": "code",
   "execution_count": 97,
   "metadata": {
    "collapsed": true
   },
   "outputs": [],
   "source": [
    "#DTW calculation\n",
    "\n",
    "import pandas as pd\n",
    "import numpy as np\n",
    "import os\n",
    "import glob \n",
    "import pickle\n",
    "from math import *\n",
    "import matplotlib.pyplot as plt\n",
    "from scipy import stats\n",
    "import seaborn as sns\n",
    "from pylab import rcParams\n",
    "from sklearn import metrics\n",
    "from sklearn.model_selection import train_test_split\n",
    "from scipy.ndimage import gaussian_filter\n",
    "from scipy.fftpack import fft\n",
    "from dtw import dtw\n",
    "from numpy import array, zeros, argmin, inf, ndim\n",
    "from scipy.spatial.distance import cdist\n",
    "from sklearn.metrics.pairwise import manhattan_distances\n",
    "from sklearn import svm\n",
    "from sklearn.ensemble import RandomForestClassifier\n",
    "from sklearn.cross_validation import cross_val_score\n",
    "from sklearn.metrics import accuracy_score\n",
    "# from quatrotate import qv_mult # this routine implements rotation via quaternion multiplication\n",
    "\n",
    "%matplotlib inline"
   ]
  },
  {
   "cell_type": "code",
   "execution_count": 31,
   "metadata": {
    "collapsed": true
   },
   "outputs": [],
   "source": [
    "def find_contiguous_colors(colors):\n",
    "    # finds the continuous segments of colors and returns those segments\n",
    "    segs = []\n",
    "    curr_seg = []\n",
    "    prev_color = ''\n",
    "    for c in colors:\n",
    "        if c == prev_color or prev_color == '':\n",
    "            curr_seg.append(c)\n",
    "        else:\n",
    "            segs.append(curr_seg)\n",
    "            curr_seg = []\n",
    "            curr_seg.append(c)\n",
    "        prev_color = c\n",
    "    segs.append(curr_seg) # the final one\n",
    "    return segs\n",
    " \n",
    "def plot_multicolored_lines(x,y,colors):\n",
    "    segments = find_contiguous_colors(colors)\n",
    "    plt.figure(figsize=(20,4))\n",
    "    start= 0\n",
    "    for seg in segments:\n",
    "        end = start + len(seg)\n",
    "        l, = plt.gca().plot(x[start-1:end+1],y[start-1:end+1],lw=2,c=seg[0]) \n",
    "        start = end"
   ]
  },
  {
   "cell_type": "code",
   "execution_count": 32,
   "metadata": {
    "collapsed": true
   },
   "outputs": [],
   "source": [
    "# Function to map the colors as a list from the input list of x variables\n",
    "def color_mapping(lst):\n",
    "    cols=[]\n",
    "    colors = {'ST':'blue', 'LT':'red','RT':'green'}\n",
    "    for l in lst:\n",
    "        cols.append(colors[l])      \n",
    "    return cols"
   ]
  },
  {
   "cell_type": "code",
   "execution_count": 33,
   "metadata": {
    "collapsed": true
   },
   "outputs": [],
   "source": [
    "def GaussianFilter(df, window_length):\n",
    "    df1 = df\n",
    "    \n",
    "    df1['AX'] = gaussian_filter(df['AX'], window_length)\n",
    "    df1['AY'] = gaussian_filter(df['AY'], window_length)\n",
    "    df1['AZ'] = gaussian_filter(df['AZ'], window_length)\n",
    "\n",
    "    df1['GX'] = gaussian_filter(df['GX'], window_length)\n",
    "    df1['GY'] = gaussian_filter(df['GY'], window_length)\n",
    "    df1['GZ'] = gaussian_filter(df['GZ'], window_length)\n",
    "    \n",
    "    df1['AX1'] = gaussian_filter(df['AX1'], window_length)\n",
    "    df1['AY1'] = gaussian_filter(df['AY1'], window_length)\n",
    "    df1['AZ1'] = gaussian_filter(df['AZ1'], window_length)\n",
    "\n",
    "    df1['GX1'] = gaussian_filter(df['GX1'], window_length)\n",
    "    df1['GY1'] = gaussian_filter(df['GY1'], window_length)\n",
    "    df1['GZ1'] = gaussian_filter(df['GZ1'], window_length)\n",
    "    return df1"
   ]
  },
  {
   "cell_type": "code",
   "execution_count": 34,
   "metadata": {
    "collapsed": true
   },
   "outputs": [],
   "source": [
    "def Amplitude(df, input_features, out_feature):\n",
    "    df[out_feature] = (df[input_features[0]]**2 + df[input_features[1]]**2  + df[input_features[2]]**2)**(1/2)\n",
    "  \n",
    "    "
   ]
  },
  {
   "cell_type": "code",
   "execution_count": 35,
   "metadata": {
    "collapsed": true
   },
   "outputs": [],
   "source": [
    "def Yaw_Roll_Pitch(df):\n",
    "    roll  = []\n",
    "    pitch = []\n",
    "    yaw   = []\n",
    "    for i in range(len(df)):\n",
    "        x = df['AX'][i]\n",
    "        y = df['AY'][i]\n",
    "        z = df['AZ'][i]\n",
    "        roll1 = atan(y/z)*57.3\n",
    "        pitch1= atan((-x/(y*y + z*z)**(1/2)))*57.3\n",
    "        yaw1  = atan((z/((x*x + z*z)**(1/2))))*57.3\n",
    "        \n",
    "        roll.append(roll1)\n",
    "        pitch.append(pitch1)\n",
    "        yaw.append(yaw1)\n",
    "    \n",
    "    df['orientX'] = pitch\n",
    "    df['orientY'] = roll\n",
    "    df['orientZ'] = yaw"
   ]
  },
  {
   "cell_type": "code",
   "execution_count": null,
   "metadata": {
    "collapsed": true
   },
   "outputs": [],
   "source": []
  },
  {
   "cell_type": "code",
   "execution_count": 36,
   "metadata": {
    "collapsed": true
   },
   "outputs": [],
   "source": [
    "def getQuat(df):\n",
    "\n",
    "        \"\"\" Given 3 orientation angles, compute the quaternion. \"\"\"\n",
    "\n",
    "        yaw   = df['orientZ'] / 2. * np.pi / 180\n",
    "        roll  = df['orientX'] / 2. * np.pi / 180\n",
    "        pitch = df['orientY'] / 2. * np.pi / 180\n",
    "\n",
    "        w =  np.cos(roll) * np.cos(pitch) * np.cos(yaw) + \\\n",
    "                np.sin(roll) * np.sin(pitch) * np.sin(yaw)\n",
    "\n",
    "        x =  np.sin(roll) * np.cos(pitch) * np.cos(yaw) - \\\n",
    "                np.cos(roll) * np.sin(pitch) * np.sin(yaw)\n",
    "\n",
    "        y =  np.cos(roll) * np.sin(pitch) * np.cos(yaw) + \\\n",
    "                np.sin(roll) * np.cos(pitch) * np.sin(yaw)\n",
    "\n",
    "        z =  np.cos(roll) * np.cos(pitch) * np.sin(yaw) - \\\n",
    "                np.sin(roll) * np.sin(pitch) * np.cos(yaw)\n",
    "\n",
    "        return w, x, y, z"
   ]
  },
  {
   "cell_type": "code",
   "execution_count": 37,
   "metadata": {
    "collapsed": true
   },
   "outputs": [],
   "source": [
    "\"\"\"\n",
    "Rotate a 3D vector using the axis-angle method (quaternions).\n",
    "\"\"\"\n",
    "\n",
    "import numpy as np\n",
    "\n",
    "\n",
    "def normalize(v, tolerance=0.00001):\n",
    "    mag2 = sum(n * n for n in v)\n",
    "    if abs(mag2 - 1.0) > tolerance:\n",
    "        mag = np.sqrt(mag2)\n",
    "        v = tuple(n / mag for n in v)\n",
    "    return v\n",
    "\n",
    "def q_mult(q1, q2):\n",
    "    w1, x1, y1, z1 = q1\n",
    "    w2, x2, y2, z2 = q2\n",
    "    w = w1 * w2 - x1 * x2 - y1 * y2 - z1 * z2\n",
    "    x = w1 * x2 + x1 * w2 + y1 * z2 - z1 * y2\n",
    "    y = w1 * y2 + y1 * w2 + z1 * x2 - x1 * z2\n",
    "    z = w1 * z2 + z1 * w2 + x1 * y2 - y1 * x2\n",
    "    return w, x, y, z\n",
    "\n",
    "def q_conjugate(q):\n",
    "    w, x, y, z = q\n",
    "    return (w, -x, -y, -z)\n",
    "\n",
    "def qv_mult(q1, v1):\n",
    "    q2 = (0.0,) + v1\n",
    "    return q_mult(q_mult(q1, q2), q_conjugate(q1))[1:]\n",
    "\n",
    "def axisangle_to_q(v, theta):\n",
    "    v = normalize(v)\n",
    "    x, y, z = v\n",
    "    theta /= 2\n",
    "    w = np.cos(theta)\n",
    "    x = x * np.sin(theta)\n",
    "    y = y * np.sin(theta)\n",
    "    z = z * np.sin(theta)\n",
    "    return w, x, y, z\n",
    "\n",
    "def q_to_axisangle(q):\n",
    "    w, v = q[0], q[1:]\n",
    "    theta = np.acos(w) * 2.0\n",
    "    return normalize(v), theta"
   ]
  },
  {
   "cell_type": "code",
   "execution_count": 38,
   "metadata": {
    "collapsed": true
   },
   "outputs": [],
   "source": [
    "def get_rotation(quatern, vector):\n",
    "    rotaedvector = []\n",
    "    for i in range(vector.shape[0]):\n",
    "        rotaedvector.append(qv_mult(tuple(quatern[i,:]), tuple(vector[i,:])))\n",
    "    return np.array(rotaedvector)"
   ]
  },
  {
   "cell_type": "code",
   "execution_count": 39,
   "metadata": {
    "collapsed": true
   },
   "outputs": [],
   "source": [
    "def rotate(df):\n",
    "    features = ['A', 'G']\n",
    "    quaternion = df[['quaternionW', 'quaternionX',\n",
    "                     'quaternionY','quaternionZ']].values\n",
    "    \n",
    "    for f in features:\n",
    "        xyzlist = [f + 'X', f + 'Y', f + 'Z']\n",
    "        xyz = df[xyzlist].values\n",
    "        xyz_rotated = get_rotation(quaternion, xyz)\n",
    "        df[f + 'X1'] = xyz_rotated[:,0]\n",
    "        df[f + 'Y1'] = xyz_rotated[:,1]\n",
    "        df[f + 'Z1'] = xyz_rotated[:,2]\n",
    "        "
   ]
  },
  {
   "cell_type": "code",
   "execution_count": 40,
   "metadata": {
    "collapsed": true
   },
   "outputs": [],
   "source": [
    "#generate frequency domain data from time domain data usinf Fast Fourier transformation\n",
    "\n",
    "def FFT(df, input_features, output_features):\n",
    "    \n",
    "    for i in range(len(input_features)):\n",
    "        reals = np.real(np.fft.rfft(df[input_features[i]]))\n",
    "        imagn = np.imag(np.fft.rfft(df[input_features[i]]))\n",
    "\n",
    "        complexs = [reals[0]]\n",
    "        n = len(reals)\n",
    "        if(n%2 == 0):\n",
    "            complexs.append(imagn[0])\n",
    "        for j in range(1, n-1):\n",
    "            complexs.append(reals[j])\n",
    "            complexs.append(imagn[j])\n",
    "        if( len(df) > len(complexs)):\n",
    "            complexs.append(reals[j])\n",
    "        if( len(df) > len(complexs)):\n",
    "            complexs.append(imagn[j])\n",
    "            \n",
    "        df[output_features[i]] = complexs\n",
    "    return df"
   ]
  },
  {
   "cell_type": "code",
   "execution_count": 41,
   "metadata": {
    "collapsed": true
   },
   "outputs": [],
   "source": [
    "def segmentation(df, N_TIME_STEPS):\n",
    "    \n",
    "    N_FEATURES = 1\n",
    "    step = 50\n",
    "    segments = []\n",
    "    labels = []\n",
    "    for i in range(0, len(df) - N_TIME_STEPS, step):\n",
    "        gx = df['GX1'].values[i: i + N_TIME_STEPS]\n",
    "        gy = df['GY1'].values[i: i + N_TIME_STEPS]\n",
    "        gz = df['GZ1'].values[i: i + N_TIME_STEPS]\n",
    "        \n",
    "        ax = df['AX1'].values[i: i + N_TIME_STEPS]\n",
    "        ay = df['AY1'].values[i: i + N_TIME_STEPS]\n",
    "        az = df['AZ1'].values[i: i + N_TIME_STEPS]\n",
    "        \n",
    "        fax = df['fAX'].values[i: i + N_TIME_STEPS]\n",
    "        fay = df['fAY'].values[i: i + N_TIME_STEPS]\n",
    "        faz = df['fAZ'].values[i: i + N_TIME_STEPS]\n",
    "        \n",
    "        ma = df['mAcc'].values[i: i + N_TIME_STEPS]\n",
    "        mz = df['mGyro'].values[i: i + N_TIME_STEPS]\n",
    "        label = \"ST\"\n",
    "        segments.append([gx, gy, gz, ax, ay, az, ma, mz, fax, fay, faz])\n",
    "#         labels = stats.mode(df['activity'][i: i + N_TIME_STEPS])[0][0]\n",
    "        labels.append(label)\n",
    "    return segments, labels"
   ]
  },
  {
   "cell_type": "code",
   "execution_count": 42,
   "metadata": {
    "collapsed": true
   },
   "outputs": [],
   "source": [
    "def DTWDistance(s1, s2, w):\n",
    "    DTW={}\n",
    "\n",
    "    w = max(w, abs(len(s1)-len(s2)))\n",
    "\n",
    "    for i in range(-1,len(s1)):\n",
    "        for j in range(-1,len(s2)):\n",
    "            DTW[(i, j)] = float('inf')\n",
    "    DTW[(-1, -1)] = 0\n",
    "\n",
    "    for i in range(len(s1)):\n",
    "        for j in range(max(0, i-w), min(len(s2), i+w)):\n",
    "            dist= (s1[i]-s2[j])**2\n",
    "            DTW[(i, j)] = dist + min(DTW[(i-1, j)],DTW[(i, j-1)], DTW[(i-1, j-1)])\n",
    "\n",
    "    return (DTW[len(s1)-1, len(s2)-1])**(1/2)"
   ]
  },
  {
   "cell_type": "code",
   "execution_count": 43,
   "metadata": {
    "collapsed": true
   },
   "outputs": [],
   "source": [
    "def loss_for_segments(segments, comp, feature):\n",
    "    loss =[]\n",
    "    labels=[]\n",
    "    length = len(segments)\n",
    "    for i in range(length):\n",
    "        x = segments[i][feature]        \n",
    "        dist = DTWDistance(x, comp, 50)\n",
    "#         print(i , '=>', dist)\n",
    "        loss.append(dist)\n",
    "    \n",
    "    return loss"
   ]
  },
  {
   "cell_type": "code",
   "execution_count": 44,
   "metadata": {
    "collapsed": true
   },
   "outputs": [],
   "source": [
    "def data_preprocessing(df):\n",
    "    \n",
    "    #mean feature of 3-axis accelerometer data\n",
    "    input_features = ['AX', 'AY', 'AZ']\n",
    "    output_feature = 'mAcc'\n",
    "    Amplitude(df, input_features, output_feature)\n",
    "    \n",
    "    #mean feature of 3-axis gyroscope data\n",
    "    input_features = ['GX', 'GY', 'GZ']\n",
    "    output_feature = 'mGyro'\n",
    "    Amplitude(df, input_features, output_feature)\n",
    "    \n",
    "    #Re-Orientation of 3-axis acc. and gyro sensor data\n",
    "    Yaw_Roll_Pitch(df)\n",
    "    qw, qx, qy, qz = getQuat(df)\n",
    "    df['quaternionW'] = qw\n",
    "    df['quaternionX'] = qx\n",
    "    df['quaternionY'] = qy\n",
    "    df['quaternionZ'] = qz\n",
    "    rotate(df)\n",
    "    #apply gaussian filter with window size 10\n",
    "    df = GaussianFilter(df, 10)\n",
    "\n",
    "    #Frequency domain feature generation from time series accelerometer data\n",
    "    input_features = ['AX1', 'AY1', 'AZ1']\n",
    "    output_feature = ['fAX', 'fAY', 'fAZ']\n",
    "    df = FFT(df, input_features, output_feature)\n",
    "    \n",
    "    #Frequency domain feature generation from time series gyroscope data\n",
    "    input_features = ['AX1', 'AY1', 'AZ1']\n",
    "    output_feature = ['fGX', 'fGY', 'fGZ']\n",
    "    df = FFT(df, input_features, output_feature)\n",
    "    \n",
    "    return df"
   ]
  },
  {
   "cell_type": "code",
   "execution_count": 45,
   "metadata": {
    "collapsed": true
   },
   "outputs": [],
   "source": [
    "#read csv file and return its data-frame\n",
    "def read_csv_file(acc, gyro, mode):\n",
    "    df_gyro = pd.read_csv(gyro, index_col=False)\n",
    "    df      = pd.read_csv(acc,  index_col=False)\n",
    "    df.rename(columns = {'X': 'AX', 'Y':'AY', 'Z':'AZ'}, inplace = True)\n",
    "    df['GX'] = df_gyro['X']\n",
    "    df['GY'] = df_gyro['Y']\n",
    "    df['GZ'] = df_gyro['Z']\n",
    "    \n",
    "    df['activity'] = mode\n",
    "    \n",
    "    return df"
   ]
  },
  {
   "cell_type": "code",
   "execution_count": 46,
   "metadata": {
    "collapsed": true
   },
   "outputs": [],
   "source": [
    "def read_files(acc_file, gyro_file, activity):\n",
    "    df = read_csv_file(acc_file, gyro_file, activity)\n",
    "    df.reset_index(drop = True , inplace = True)\n",
    "    if('Milliseconds' in df.columns):\n",
    "        df = df.drop('Milliseconds', axis=1)\n",
    "    if('Timestamp' in df.columns):\n",
    "        df = df.drop('Timestamp', axis=1)\n",
    "\n",
    "    df = data_preprocessing(df)\n",
    "    \n",
    "    return df\n",
    "    "
   ]
  },
  {
   "cell_type": "code",
   "execution_count": 48,
   "metadata": {},
   "outputs": [
    {
     "name": "stdout",
     "output_type": "stream",
     "text": [
      "/home/vicky/Desktop/Dhananjay/human-activity/data/bike/Bike0903/2018-09-03_16-06-48/Accelerometer.csv\n",
      "/home/vicky/Desktop/Dhananjay/human-activity/data/bike/Bike0903/2018-09-03_16-06-48/Gyroscope.csv\n",
      "len of this file  (296, 28)\n",
      "len of this file  (0, 28)\n",
      "(0, 28)\n",
      "/home/vicky/Desktop/Dhananjay/human-activity/data/bike/Bike0903/2018-09-03_15-58-17/Accelerometer.csv\n",
      "/home/vicky/Desktop/Dhananjay/human-activity/data/bike/Bike0903/2018-09-03_15-58-17/Gyroscope.csv\n",
      "len of this file  (11542, 28)\n",
      "len of this file  (10692, 28)\n",
      "(10692, 28)\n",
      "/home/vicky/Desktop/Dhananjay/human-activity/data/bike/Bike0903/2018-09-03_16-12-17/Accelerometer.csv\n",
      "/home/vicky/Desktop/Dhananjay/human-activity/data/bike/Bike0903/2018-09-03_16-12-17/Gyroscope.csv\n",
      "len of this file  (10027, 28)\n",
      "len of this file  (9177, 28)\n",
      "(19869, 28)\n",
      "/home/vicky/Desktop/Dhananjay/human-activity/data/bike/Bike0903/2018-09-03_15-53-27/Accelerometer.csv\n",
      "/home/vicky/Desktop/Dhananjay/human-activity/data/bike/Bike0903/2018-09-03_15-53-27/Gyroscope.csv\n",
      "len of this file  (10710, 28)\n",
      "len of this file  (9860, 28)\n",
      "(29729, 28)\n",
      "/home/vicky/Desktop/Dhananjay/human-activity/data/bike/Bike0903/2018-09-03_16-03-12/Accelerometer.csv\n",
      "/home/vicky/Desktop/Dhananjay/human-activity/data/bike/Bike0903/2018-09-03_16-03-12/Gyroscope.csv\n",
      "len of this file  (10312, 28)\n",
      "len of this file  (9462, 28)\n",
      "(39191, 28)\n",
      "/home/vicky/Desktop/Dhananjay/human-activity/data/bike/Bike0903/2018-09-03_16-16-05/Accelerometer.csv\n",
      "/home/vicky/Desktop/Dhananjay/human-activity/data/bike/Bike0903/2018-09-03_16-16-05/Gyroscope.csv\n",
      "len of this file  (10769, 28)\n",
      "len of this file  (9919, 28)\n",
      "(49110, 28)\n",
      "/home/vicky/Desktop/Dhananjay/human-activity/data/bike/bike50/2018-08-08_15-08-54/Accelerometer.csv\n",
      "/home/vicky/Desktop/Dhananjay/human-activity/data/bike/bike50/2018-08-08_15-08-54/Gyroscope.csv\n",
      "len of this file  (4699, 28)\n",
      "len of this file  (3849, 28)\n",
      "(52959, 28)\n",
      "/home/vicky/Desktop/Dhananjay/human-activity/data/bike/bike50/2018-08-08_15-12-47/Accelerometer.csv\n",
      "/home/vicky/Desktop/Dhananjay/human-activity/data/bike/bike50/2018-08-08_15-12-47/Gyroscope.csv\n",
      "len of this file  (2843, 28)\n",
      "len of this file  (1993, 28)\n",
      "(54952, 28)\n",
      "/home/vicky/Desktop/Dhananjay/human-activity/data/bike/bike50/2018-08-08_15-15-20/Accelerometer.csv\n",
      "/home/vicky/Desktop/Dhananjay/human-activity/data/bike/bike50/2018-08-08_15-15-20/Gyroscope.csv\n",
      "len of this file  (368, 28)\n",
      "len of this file  (0, 28)\n",
      "(54952, 28)\n"
     ]
    },
    {
     "data": {
      "text/html": [
       "<div>\n",
       "<style>\n",
       "    .dataframe thead tr:only-child th {\n",
       "        text-align: right;\n",
       "    }\n",
       "\n",
       "    .dataframe thead th {\n",
       "        text-align: left;\n",
       "    }\n",
       "\n",
       "    .dataframe tbody tr th {\n",
       "        vertical-align: top;\n",
       "    }\n",
       "</style>\n",
       "<table border=\"1\" class=\"dataframe\">\n",
       "  <thead>\n",
       "    <tr style=\"text-align: right;\">\n",
       "      <th></th>\n",
       "      <th>AX</th>\n",
       "      <th>AY</th>\n",
       "      <th>AZ</th>\n",
       "      <th>GX</th>\n",
       "      <th>GY</th>\n",
       "      <th>GZ</th>\n",
       "      <th>activity</th>\n",
       "      <th>mAcc</th>\n",
       "      <th>mGyro</th>\n",
       "      <th>orientX</th>\n",
       "      <th>...</th>\n",
       "      <th>AZ1</th>\n",
       "      <th>GX1</th>\n",
       "      <th>GY1</th>\n",
       "      <th>GZ1</th>\n",
       "      <th>fAX</th>\n",
       "      <th>fAY</th>\n",
       "      <th>fAZ</th>\n",
       "      <th>fGX</th>\n",
       "      <th>fGY</th>\n",
       "      <th>fGZ</th>\n",
       "    </tr>\n",
       "  </thead>\n",
       "  <tbody>\n",
       "    <tr>\n",
       "      <th>0</th>\n",
       "      <td>7.460085</td>\n",
       "      <td>-0.465215</td>\n",
       "      <td>-6.659244</td>\n",
       "      <td>-0.133173</td>\n",
       "      <td>-0.076351</td>\n",
       "      <td>0.104627</td>\n",
       "      <td>bike</td>\n",
       "      <td>10.636006</td>\n",
       "      <td>0.355847</td>\n",
       "      <td>-47.395713</td>\n",
       "      <td>...</td>\n",
       "      <td>-4.590110</td>\n",
       "      <td>-0.082149</td>\n",
       "      <td>0.089859</td>\n",
       "      <td>0.134064</td>\n",
       "      <td>86.058397</td>\n",
       "      <td>-159.980622</td>\n",
       "      <td>25.947229</td>\n",
       "      <td>86.058397</td>\n",
       "      <td>-159.980622</td>\n",
       "      <td>25.947229</td>\n",
       "    </tr>\n",
       "    <tr>\n",
       "      <th>1</th>\n",
       "      <td>7.452273</td>\n",
       "      <td>-0.433641</td>\n",
       "      <td>-6.664484</td>\n",
       "      <td>-0.141457</td>\n",
       "      <td>-0.077701</td>\n",
       "      <td>0.103369</td>\n",
       "      <td>bike</td>\n",
       "      <td>10.767709</td>\n",
       "      <td>0.379878</td>\n",
       "      <td>-46.602038</td>\n",
       "      <td>...</td>\n",
       "      <td>-4.585738</td>\n",
       "      <td>-0.090293</td>\n",
       "      <td>0.093288</td>\n",
       "      <td>0.134555</td>\n",
       "      <td>-90.213558</td>\n",
       "      <td>96.536584</td>\n",
       "      <td>-67.436650</td>\n",
       "      <td>-90.213558</td>\n",
       "      <td>96.536584</td>\n",
       "      <td>-67.436650</td>\n",
       "    </tr>\n",
       "    <tr>\n",
       "      <th>2</th>\n",
       "      <td>7.445477</td>\n",
       "      <td>-0.399441</td>\n",
       "      <td>-6.667991</td>\n",
       "      <td>-0.148915</td>\n",
       "      <td>-0.078951</td>\n",
       "      <td>0.101645</td>\n",
       "      <td>bike</td>\n",
       "      <td>10.719359</td>\n",
       "      <td>0.369426</td>\n",
       "      <td>-43.339614</td>\n",
       "      <td>...</td>\n",
       "      <td>-4.578397</td>\n",
       "      <td>-0.097998</td>\n",
       "      <td>0.096087</td>\n",
       "      <td>0.134522</td>\n",
       "      <td>-9.293082</td>\n",
       "      <td>-244.228289</td>\n",
       "      <td>-153.633644</td>\n",
       "      <td>-9.293082</td>\n",
       "      <td>-244.228289</td>\n",
       "      <td>-153.633644</td>\n",
       "    </tr>\n",
       "    <tr>\n",
       "      <th>3</th>\n",
       "      <td>7.439853</td>\n",
       "      <td>-0.362867</td>\n",
       "      <td>-6.669897</td>\n",
       "      <td>-0.155505</td>\n",
       "      <td>-0.080184</td>\n",
       "      <td>0.099483</td>\n",
       "      <td>bike</td>\n",
       "      <td>10.347442</td>\n",
       "      <td>0.343799</td>\n",
       "      <td>-46.065108</td>\n",
       "      <td>...</td>\n",
       "      <td>-4.568265</td>\n",
       "      <td>-0.105249</td>\n",
       "      <td>0.098195</td>\n",
       "      <td>0.134042</td>\n",
       "      <td>-124.756576</td>\n",
       "      <td>49.903874</td>\n",
       "      <td>-55.312569</td>\n",
       "      <td>-124.756576</td>\n",
       "      <td>49.903874</td>\n",
       "      <td>-55.312569</td>\n",
       "    </tr>\n",
       "    <tr>\n",
       "      <th>4</th>\n",
       "      <td>7.435473</td>\n",
       "      <td>-0.324261</td>\n",
       "      <td>-6.670382</td>\n",
       "      <td>-0.161207</td>\n",
       "      <td>-0.081489</td>\n",
       "      <td>0.096916</td>\n",
       "      <td>bike</td>\n",
       "      <td>8.139410</td>\n",
       "      <td>0.342391</td>\n",
       "      <td>-40.143515</td>\n",
       "      <td>...</td>\n",
       "      <td>-4.555631</td>\n",
       "      <td>-0.112046</td>\n",
       "      <td>0.099570</td>\n",
       "      <td>0.133198</td>\n",
       "      <td>114.331420</td>\n",
       "      <td>-136.567513</td>\n",
       "      <td>-29.173003</td>\n",
       "      <td>114.331420</td>\n",
       "      <td>-136.567513</td>\n",
       "      <td>-29.173003</td>\n",
       "    </tr>\n",
       "  </tbody>\n",
       "</table>\n",
       "<p>5 rows × 28 columns</p>\n",
       "</div>"
      ],
      "text/plain": [
       "         AX        AY        AZ        GX        GY        GZ activity  \\\n",
       "0  7.460085 -0.465215 -6.659244 -0.133173 -0.076351  0.104627     bike   \n",
       "1  7.452273 -0.433641 -6.664484 -0.141457 -0.077701  0.103369     bike   \n",
       "2  7.445477 -0.399441 -6.667991 -0.148915 -0.078951  0.101645     bike   \n",
       "3  7.439853 -0.362867 -6.669897 -0.155505 -0.080184  0.099483     bike   \n",
       "4  7.435473 -0.324261 -6.670382 -0.161207 -0.081489  0.096916     bike   \n",
       "\n",
       "        mAcc     mGyro    orientX     ...           AZ1       GX1       GY1  \\\n",
       "0  10.636006  0.355847 -47.395713     ...     -4.590110 -0.082149  0.089859   \n",
       "1  10.767709  0.379878 -46.602038     ...     -4.585738 -0.090293  0.093288   \n",
       "2  10.719359  0.369426 -43.339614     ...     -4.578397 -0.097998  0.096087   \n",
       "3  10.347442  0.343799 -46.065108     ...     -4.568265 -0.105249  0.098195   \n",
       "4   8.139410  0.342391 -40.143515     ...     -4.555631 -0.112046  0.099570   \n",
       "\n",
       "        GZ1         fAX         fAY         fAZ         fGX         fGY  \\\n",
       "0  0.134064   86.058397 -159.980622   25.947229   86.058397 -159.980622   \n",
       "1  0.134555  -90.213558   96.536584  -67.436650  -90.213558   96.536584   \n",
       "2  0.134522   -9.293082 -244.228289 -153.633644   -9.293082 -244.228289   \n",
       "3  0.134042 -124.756576   49.903874  -55.312569 -124.756576   49.903874   \n",
       "4  0.133198  114.331420 -136.567513  -29.173003  114.331420 -136.567513   \n",
       "\n",
       "          fGZ  \n",
       "0   25.947229  \n",
       "1  -67.436650  \n",
       "2 -153.633644  \n",
       "3  -55.312569  \n",
       "4  -29.173003  \n",
       "\n",
       "[5 rows x 28 columns]"
      ]
     },
     "execution_count": 48,
     "metadata": {},
     "output_type": "execute_result"
    }
   ],
   "source": [
    "  \n",
    "path_acc = os.getcwd() + '/data/bike/*/*/*Accelerometer.csv'  \n",
    "path_gyro= os.getcwd() + '/data/bike/*/*/*Gyroscope.csv'  \n",
    "acc_files = glob.glob(path_acc)\n",
    "gyro_files= glob.glob(path_gyro)\n",
    "bike_df= read_files(acc_files[0], gyro_files[0], 'bike')\n",
    "n = len(bike_df)\n",
    "bike_df = bike_df[500:n-500]\n",
    "for acc_file, gyro_file in zip(acc_files, gyro_files) :\n",
    "    print(acc_file)\n",
    "    print(gyro_file)\n",
    "    df_this = read_files(acc_file, gyro_file, 'bike')\n",
    "    n = len(df_this)\n",
    "    print(\"len of this file \",df_this.shape)\n",
    "    df_this = df_this[350 : n-500]\n",
    "    print(\"len of this file \",df_this.shape)\n",
    "    bike_df = pd.concat([bike_df, df_this])\n",
    "    print(bike_df.shape)\n",
    "bike_df.reset_index(drop = True, inplace = True)\n",
    "bike_df.head()\n"
   ]
  },
  {
   "cell_type": "code",
   "execution_count": 49,
   "metadata": {},
   "outputs": [
    {
     "name": "stdout",
     "output_type": "stream",
     "text": [
      "(54952, 28)\n"
     ]
    },
    {
     "data": {
      "text/plain": [
       "Index(['AX', 'AY', 'AZ', 'GX', 'GY', 'GZ', 'activity', 'mAcc', 'mGyro',\n",
       "       'orientX', 'orientY', 'orientZ', 'quaternionW', 'quaternionX',\n",
       "       'quaternionY', 'quaternionZ', 'AX1', 'AY1', 'AZ1', 'GX1', 'GY1', 'GZ1',\n",
       "       'fAX', 'fAY', 'fAZ', 'fGX', 'fGY', 'fGZ'],\n",
       "      dtype='object')"
      ]
     },
     "execution_count": 49,
     "metadata": {},
     "output_type": "execute_result"
    }
   ],
   "source": [
    "print(bike_df.shape)\n",
    "bike_df.columns"
   ]
  },
  {
   "cell_type": "code",
   "execution_count": 50,
   "metadata": {},
   "outputs": [
    {
     "data": {
      "text/plain": [
       "(1092, 11, 400)"
      ]
     },
     "execution_count": 50,
     "metadata": {},
     "output_type": "execute_result"
    }
   ],
   "source": [
    "bike_segments, bike_labels = segmentation(bike_df, 400)\n",
    "np.array(bike_segments).shape"
   ]
  },
  {
   "cell_type": "code",
   "execution_count": 51,
   "metadata": {
    "collapsed": true
   },
   "outputs": [],
   "source": [
    "def DTWdistance(segments, ref):\n",
    "    y = segments\n",
    "    DTW_list = []\n",
    "    for i in range(len(segments[1])):\n",
    "        x = ref\n",
    "        print(\"calculating loss for feature \", i, \"....\")\n",
    "        diff = loss_for_segments(y, x, i)\n",
    "        print(\"Done\")\n",
    "        DTW_list.append(diff)\n",
    "    \n",
    "    return DTW_list  "
   ]
  },
  {
   "cell_type": "code",
   "execution_count": 52,
   "metadata": {},
   "outputs": [
    {
     "data": {
      "text/plain": [
       "400"
      ]
     },
     "execution_count": 52,
     "metadata": {},
     "output_type": "execute_result"
    }
   ],
   "source": [
    "ref  = [0.0]*400\n",
    "len(ref)"
   ]
  },
  {
   "cell_type": "code",
   "execution_count": 61,
   "metadata": {},
   "outputs": [
    {
     "name": "stdout",
     "output_type": "stream",
     "text": [
      "calculating loss for feature  0 ....\n",
      "Done\n",
      "calculating loss for feature  1 ....\n",
      "Done\n",
      "calculating loss for feature  2 ....\n",
      "Done\n",
      "calculating loss for feature  3 ....\n",
      "Done\n",
      "calculating loss for feature  4 ....\n",
      "Done\n",
      "calculating loss for feature  5 ....\n",
      "Done\n",
      "calculating loss for feature  6 ....\n",
      "Done\n",
      "calculating loss for feature  7 ....\n",
      "Done\n",
      "calculating loss for feature  8 ....\n",
      "Done\n",
      "calculating loss for feature  9 ....\n",
      "Done\n",
      "calculating loss for feature  10 ....\n",
      "Done\n"
     ]
    }
   ],
   "source": [
    "bike_dtw_data = DTWdistance(bike_segments, ref)"
   ]
  },
  {
   "cell_type": "code",
   "execution_count": 59,
   "metadata": {},
   "outputs": [
    {
     "ename": "NameError",
     "evalue": "name 'bike_dtw_data' is not defined",
     "output_type": "error",
     "traceback": [
      "\u001b[0;31m---------------------------------------------------------------------------\u001b[0m",
      "\u001b[0;31mNameError\u001b[0m                                 Traceback (most recent call last)",
      "\u001b[0;32m<ipython-input-59-723d0313f09d>\u001b[0m in \u001b[0;36m<module>\u001b[0;34m()\u001b[0m\n\u001b[0;32m----> 1\u001b[0;31m \u001b[0mbike_dtw_data\u001b[0m\u001b[0;34m[\u001b[0m\u001b[0;36m6\u001b[0m\u001b[0;34m]\u001b[0m\u001b[0;34m\u001b[0m\u001b[0m\n\u001b[0m",
      "\u001b[0;31mNameError\u001b[0m: name 'bike_dtw_data' is not defined"
     ]
    }
   ],
   "source": [
    "bike_dtw_data[6]"
   ]
  },
  {
   "cell_type": "code",
   "execution_count": 62,
   "metadata": {},
   "outputs": [
    {
     "name": "stdout",
     "output_type": "stream",
     "text": [
      "(11, 1092)\n",
      "(1092, 11)\n"
     ]
    }
   ],
   "source": [
    "print(np.array(bike_dtw_data).shape)\n",
    "bike_dtw_data = [*zip(*bike_dtw_data)]\n",
    "print(np.array(bike_dtw_data).shape)"
   ]
  },
  {
   "cell_type": "code",
   "execution_count": 63,
   "metadata": {
    "collapsed": true
   },
   "outputs": [],
   "source": [
    "import csv\n",
    "with open(\"test_data_bike.csv\",\"w+\") as my_csv:\n",
    "    csvWriter = csv.writer(my_csv,delimiter=',')\n",
    "    csvWriter.writerows(bike_dtw_data)"
   ]
  },
  {
   "cell_type": "code",
   "execution_count": 54,
   "metadata": {},
   "outputs": [
    {
     "name": "stdout",
     "output_type": "stream",
     "text": [
      "/home/vicky/Desktop/Dhananjay/human-activity/data/car1/car/2018-08-17_16-43-04/Accelerometer.csv\n",
      "/home/vicky/Desktop/Dhananjay/human-activity/data/car1/car/2018-08-17_16-43-04/Gyroscope.csv\n",
      "len of this file  (6633, 28)\n",
      "len of this file  (5783, 28)\n",
      "(11566, 28)\n",
      "/home/vicky/Desktop/Dhananjay/human-activity/data/car1/car/2018-08-17_16-54-34/Accelerometer.csv\n",
      "/home/vicky/Desktop/Dhananjay/human-activity/data/car1/car/2018-08-17_16-54-34/Gyroscope.csv\n",
      "len of this file  (324, 28)\n",
      "len of this file  (0, 28)\n",
      "(11566, 28)\n",
      "/home/vicky/Desktop/Dhananjay/human-activity/data/car1/car/2018-08-17_16-45-30/Accelerometer.csv\n",
      "/home/vicky/Desktop/Dhananjay/human-activity/data/car1/car/2018-08-17_16-45-30/Gyroscope.csv\n",
      "len of this file  (6759, 28)\n",
      "len of this file  (5909, 28)\n",
      "(17475, 28)\n",
      "/home/vicky/Desktop/Dhananjay/human-activity/data/car1/car/2018-08-17_16-54-46/Accelerometer.csv\n",
      "/home/vicky/Desktop/Dhananjay/human-activity/data/car1/car/2018-08-17_16-54-46/Gyroscope.csv\n",
      "len of this file  (5282, 28)\n",
      "len of this file  (4432, 28)\n",
      "(21907, 28)\n",
      "/home/vicky/Desktop/Dhananjay/human-activity/data/car1/car/2018-08-17_16-50-00/Accelerometer.csv\n",
      "/home/vicky/Desktop/Dhananjay/human-activity/data/car1/car/2018-08-17_16-50-00/Gyroscope.csv\n",
      "len of this file  (13423, 28)\n",
      "len of this file  (12573, 28)\n",
      "(34480, 28)\n",
      "/home/vicky/Desktop/Dhananjay/human-activity/data/car1/car/2018-08-17_13-52-47/Accelerometer.csv\n",
      "/home/vicky/Desktop/Dhananjay/human-activity/data/car1/car/2018-08-17_13-52-47/Gyroscope.csv\n",
      "len of this file  (15544, 28)\n",
      "len of this file  (14694, 28)\n",
      "(49174, 28)\n"
     ]
    },
    {
     "data": {
      "text/html": [
       "<div>\n",
       "<style>\n",
       "    .dataframe thead tr:only-child th {\n",
       "        text-align: right;\n",
       "    }\n",
       "\n",
       "    .dataframe thead th {\n",
       "        text-align: left;\n",
       "    }\n",
       "\n",
       "    .dataframe tbody tr th {\n",
       "        vertical-align: top;\n",
       "    }\n",
       "</style>\n",
       "<table border=\"1\" class=\"dataframe\">\n",
       "  <thead>\n",
       "    <tr style=\"text-align: right;\">\n",
       "      <th></th>\n",
       "      <th>AX</th>\n",
       "      <th>AY</th>\n",
       "      <th>AZ</th>\n",
       "      <th>GX</th>\n",
       "      <th>GY</th>\n",
       "      <th>GZ</th>\n",
       "      <th>activity</th>\n",
       "      <th>mAcc</th>\n",
       "      <th>mGyro</th>\n",
       "      <th>orientX</th>\n",
       "      <th>...</th>\n",
       "      <th>AZ1</th>\n",
       "      <th>GX1</th>\n",
       "      <th>GY1</th>\n",
       "      <th>GZ1</th>\n",
       "      <th>fAX</th>\n",
       "      <th>fAY</th>\n",
       "      <th>fAZ</th>\n",
       "      <th>fGX</th>\n",
       "      <th>fGY</th>\n",
       "      <th>fGZ</th>\n",
       "    </tr>\n",
       "  </thead>\n",
       "  <tbody>\n",
       "    <tr>\n",
       "      <th>0</th>\n",
       "      <td>0.247499</td>\n",
       "      <td>2.093523</td>\n",
       "      <td>9.433681</td>\n",
       "      <td>0.034840</td>\n",
       "      <td>0.137716</td>\n",
       "      <td>0.332758</td>\n",
       "      <td>car</td>\n",
       "      <td>9.660245</td>\n",
       "      <td>0.233839</td>\n",
       "      <td>-6.705914</td>\n",
       "      <td>...</td>\n",
       "      <td>9.076054</td>\n",
       "      <td>-0.028549</td>\n",
       "      <td>0.157783</td>\n",
       "      <td>0.305277</td>\n",
       "      <td>-0.992960</td>\n",
       "      <td>-13.642679</td>\n",
       "      <td>16.519178</td>\n",
       "      <td>-0.992960</td>\n",
       "      <td>-13.642679</td>\n",
       "      <td>16.519178</td>\n",
       "    </tr>\n",
       "    <tr>\n",
       "      <th>1</th>\n",
       "      <td>0.256934</td>\n",
       "      <td>2.088005</td>\n",
       "      <td>9.437702</td>\n",
       "      <td>0.035408</td>\n",
       "      <td>0.116555</td>\n",
       "      <td>0.339397</td>\n",
       "      <td>car</td>\n",
       "      <td>10.634199</td>\n",
       "      <td>0.218887</td>\n",
       "      <td>1.288556</td>\n",
       "      <td>...</td>\n",
       "      <td>9.078909</td>\n",
       "      <td>-0.013321</td>\n",
       "      <td>0.146258</td>\n",
       "      <td>0.312567</td>\n",
       "      <td>5.063881</td>\n",
       "      <td>-62.618469</td>\n",
       "      <td>17.343264</td>\n",
       "      <td>5.063881</td>\n",
       "      <td>-62.618469</td>\n",
       "      <td>17.343264</td>\n",
       "    </tr>\n",
       "    <tr>\n",
       "      <th>2</th>\n",
       "      <td>0.270615</td>\n",
       "      <td>2.082898</td>\n",
       "      <td>9.441708</td>\n",
       "      <td>0.035289</td>\n",
       "      <td>0.096402</td>\n",
       "      <td>0.342103</td>\n",
       "      <td>car</td>\n",
       "      <td>9.641014</td>\n",
       "      <td>0.223861</td>\n",
       "      <td>5.685150</td>\n",
       "      <td>...</td>\n",
       "      <td>9.079089</td>\n",
       "      <td>0.000273</td>\n",
       "      <td>0.134272</td>\n",
       "      <td>0.316113</td>\n",
       "      <td>-2.220923</td>\n",
       "      <td>-6.601487</td>\n",
       "      <td>31.955281</td>\n",
       "      <td>-2.220923</td>\n",
       "      <td>-6.601487</td>\n",
       "      <td>31.955281</td>\n",
       "    </tr>\n",
       "    <tr>\n",
       "      <th>3</th>\n",
       "      <td>0.287898</td>\n",
       "      <td>2.078020</td>\n",
       "      <td>9.445900</td>\n",
       "      <td>0.034548</td>\n",
       "      <td>0.077432</td>\n",
       "      <td>0.341075</td>\n",
       "      <td>car</td>\n",
       "      <td>8.737033</td>\n",
       "      <td>0.637923</td>\n",
       "      <td>11.594291</td>\n",
       "      <td>...</td>\n",
       "      <td>9.077270</td>\n",
       "      <td>0.012192</td>\n",
       "      <td>0.122009</td>\n",
       "      <td>0.316102</td>\n",
       "      <td>2.214610</td>\n",
       "      <td>14.276642</td>\n",
       "      <td>27.534206</td>\n",
       "      <td>2.214610</td>\n",
       "      <td>14.276642</td>\n",
       "      <td>27.534206</td>\n",
       "    </tr>\n",
       "    <tr>\n",
       "      <th>4</th>\n",
       "      <td>0.308164</td>\n",
       "      <td>2.073208</td>\n",
       "      <td>9.450460</td>\n",
       "      <td>0.033261</td>\n",
       "      <td>0.059779</td>\n",
       "      <td>0.336601</td>\n",
       "      <td>car</td>\n",
       "      <td>10.103459</td>\n",
       "      <td>0.835866</td>\n",
       "      <td>-4.875435</td>\n",
       "      <td>...</td>\n",
       "      <td>9.074090</td>\n",
       "      <td>0.022444</td>\n",
       "      <td>0.109646</td>\n",
       "      <td>0.312812</td>\n",
       "      <td>-1.598066</td>\n",
       "      <td>9.676030</td>\n",
       "      <td>-10.303919</td>\n",
       "      <td>-1.598066</td>\n",
       "      <td>9.676030</td>\n",
       "      <td>-10.303919</td>\n",
       "    </tr>\n",
       "  </tbody>\n",
       "</table>\n",
       "<p>5 rows × 28 columns</p>\n",
       "</div>"
      ],
      "text/plain": [
       "         AX        AY        AZ        GX        GY        GZ activity  \\\n",
       "0  0.247499  2.093523  9.433681  0.034840  0.137716  0.332758      car   \n",
       "1  0.256934  2.088005  9.437702  0.035408  0.116555  0.339397      car   \n",
       "2  0.270615  2.082898  9.441708  0.035289  0.096402  0.342103      car   \n",
       "3  0.287898  2.078020  9.445900  0.034548  0.077432  0.341075      car   \n",
       "4  0.308164  2.073208  9.450460  0.033261  0.059779  0.336601      car   \n",
       "\n",
       "        mAcc     mGyro    orientX    ...           AZ1       GX1       GY1  \\\n",
       "0   9.660245  0.233839  -6.705914    ...      9.076054 -0.028549  0.157783   \n",
       "1  10.634199  0.218887   1.288556    ...      9.078909 -0.013321  0.146258   \n",
       "2   9.641014  0.223861   5.685150    ...      9.079089  0.000273  0.134272   \n",
       "3   8.737033  0.637923  11.594291    ...      9.077270  0.012192  0.122009   \n",
       "4  10.103459  0.835866  -4.875435    ...      9.074090  0.022444  0.109646   \n",
       "\n",
       "        GZ1       fAX        fAY        fAZ       fGX        fGY        fGZ  \n",
       "0  0.305277 -0.992960 -13.642679  16.519178 -0.992960 -13.642679  16.519178  \n",
       "1  0.312567  5.063881 -62.618469  17.343264  5.063881 -62.618469  17.343264  \n",
       "2  0.316113 -2.220923  -6.601487  31.955281 -2.220923  -6.601487  31.955281  \n",
       "3  0.316102  2.214610  14.276642  27.534206  2.214610  14.276642  27.534206  \n",
       "4  0.312812 -1.598066   9.676030 -10.303919 -1.598066   9.676030 -10.303919  \n",
       "\n",
       "[5 rows x 28 columns]"
      ]
     },
     "execution_count": 54,
     "metadata": {},
     "output_type": "execute_result"
    }
   ],
   "source": [
    "path_acc = os.getcwd() + '/data/car1/*/*/*Accelerometer.csv'  \n",
    "path_gyro= os.getcwd() + '/data/car1/*/*/*Gyroscope.csv'\n",
    "acc_files = glob.glob(path_acc)\n",
    "gyro_files= glob.glob(path_gyro)\n",
    "car_df= read_files(acc_files[0], gyro_files[0], 'car')\n",
    "n = len(car_df)\n",
    "car_df = car_df[350:n-500]\n",
    "for acc_file, gyro_file in zip(acc_files, gyro_files) :\n",
    "    print(acc_file)\n",
    "    print(gyro_file)\n",
    "    df_this = read_files(acc_file, gyro_file, 'car')\n",
    "    n = len(df_this)\n",
    "    print(\"len of this file \",df_this.shape)\n",
    "    df_this = df_this[350 : n-500]\n",
    "    print(\"len of this file \",df_this.shape)\n",
    "    car_df = pd.concat([car_df, df_this])\n",
    "    print(car_df.shape)\n",
    "car_df.reset_index(drop = True, inplace = True)\n",
    "car_df.head()"
   ]
  },
  {
   "cell_type": "code",
   "execution_count": 55,
   "metadata": {},
   "outputs": [
    {
     "name": "stdout",
     "output_type": "stream",
     "text": [
      "(49174, 28)\n"
     ]
    },
    {
     "data": {
      "text/plain": [
       "Index(['AX', 'AY', 'AZ', 'GX', 'GY', 'GZ', 'activity', 'mAcc', 'mGyro',\n",
       "       'orientX', 'orientY', 'orientZ', 'quaternionW', 'quaternionX',\n",
       "       'quaternionY', 'quaternionZ', 'AX1', 'AY1', 'AZ1', 'GX1', 'GY1', 'GZ1',\n",
       "       'fAX', 'fAY', 'fAZ', 'fGX', 'fGY', 'fGZ'],\n",
       "      dtype='object')"
      ]
     },
     "execution_count": 55,
     "metadata": {},
     "output_type": "execute_result"
    }
   ],
   "source": [
    "print(car_df.shape)\n",
    "car_df.columns"
   ]
  },
  {
   "cell_type": "code",
   "execution_count": 56,
   "metadata": {},
   "outputs": [
    {
     "data": {
      "text/plain": [
       "(976, 11, 400)"
      ]
     },
     "execution_count": 56,
     "metadata": {},
     "output_type": "execute_result"
    }
   ],
   "source": [
    "car_segments, car_labels = segmentation(car_df, 400)\n",
    "np.array(car_segments).shape"
   ]
  },
  {
   "cell_type": "code",
   "execution_count": 57,
   "metadata": {},
   "outputs": [
    {
     "name": "stdout",
     "output_type": "stream",
     "text": [
      "calculating loss for feature  0 ....\n",
      "Done\n",
      "calculating loss for feature  1 ....\n",
      "Done\n",
      "calculating loss for feature  2 ....\n",
      "Done\n",
      "calculating loss for feature  3 ....\n",
      "Done\n",
      "calculating loss for feature  4 ....\n",
      "Done\n",
      "calculating loss for feature  5 ....\n",
      "Done\n",
      "calculating loss for feature  6 ....\n",
      "Done\n",
      "calculating loss for feature  7 ....\n",
      "Done\n",
      "calculating loss for feature  8 ....\n",
      "Done\n",
      "calculating loss for feature  9 ....\n",
      "Done\n",
      "calculating loss for feature  10 ....\n",
      "Done\n"
     ]
    }
   ],
   "source": [
    "car_dtw_data = DTWdistance(car_segments, ref)"
   ]
  },
  {
   "cell_type": "code",
   "execution_count": 58,
   "metadata": {},
   "outputs": [
    {
     "name": "stdout",
     "output_type": "stream",
     "text": [
      "(11, 976)\n",
      "(976, 11)\n"
     ]
    }
   ],
   "source": [
    "print(np.array(car_dtw_data).shape)\n",
    "car_dtw_data = [*zip(*car_dtw_data)]\n",
    "print(np.array(car_dtw_data).shape)"
   ]
  },
  {
   "cell_type": "code",
   "execution_count": 201,
   "metadata": {
    "collapsed": true
   },
   "outputs": [],
   "source": [
    "import csv\n",
    "with open(\"test_data_car.csv\",\"w+\") as my_csv:\n",
    "    csvWriter = csv.writer(my_csv,delimiter=',')\n",
    "    csvWriter.writerows(car_dtw_data)"
   ]
  },
  {
   "cell_type": "code",
   "execution_count": null,
   "metadata": {
    "collapsed": true
   },
   "outputs": [],
   "source": []
  },
  {
   "cell_type": "code",
   "execution_count": 98,
   "metadata": {},
   "outputs": [
    {
     "name": "stdout",
     "output_type": "stream",
     "text": [
      "977\n",
      "1091\n",
      "1503\n",
      "1398\n"
     ]
    }
   ],
   "source": [
    "train1 = pd.read_csv('test_data_car.csv').values.tolist()\n",
    "train2 = pd.read_csv('test_data_bike.csv').values.tolist()\n",
    "train3 = pd.read_csv('train_bike.csv').values.tolist()\n",
    "train4 = pd.read_csv('train_car.csv').values.tolist()\n",
    "print(len(train1))\n",
    "print(len(train2))\n",
    "print(len(train3))\n",
    "print(len(train4))\n"
   ]
  },
  {
   "cell_type": "code",
   "execution_count": 99,
   "metadata": {
    "collapsed": true
   },
   "outputs": [],
   "source": [
    "train11 = [*zip(*train1)]"
   ]
  },
  {
   "cell_type": "code",
   "execution_count": 100,
   "metadata": {
    "collapsed": true
   },
   "outputs": [],
   "source": [
    "\n",
    "label1 = [1]*(len(train1)+len(train4))     #lebel = 1 to all bike samples\n",
    "\n",
    "label2 = [0]*(len(train2)+len(train3))     #lebel = 0 to all car samples\n",
    "\n",
    "label = label1 + label2                    #putting both lables into one label\n",
    "\n",
    "train = train1 + train2 + train3 + train4\n"
   ]
  },
  {
   "cell_type": "code",
   "execution_count": null,
   "metadata": {
    "collapsed": true
   },
   "outputs": [],
   "source": []
  },
  {
   "cell_type": "code",
   "execution_count": 101,
   "metadata": {},
   "outputs": [
    {
     "data": {
      "text/plain": [
       "4969"
      ]
     },
     "execution_count": 101,
     "metadata": {},
     "output_type": "execute_result"
    }
   ],
   "source": [
    "len(train)"
   ]
  },
  {
   "cell_type": "code",
   "execution_count": 102,
   "metadata": {
    "collapsed": true
   },
   "outputs": [],
   "source": [
    "RANDOM_SEED = 42\n",
    "X_train, X_test, y_train, y_test = train_test_split(train, label, test_size=0.2, random_state=RANDOM_SEED)"
   ]
  },
  {
   "cell_type": "code",
   "execution_count": 103,
   "metadata": {},
   "outputs": [
    {
     "name": "stdout",
     "output_type": "stream",
     "text": [
      "3975\n",
      "3975\n",
      "994\n",
      "994\n"
     ]
    }
   ],
   "source": [
    "print(len(X_train))\n",
    "print(len(y_train))\n",
    "print(len(X_test))\n",
    "print(len(y_test))\n"
   ]
  },
  {
   "cell_type": "code",
   "execution_count": 104,
   "metadata": {
    "collapsed": true
   },
   "outputs": [],
   "source": [
    "xx = np.array(X_train)\n",
    "X_train1 = xx[:,6:8]"
   ]
  },
  {
   "cell_type": "code",
   "execution_count": 105,
   "metadata": {},
   "outputs": [
    {
     "name": "stdout",
     "output_type": "stream",
     "text": [
      "---------SVM model---------\n",
      "\n"
     ]
    }
   ],
   "source": [
    "# apply svm model\n",
    "print(\"---------SVM model---------\\n\")\n",
    "svm_clf = svm.SVC(kernel='rbf')\n",
    "\n",
    "# get the 5-fold cross-validation score\n",
    "\n"
   ]
  },
  {
   "cell_type": "code",
   "execution_count": 106,
   "metadata": {},
   "outputs": [
    {
     "name": "stdout",
     "output_type": "stream",
     "text": [
      "cross-validation score \n",
      "\n",
      "[ 0.87437186  0.89559748  0.89433962  0.89056604  0.90428212] 0.891831423964 0.0098176534924\n"
     ]
    },
    {
     "data": {
      "text/plain": [
       "SVC(C=1.0, cache_size=200, class_weight=None, coef0=0.0,\n",
       "  decision_function_shape='ovr', degree=3, gamma='auto', kernel='rbf',\n",
       "  max_iter=-1, probability=False, random_state=None, shrinking=True,\n",
       "  tol=0.001, verbose=False)"
      ]
     },
     "execution_count": 106,
     "metadata": {},
     "output_type": "execute_result"
    }
   ],
   "source": [
    "print(\"cross-validation score \\n\")\n",
    "scores = cross_val_score(svm_clf, X_train1, y_train, cv=5)\n",
    "print(scores, scores.mean(), scores.std())\n",
    "\n",
    "# apply model to test set\n",
    "svm_clf.fit(X_train1, y_train)"
   ]
  },
  {
   "cell_type": "code",
   "execution_count": 8,
   "metadata": {},
   "outputs": [
    {
     "name": "stdout",
     "output_type": "stream",
     "text": [
      "cross-validation score \n",
      "\n",
      "[ 0.91080402  0.91698113  0.92201258  0.92704403  0.91057935] 0.917484220208 0.00639455036899\n",
      "\n",
      "\n",
      "Accuracy score on test set:  0.919\n"
     ]
    }
   ],
   "source": [
    "print(\"cross-validation score \\n\")\n",
    "scores = cross_val_score(svm_clf, X_train, y_train, cv=5)\n",
    "print(scores, scores.mean(), scores.std())\n",
    "\n",
    "# apply model to test set\n",
    "svm_clf.fit(X_train, y_train)\n",
    "svm_predict_y = svm_clf.predict(X_test)\n",
    "print(\"\\n\")\n",
    "# obtain accuracy score\n",
    "svm_predict_y = svm_clf.predict(X_test)\n",
    "testscore = accuracy_score(y_test, svm_predict_y)\n",
    "print(\"Accuracy score on test set: %6.3f\" % testscore)\n"
   ]
  },
  {
   "cell_type": "code",
   "execution_count": 9,
   "metadata": {},
   "outputs": [
    {
     "data": {
      "text/plain": [
       "SVC(C=1.0, cache_size=200, class_weight=None, coef0=0.0,\n",
       "  decision_function_shape='ovr', degree=3, gamma='auto', kernel='rbf',\n",
       "  max_iter=-1, probability=False, random_state=None, shrinking=True,\n",
       "  tol=0.001, verbose=False)"
      ]
     },
     "execution_count": 9,
     "metadata": {},
     "output_type": "execute_result"
    }
   ],
   "source": [
    "svm_clf"
   ]
  },
  {
   "cell_type": "code",
   "execution_count": 29,
   "metadata": {
    "collapsed": true
   },
   "outputs": [],
   "source": [
    "X = pd.Series(X_train)"
   ]
  },
  {
   "cell_type": "code",
   "execution_count": 34,
   "metadata": {},
   "outputs": [
    {
     "data": {
      "text/plain": [
       "0"
      ]
     },
     "execution_count": 34,
     "metadata": {},
     "output_type": "execute_result"
    }
   ],
   "source": []
  },
  {
   "cell_type": "code",
   "execution_count": 109,
   "metadata": {},
   "outputs": [
    {
     "ename": "NameError",
     "evalue": "name 'red_dot' is not defined",
     "output_type": "error",
     "traceback": [
      "\u001b[0;31m---------------------------------------------------------------------------\u001b[0m",
      "\u001b[0;31mNameError\u001b[0m                                 Traceback (most recent call last)",
      "\u001b[0;32m<ipython-input-109-41f9d0079eac>\u001b[0m in \u001b[0;36m<module>\u001b[0;34m()\u001b[0m\n\u001b[1;32m     19\u001b[0m \u001b[0mplt\u001b[0m\u001b[0;34m.\u001b[0m\u001b[0mcontour\u001b[0m\u001b[0;34m(\u001b[0m\u001b[0mxx\u001b[0m\u001b[0;34m,\u001b[0m \u001b[0myy\u001b[0m\u001b[0;34m,\u001b[0m \u001b[0mZ\u001b[0m\u001b[0;34m,\u001b[0m \u001b[0mcmap\u001b[0m\u001b[0;34m=\u001b[0m\u001b[0mplt\u001b[0m\u001b[0;34m.\u001b[0m\u001b[0mcm\u001b[0m\u001b[0;34m.\u001b[0m\u001b[0mcoolwarm\u001b[0m\u001b[0;34m)\u001b[0m\u001b[0;34m\u001b[0m\u001b[0m\n\u001b[1;32m     20\u001b[0m \u001b[0mplt\u001b[0m\u001b[0;34m.\u001b[0m\u001b[0mscatter\u001b[0m\u001b[0;34m(\u001b[0m\u001b[0mX\u001b[0m\u001b[0;34m[\u001b[0m\u001b[0;34m:\u001b[0m\u001b[0;34m,\u001b[0m\u001b[0;36m0\u001b[0m\u001b[0;34m]\u001b[0m\u001b[0;34m,\u001b[0m \u001b[0mX\u001b[0m\u001b[0;34m[\u001b[0m\u001b[0;34m:\u001b[0m\u001b[0;34m,\u001b[0m\u001b[0;36m1\u001b[0m\u001b[0;34m]\u001b[0m\u001b[0;34m,\u001b[0m \u001b[0mc\u001b[0m\u001b[0;34m=\u001b[0m\u001b[0my_train\u001b[0m\u001b[0;34m,\u001b[0m \u001b[0mcmap\u001b[0m\u001b[0;34m=\u001b[0m\u001b[0mplt\u001b[0m\u001b[0;34m.\u001b[0m\u001b[0mcm\u001b[0m\u001b[0;34m.\u001b[0m\u001b[0mcoolwarm\u001b[0m\u001b[0;34m,\u001b[0m \u001b[0ms\u001b[0m\u001b[0;34m=\u001b[0m\u001b[0;36m20\u001b[0m\u001b[0;34m,\u001b[0m \u001b[0medgecolors\u001b[0m\u001b[0;34m=\u001b[0m\u001b[0;34m'k'\u001b[0m\u001b[0;34m)\u001b[0m\u001b[0;34m\u001b[0m\u001b[0m\n\u001b[0;32m---> 21\u001b[0;31m \u001b[0mplt\u001b[0m\u001b[0;34m.\u001b[0m\u001b[0mlegend\u001b[0m\u001b[0;34m(\u001b[0m\u001b[0;34m[\u001b[0m\u001b[0mred_dot\u001b[0m\u001b[0;34m,\u001b[0m \u001b[0;34m(\u001b[0m\u001b[0mblue_dot\u001b[0m\u001b[0;34m)\u001b[0m\u001b[0;34m]\u001b[0m\u001b[0;34m,\u001b[0m \u001b[0;34m[\u001b[0m\u001b[0;34m\"Bike\"\u001b[0m\u001b[0;34m,\u001b[0m \u001b[0;34m\"Car\"\u001b[0m\u001b[0;34m]\u001b[0m\u001b[0;34m)\u001b[0m\u001b[0;34m\u001b[0m\u001b[0m\n\u001b[0m\u001b[1;32m     22\u001b[0m \u001b[0mplt\u001b[0m\u001b[0;34m.\u001b[0m\u001b[0mxlabel\u001b[0m\u001b[0;34m(\u001b[0m\u001b[0;34m\"Amplitude of 3-axis accelerometer\"\u001b[0m\u001b[0;34m)\u001b[0m\u001b[0;34m\u001b[0m\u001b[0m\n\u001b[1;32m     23\u001b[0m \u001b[0mplt\u001b[0m\u001b[0;34m.\u001b[0m\u001b[0mylabel\u001b[0m\u001b[0;34m(\u001b[0m\u001b[0;34m\"Amplitude of 3-axis gyroscope\"\u001b[0m\u001b[0;34m)\u001b[0m\u001b[0;34m\u001b[0m\u001b[0m\n",
      "\u001b[0;31mNameError\u001b[0m: name 'red_dot' is not defined"
     ]
    },
    {
     "data": {
      "image/png": "[encoded data removed]",
      "text/plain": [
       "<matplotlib.figure.Figure at 0x7ffac5111240>"
      ]
     },
     "metadata": {},
     "output_type": "display_data"
    }
   ],
   "source": [
    "h = .02  # step size in the mesh\n",
    "# create a mesh to plot in\n",
    "X = np.array(X_train1)\n",
    "x_min, x_max = X[:,0].min()-1, X[:,0].max() + 1\n",
    "y_min, y_max =X[:,1].min()-1, X[:,1].max() + 1\n",
    "\n",
    "# print(x_min)\n",
    "xx, yy = np.meshgrid(np.arange(x_min, x_max, h),\n",
    "                     np.arange(y_min, y_max, h))\n",
    "\n",
    "\n",
    "\n",
    "# Plot the decision boundary. For that, we will assign a color to each\n",
    "# point in the mesh [x_min, m_max]x[y_min, y_max].\n",
    "Z = svm_clf.predict(np.c_[xx.ravel(), yy.ravel()])\n",
    "\n",
    "# Put the result into a color plot\n",
    "Z = Z.reshape(xx.shape)\n",
    "plt.contour(xx, yy, Z, cmap=plt.cm.coolwarm)\n",
    "plt.scatter(X[:,0], X[:,1], c=y_train, cmap=plt.cm.coolwarm, s=20, edgecolors='k')\n",
    "# plt.legend([red_dot, (blue_dot)], [\"Bike\", \"Car\"])\n",
    "plt.xlabel(\"Amplitude of 3-axis accelerometer(m/s^2)\")\n",
    "plt.ylabel(\"Amplitude of 3-axis gyroscope(rad/s)\")\n",
    "plt.show()"
   ]
  },
  {
   "cell_type": "code",
   "execution_count": null,
   "metadata": {
    "collapsed": true
   },
   "outputs": [],
   "source": []
  },
  {
   "cell_type": "code",
   "execution_count": 29,
   "metadata": {},
   "outputs": [
    {
     "name": "stdout",
     "output_type": "stream",
     "text": [
      "---------Random-Forest---------\n",
      "\n",
      "cross-validation score \n",
      "\n",
      "[ 0.91353383  0.92230576  0.93467337  0.94346734  0.92211055] 0.927218171056 0.010555528371\n",
      "\n",
      "\n",
      "Accuracy score on test set:  0.930\n"
     ]
    }
   ],
   "source": [
    "\n",
    "# train a random forest\n",
    "print(\"---------Random-Forest---------\\n\")\n",
    "rf_clf = RandomForestClassifier(n_estimators=350)\n",
    "# get the 5-fold cross-validation score\n",
    "print(\"cross-validation score \\n\")\n",
    "scores = cross_val_score(rf_clf, X_train, y_train, cv=5)\n",
    "print(scores, scores.mean(), scores.std())\n",
    "\n",
    "# apply model to test set\n",
    "rf_clf.fit(X_train, y_train)\n",
    "rf_predict_y = rf_clf.predict(X_test)\n",
    "\n",
    "print(\"\\n\")\n",
    "# obtain accuracy score\n",
    "testscore = accuracy_score(y_test, rf_predict_y)\n",
    "print(\"Accuracy score on test set: %6.3f\" % testscore)\n"
   ]
  },
  {
   "cell_type": "code",
   "execution_count": 141,
   "metadata": {
    "collapsed": true
   },
   "outputs": [],
   "source": [
    "def saveModel(model, path):\n",
    "    list_pickle = open(path, 'wb')\n",
    "    pickle.dump(model, list_pickle)\n",
    "    list_pickle.close()"
   ]
  },
  {
   "cell_type": "code",
   "execution_count": 146,
   "metadata": {
    "collapsed": true
   },
   "outputs": [],
   "source": [
    "def unpickleModel(path):\n",
    "    unpickle = open(path, 'rb')\n",
    "    model = pickle.load(unpickle)\n",
    "    \n",
    "    return model\n",
    "    "
   ]
  },
  {
   "cell_type": "code",
   "execution_count": 143,
   "metadata": {
    "collapsed": true
   },
   "outputs": [],
   "source": [
    "saveModel(svm_clf, 'svm_model3.pkl')\n",
    "saveModel(rf_clf, 'rf_model3.pkl')"
   ]
  },
  {
   "cell_type": "code",
   "execution_count": 144,
   "metadata": {},
   "outputs": [
    {
     "name": "stdout",
     "output_type": "stream",
     "text": [
      "accuracy using svm model1 :  0.809428284855\n"
     ]
    }
   ],
   "source": [
    "pickle_path = 'svm_model3.pkl'\n",
    "unpickle = open(pickle_path, 'rb')\n",
    "\n",
    "grd_bst = pickle.load(unpickle)\n",
    "pred_grd = grd_bst.predict(X_test)\n",
    "# pred_grd = le.inverse_transform(pred_grd)\n",
    "accuracy_grd = accuracy_score(pred_grd,y_test)\n",
    "print('accuracy using svm model1 : ',accuracy_grd)"
   ]
  },
  {
   "cell_type": "code",
   "execution_count": 22,
   "metadata": {},
   "outputs": [
    {
     "name": "stdout",
     "output_type": "stream",
     "text": [
      "accuracy using svm model1 :  0.929789368104\n"
     ]
    }
   ],
   "source": [
    "pickle_path = 'rf_model2.pkl'\n",
    "unpickle = open(pickle_path, 'rb')\n",
    "\n",
    "grd_bst = pickle.load(unpickle)\n",
    "pred_grd = grd_bst.predict(X_test)\n",
    "# pred_grd = le.inverse_transform(pred_grd)\n",
    "accuracy_grd = accuracy_score(pred_grd,y_test)\n",
    "print('accuracy using svm model1 : ',accuracy_grd)"
   ]
  },
  {
   "cell_type": "code",
   "execution_count": null,
   "metadata": {
    "collapsed": true
   },
   "outputs": [],
   "source": []
  },
  {
   "cell_type": "code",
   "execution_count": null,
   "metadata": {
    "collapsed": true
   },
   "outputs": [],
   "source": []
  }
 ],
 "metadata": {
  "kernelspec": {
   "display_name": "Python 3",
   "language": "python",
   "name": "python3"
  },
  "language_info": {
   "codemirror_mode": {
    "name": "ipython",
    "version": 3
   },
   "file_extension": ".py",
   "mimetype": "text/x-python",
   "name": "python",
   "nbconvert_exporter": "python",
   "pygments_lexer": "ipython3",
   "version": "3.6.3"
  }
 },
 "nbformat": 4,
 "nbformat_minor": 2
}
