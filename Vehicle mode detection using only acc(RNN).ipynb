{
 "cells": [
  {
   "cell_type": "code",
   "execution_count": 1,
   "metadata": {},
   "outputs": [
    {
     "name": "stderr",
     "output_type": "stream",
     "text": [
      "/home/vicky/anaconda3/lib/python3.6/site-packages/sklearn/cross_validation.py:41: DeprecationWarning: This module was deprecated in version 0.18 in favor of the model_selection module into which all the refactored classes and functions are moved. Also note that the interface of the new CV iterators are different from that of this module. This module will be removed in 0.20.\n",
      "  \"This module will be removed in 0.20.\", DeprecationWarning)\n"
     ]
    }
   ],
   "source": [
    "# All Includes\n",
    "\n",
    "import numpy as np\n",
    "import matplotlib\n",
    "import matplotlib.pyplot as plt\n",
    "import tensorflow as tf  # Version 1.0.0 (some previous versions are used in past commits)\n",
    "from sklearn import metrics\n",
    "from sklearn.utils import shuffle\n",
    "\n",
    "import pandas as pd\n",
    "import numpy as np\n",
    "import os\n",
    "import glob \n",
    "import pickle\n",
    "from math import *\n",
    "import matplotlib.pyplot as plt\n",
    "from scipy import stats\n",
    "import seaborn as sns\n",
    "from pylab import rcParams\n",
    "from sklearn import metrics\n",
    "from sklearn.model_selection import train_test_split\n",
    "from scipy.ndimage import gaussian_filter\n",
    "from scipy.fftpack import fft\n",
    "from dtw import dtw\n",
    "from numpy import array, zeros, argmin, inf, ndim\n",
    "from scipy.spatial.distance import cdist\n",
    "from sklearn.metrics.pairwise import manhattan_distances\n",
    "from sklearn import svm\n",
    "from sklearn.ensemble import RandomForestClassifier\n",
    "from sklearn.cross_validation import cross_val_score\n",
    "from sklearn.metrics import accuracy_score\n",
    "from matplotlib.patches import Patch\n",
    "from matplotlib.lines import Line2D\n"
   ]
  },
  {
   "cell_type": "code",
   "execution_count": 2,
   "metadata": {
    "collapsed": true
   },
   "outputs": [],
   "source": [
    "# Those are separate normalised input features for the neural network\n",
    "INPUT_SIGNAL_TYPES = [\n",
    "    \"acc_x_\",\n",
    "    \"acc_y_\",\n",
    "    \"acc_z_\",\n",
    "    \"total_acc\"\n",
    "]\n",
    "\n",
    "# Output classes to learn how to classify\n",
    "LABELS = [\n",
    "    \"MOTOR_BIKE\", \n",
    "    \"CAR\",\n",
    "    \"WALKING\",\n",
    "    \"CYCLING\"\n",
    "]"
   ]
  },
  {
   "cell_type": "code",
   "execution_count": 3,
   "metadata": {
    "collapsed": true
   },
   "outputs": [],
   "source": [
    "def GaussianFilter(df, window_length):\n",
    "    df1 = df\n",
    "    \n",
    "    df1['AX'] = gaussian_filter(df['AX'], window_length)\n",
    "    df1['AY'] = gaussian_filter(df['AY'], window_length)\n",
    "    df1['AZ'] = gaussian_filter(df['AZ'], window_length)\n",
    "\n",
    "#     df1['GX'] = gaussian_filter(df['GX'], window_length)\n",
    "#     df1['GY'] = gaussian_filter(df['GY'], window_length)\n",
    "#     df1['GZ'] = gaussian_filter(df['GZ'], window_length)\n",
    "\n",
    "    return df1"
   ]
  },
  {
   "cell_type": "code",
   "execution_count": 4,
   "metadata": {
    "collapsed": true
   },
   "outputs": [],
   "source": [
    "def Amplitude(df, input_features, out_feature):\n",
    "    df[out_feature] = (df[input_features[0]]**2 + df[input_features[1]]**2  + df[input_features[2]]**2)**(1/2)"
   ]
  },
  {
   "cell_type": "code",
   "execution_count": 5,
   "metadata": {
    "collapsed": true
   },
   "outputs": [],
   "source": [
    "def segmentation(df, N_TIME_STEPS):\n",
    "    \n",
    "    N_FEATURES = 1\n",
    "    step = 50\n",
    "    segments = []\n",
    "    labels = []\n",
    "    for i in range(0, len(df) - N_TIME_STEPS, step):\n",
    "#         gx = df['GX'].values[i: i + N_TIME_STEPS]\n",
    "#         gy = df['GY'].values[i: i + N_TIME_STEPS]\n",
    "#         gz = df['GZ'].values[i: i + N_TIME_STEPS]\n",
    "#         mean_gx = gx.mean()\n",
    "#         mn_gx = [mean_gx]*N_TIME_STEPS\n",
    "#         mean_gy = gy.mean()\n",
    "#         mn_gy = [mean_gy]*N_TIME_STEPS\n",
    "#         mean_gz = gz.mean()\n",
    "#         mn_gz = [mean_gz]*N_TIME_STEPS\n",
    "        \n",
    "        ax = df['AX'].values[i: i + N_TIME_STEPS]\n",
    "        ay = df['AY'].values[i: i + N_TIME_STEPS]\n",
    "        az = df['AZ'].values[i: i + N_TIME_STEPS]\n",
    "        \n",
    "        mean_ax = ax.mean()\n",
    "        mn_ax = ax-mean_ax\n",
    "        mean_ay = ay.mean()\n",
    "        mn_ay = ay-mean_ay\n",
    "        mean_az = az.mean()\n",
    "        mn_az = az-mean_az\n",
    "        \n",
    "        ma = df['mAcc'].values[i: i + N_TIME_STEPS]\n",
    "#         mz = df['mGyro'].values[i: i + N_TIME_STEPS]\n",
    "        \n",
    "        mean_a = ma.mean()\n",
    "        mn_a = ax-mean_a\n",
    "        \n",
    "        label = \"ST\"\n",
    "        segments.append([ax, ay, az, ma, mn_ax, mn_ay, mn_az, mn_a])\n",
    "#         labels = stats.mode(df['activity'][i: i + N_TIME_STEPS])[0][0]\n",
    "        labels.append(label)\n",
    "    return segments, labels"
   ]
  },
  {
   "cell_type": "code",
   "execution_count": 6,
   "metadata": {
    "collapsed": true
   },
   "outputs": [],
   "source": [
    "def data_preprocessing(df):\n",
    "    #mean feature of 3-axis accelerometer data\n",
    "    input_features = ['AX', 'AY', 'AZ']\n",
    "    output_feature = 'mAcc'\n",
    "    Amplitude(df, input_features, output_feature)\n",
    "    \n",
    "    #mean feature of 3-axis gyroscope data\n",
    "#     input_features = ['GX', 'GY', 'GZ']\n",
    "#     output_feature = 'mGyro'\n",
    "#     Amplitude(df, input_features, output_feature)\n",
    "    \n",
    "    #apply gaussian filter with window size 10\n",
    "    df = GaussianFilter(df, 10)\n",
    "    return df"
   ]
  },
  {
   "cell_type": "code",
   "execution_count": 7,
   "metadata": {
    "collapsed": true
   },
   "outputs": [],
   "source": [
    "#read csv file and return its data-frame\n",
    "def read_csv_file(acc, gyro, mode):\n",
    "    df_gyro = pd.read_csv(gyro, index_col=False)\n",
    "    df      = pd.read_csv(acc,  index_col=False)\n",
    "    df.rename(columns = {'X': 'AX', 'Y':'AY', 'Z':'AZ'}, inplace = True)\n",
    "#     df['GX'] = df_gyro['X']\n",
    "#     df['GY'] = df_gyro['Y']\n",
    "#     df['GZ'] = df_gyro['Z']\n",
    "    \n",
    "    return df"
   ]
  },
  {
   "cell_type": "code",
   "execution_count": 8,
   "metadata": {
    "collapsed": true
   },
   "outputs": [],
   "source": [
    "def read_files(acc_file, gyro_file, activity):\n",
    "    df = read_csv_file(acc_file, gyro_file, activity)\n",
    "    df.reset_index(drop = True , inplace = True)\n",
    "    if('Milliseconds' in df.columns):\n",
    "        df = df.drop('Milliseconds', axis=1)\n",
    "    if('Timestamp' in df.columns):\n",
    "        df = df.drop('Timestamp', axis=1)\n",
    "    df = data_preprocessing(df)\n",
    "    df['activity'] = activity\n",
    "    \n",
    "    return df\n",
    "    "
   ]
  },
  {
   "cell_type": "code",
   "execution_count": 9,
   "metadata": {},
   "outputs": [
    {
     "name": "stderr",
     "output_type": "stream",
     "text": [
      "/home/vicky/anaconda3/lib/python3.6/site-packages/pandas/core/indexes/api.py:77: RuntimeWarning: '<' not supported between instances of 'int' and 'str', sort order is undefined for incomparable objects\n",
      "  result = result.union(other)\n"
     ]
    },
    {
     "name": "stdout",
     "output_type": "stream",
     "text": [
      "(53698, 6)\n"
     ]
    },
    {
     "data": {
      "text/html": [
       "<div>\n",
       "<style>\n",
       "    .dataframe thead tr:only-child th {\n",
       "        text-align: right;\n",
       "    }\n",
       "\n",
       "    .dataframe thead th {\n",
       "        text-align: left;\n",
       "    }\n",
       "\n",
       "    .dataframe tbody tr th {\n",
       "        vertical-align: top;\n",
       "    }\n",
       "</style>\n",
       "<table border=\"1\" class=\"dataframe\">\n",
       "  <thead>\n",
       "    <tr style=\"text-align: right;\">\n",
       "      <th></th>\n",
       "      <th>0</th>\n",
       "      <th>AX</th>\n",
       "      <th>AY</th>\n",
       "      <th>AZ</th>\n",
       "      <th>mAcc</th>\n",
       "      <th>activity</th>\n",
       "    </tr>\n",
       "  </thead>\n",
       "  <tbody>\n",
       "    <tr>\n",
       "      <th>0</th>\n",
       "      <td>NaN</td>\n",
       "      <td>0.053224</td>\n",
       "      <td>0.314816</td>\n",
       "      <td>-0.039182</td>\n",
       "      <td>1.480741</td>\n",
       "      <td>bike</td>\n",
       "    </tr>\n",
       "    <tr>\n",
       "      <th>1</th>\n",
       "      <td>NaN</td>\n",
       "      <td>0.050394</td>\n",
       "      <td>0.317808</td>\n",
       "      <td>-0.024306</td>\n",
       "      <td>0.503951</td>\n",
       "      <td>bike</td>\n",
       "    </tr>\n",
       "    <tr>\n",
       "      <th>2</th>\n",
       "      <td>NaN</td>\n",
       "      <td>0.047070</td>\n",
       "      <td>0.319707</td>\n",
       "      <td>-0.010741</td>\n",
       "      <td>3.321339</td>\n",
       "      <td>bike</td>\n",
       "    </tr>\n",
       "    <tr>\n",
       "      <th>3</th>\n",
       "      <td>NaN</td>\n",
       "      <td>0.043323</td>\n",
       "      <td>0.320499</td>\n",
       "      <td>0.001363</td>\n",
       "      <td>2.796644</td>\n",
       "      <td>bike</td>\n",
       "    </tr>\n",
       "    <tr>\n",
       "      <th>4</th>\n",
       "      <td>NaN</td>\n",
       "      <td>0.039209</td>\n",
       "      <td>0.320110</td>\n",
       "      <td>0.011780</td>\n",
       "      <td>0.957629</td>\n",
       "      <td>bike</td>\n",
       "    </tr>\n",
       "  </tbody>\n",
       "</table>\n",
       "</div>"
      ],
      "text/plain": [
       "    0        AX        AY        AZ      mAcc activity\n",
       "0 NaN  0.053224  0.314816 -0.039182  1.480741     bike\n",
       "1 NaN  0.050394  0.317808 -0.024306  0.503951     bike\n",
       "2 NaN  0.047070  0.319707 -0.010741  3.321339     bike\n",
       "3 NaN  0.043323  0.320499  0.001363  2.796644     bike\n",
       "4 NaN  0.039209  0.320110  0.011780  0.957629     bike"
      ]
     },
     "execution_count": 9,
     "metadata": {},
     "output_type": "execute_result"
    }
   ],
   "source": [
    "#data loading\n",
    "\n",
    "\n",
    "path_acc = os.getcwd() + '/data/Bike2308/*/*AccelerometerLinear.csv'  \n",
    "path_gyro= os.getcwd() + '/data/Bike2308/*/*Gyroscope.csv'\n",
    "acc_files = glob.glob(path_acc)\n",
    "gyro_files= glob.glob(path_gyro)\n",
    "\n",
    "bike_df = []\n",
    "bike_df = pd.Series(bike_df)\n",
    "for acc_file, gyro_file in zip(acc_files, gyro_files) :\n",
    "    df_this = read_files(acc_file, gyro_file, 'bike')\n",
    "    n = len(df_this)\n",
    "    df_this = df_this[1500 : n-500]\n",
    "    df_this.to_csv('my_csv.csv', mode='a', header=False)\n",
    "    bike_df = pd.concat([bike_df, df_this])\n",
    "bike_df.reset_index(drop = True, inplace = True)\n",
    "print(bike_df.shape)\n",
    "bike_df.head()\n"
   ]
  },
  {
   "cell_type": "code",
   "execution_count": 10,
   "metadata": {},
   "outputs": [
    {
     "name": "stdout",
     "output_type": "stream",
     "text": [
      "(298078, 6)\n"
     ]
    },
    {
     "data": {
      "text/html": [
       "<div>\n",
       "<style>\n",
       "    .dataframe thead tr:only-child th {\n",
       "        text-align: right;\n",
       "    }\n",
       "\n",
       "    .dataframe thead th {\n",
       "        text-align: left;\n",
       "    }\n",
       "\n",
       "    .dataframe tbody tr th {\n",
       "        vertical-align: top;\n",
       "    }\n",
       "</style>\n",
       "<table border=\"1\" class=\"dataframe\">\n",
       "  <thead>\n",
       "    <tr style=\"text-align: right;\">\n",
       "      <th></th>\n",
       "      <th>0</th>\n",
       "      <th>AX</th>\n",
       "      <th>AY</th>\n",
       "      <th>AZ</th>\n",
       "      <th>mAcc</th>\n",
       "      <th>activity</th>\n",
       "    </tr>\n",
       "  </thead>\n",
       "  <tbody>\n",
       "    <tr>\n",
       "      <th>0</th>\n",
       "      <td>NaN</td>\n",
       "      <td>0.053224</td>\n",
       "      <td>0.314816</td>\n",
       "      <td>-0.039182</td>\n",
       "      <td>1.480741</td>\n",
       "      <td>bike</td>\n",
       "    </tr>\n",
       "    <tr>\n",
       "      <th>1</th>\n",
       "      <td>NaN</td>\n",
       "      <td>0.050394</td>\n",
       "      <td>0.317808</td>\n",
       "      <td>-0.024306</td>\n",
       "      <td>0.503951</td>\n",
       "      <td>bike</td>\n",
       "    </tr>\n",
       "    <tr>\n",
       "      <th>2</th>\n",
       "      <td>NaN</td>\n",
       "      <td>0.047070</td>\n",
       "      <td>0.319707</td>\n",
       "      <td>-0.010741</td>\n",
       "      <td>3.321339</td>\n",
       "      <td>bike</td>\n",
       "    </tr>\n",
       "    <tr>\n",
       "      <th>3</th>\n",
       "      <td>NaN</td>\n",
       "      <td>0.043323</td>\n",
       "      <td>0.320499</td>\n",
       "      <td>0.001363</td>\n",
       "      <td>2.796644</td>\n",
       "      <td>bike</td>\n",
       "    </tr>\n",
       "    <tr>\n",
       "      <th>4</th>\n",
       "      <td>NaN</td>\n",
       "      <td>0.039209</td>\n",
       "      <td>0.320110</td>\n",
       "      <td>0.011780</td>\n",
       "      <td>0.957629</td>\n",
       "      <td>bike</td>\n",
       "    </tr>\n",
       "  </tbody>\n",
       "</table>\n",
       "</div>"
      ],
      "text/plain": [
       "    0        AX        AY        AZ      mAcc activity\n",
       "0 NaN  0.053224  0.314816 -0.039182  1.480741     bike\n",
       "1 NaN  0.050394  0.317808 -0.024306  0.503951     bike\n",
       "2 NaN  0.047070  0.319707 -0.010741  3.321339     bike\n",
       "3 NaN  0.043323  0.320499  0.001363  2.796644     bike\n",
       "4 NaN  0.039209  0.320110  0.011780  0.957629     bike"
      ]
     },
     "execution_count": 10,
     "metadata": {},
     "output_type": "execute_result"
    }
   ],
   "source": [
    "#data loading\n",
    "\n",
    "path_acc = os.getcwd() + '/data/bike/*/*/*AccelerometerLinear.csv'  \n",
    "path_gyro= os.getcwd() + '/data/bike/*/*/*Gyroscope.csv'\n",
    "acc_files = glob.glob(path_acc)\n",
    "gyro_files= glob.glob(path_gyro)\n",
    "\n",
    "for acc_file, gyro_file in zip(acc_files, gyro_files) :\n",
    "    df_this = read_files(acc_file, gyro_file, 'bike')\n",
    "    n = len(df_this)\n",
    "    df_this = df_this[1500 : n-1500]\n",
    "    bike_df = pd.concat([bike_df, df_this])\n",
    "bike_df.reset_index(drop = True, inplace = True)\n",
    "bike_df.dropna()\n",
    "print(bike_df.shape)\n",
    "bike_df.head()\n"
   ]
  },
  {
   "cell_type": "code",
   "execution_count": 11,
   "metadata": {},
   "outputs": [
    {
     "name": "stderr",
     "output_type": "stream",
     "text": [
      "/home/vicky/anaconda3/lib/python3.6/site-packages/pandas/core/indexes/api.py:77: RuntimeWarning: '<' not supported between instances of 'int' and 'str', sort order is undefined for incomparable objects\n",
      "  result = result.union(other)\n"
     ]
    },
    {
     "name": "stdout",
     "output_type": "stream",
     "text": [
      "(242060, 6)\n"
     ]
    },
    {
     "data": {
      "text/html": [
       "<div>\n",
       "<style>\n",
       "    .dataframe thead tr:only-child th {\n",
       "        text-align: right;\n",
       "    }\n",
       "\n",
       "    .dataframe thead th {\n",
       "        text-align: left;\n",
       "    }\n",
       "\n",
       "    .dataframe tbody tr th {\n",
       "        vertical-align: top;\n",
       "    }\n",
       "</style>\n",
       "<table border=\"1\" class=\"dataframe\">\n",
       "  <thead>\n",
       "    <tr style=\"text-align: right;\">\n",
       "      <th></th>\n",
       "      <th>0</th>\n",
       "      <th>AX</th>\n",
       "      <th>AY</th>\n",
       "      <th>AZ</th>\n",
       "      <th>mAcc</th>\n",
       "      <th>activity</th>\n",
       "    </tr>\n",
       "  </thead>\n",
       "  <tbody>\n",
       "    <tr>\n",
       "      <th>0</th>\n",
       "      <td>NaN</td>\n",
       "      <td>0.060464</td>\n",
       "      <td>-5.881064</td>\n",
       "      <td>0.776747</td>\n",
       "      <td>8.245067</td>\n",
       "      <td>walk</td>\n",
       "    </tr>\n",
       "    <tr>\n",
       "      <th>1</th>\n",
       "      <td>NaN</td>\n",
       "      <td>-0.131828</td>\n",
       "      <td>-6.059065</td>\n",
       "      <td>0.801559</td>\n",
       "      <td>8.420892</td>\n",
       "      <td>walk</td>\n",
       "    </tr>\n",
       "    <tr>\n",
       "      <th>2</th>\n",
       "      <td>NaN</td>\n",
       "      <td>-0.294295</td>\n",
       "      <td>-6.201744</td>\n",
       "      <td>0.813941</td>\n",
       "      <td>8.620252</td>\n",
       "      <td>walk</td>\n",
       "    </tr>\n",
       "    <tr>\n",
       "      <th>3</th>\n",
       "      <td>NaN</td>\n",
       "      <td>-0.423835</td>\n",
       "      <td>-6.307902</td>\n",
       "      <td>0.813265</td>\n",
       "      <td>8.859215</td>\n",
       "      <td>walk</td>\n",
       "    </tr>\n",
       "    <tr>\n",
       "      <th>4</th>\n",
       "      <td>NaN</td>\n",
       "      <td>-0.517898</td>\n",
       "      <td>-6.376554</td>\n",
       "      <td>0.799069</td>\n",
       "      <td>9.162117</td>\n",
       "      <td>walk</td>\n",
       "    </tr>\n",
       "  </tbody>\n",
       "</table>\n",
       "</div>"
      ],
      "text/plain": [
       "    0        AX        AY        AZ      mAcc activity\n",
       "0 NaN  0.060464 -5.881064  0.776747  8.245067     walk\n",
       "1 NaN -0.131828 -6.059065  0.801559  8.420892     walk\n",
       "2 NaN -0.294295 -6.201744  0.813941  8.620252     walk\n",
       "3 NaN -0.423835 -6.307902  0.813265  8.859215     walk\n",
       "4 NaN -0.517898 -6.376554  0.799069  9.162117     walk"
      ]
     },
     "execution_count": 11,
     "metadata": {},
     "output_type": "execute_result"
    }
   ],
   "source": [
    "#data loading\n",
    "\n",
    "path_acc = os.getcwd() + '/data/walk/*/*AccelerometerLinear.csv'  \n",
    "path_gyro= os.getcwd() + '/data/walk/*/*Gyroscope.csv'\n",
    "acc_files = glob.glob(path_acc)\n",
    "gyro_files= glob.glob(path_gyro)\n",
    "\n",
    "walk_df = []\n",
    "walk_df = pd.Series(walk_df)\n",
    "for acc_file, gyro_file in zip(acc_files, gyro_files) :\n",
    "    df_this = read_files(acc_file, gyro_file, 'walk')\n",
    "    n = len(df_this)\n",
    "    df_this = df_this[1500 : n-500]\n",
    "    walk_df = pd.concat([walk_df, df_this])\n",
    "walk_df.reset_index(drop = True, inplace = True)\n",
    "print(walk_df.shape)\n",
    "walk_df.head()\n"
   ]
  },
  {
   "cell_type": "code",
   "execution_count": 12,
   "metadata": {},
   "outputs": [
    {
     "name": "stdout",
     "output_type": "stream",
     "text": [
      "(173277, 5)\n"
     ]
    },
    {
     "data": {
      "text/html": [
       "<div>\n",
       "<style>\n",
       "    .dataframe thead tr:only-child th {\n",
       "        text-align: right;\n",
       "    }\n",
       "\n",
       "    .dataframe thead th {\n",
       "        text-align: left;\n",
       "    }\n",
       "\n",
       "    .dataframe tbody tr th {\n",
       "        vertical-align: top;\n",
       "    }\n",
       "</style>\n",
       "<table border=\"1\" class=\"dataframe\">\n",
       "  <thead>\n",
       "    <tr style=\"text-align: right;\">\n",
       "      <th></th>\n",
       "      <th>AX</th>\n",
       "      <th>AY</th>\n",
       "      <th>AZ</th>\n",
       "      <th>mAcc</th>\n",
       "      <th>activity</th>\n",
       "    </tr>\n",
       "  </thead>\n",
       "  <tbody>\n",
       "    <tr>\n",
       "      <th>0</th>\n",
       "      <td>0.151147</td>\n",
       "      <td>-0.548212</td>\n",
       "      <td>0.384174</td>\n",
       "      <td>5.896712</td>\n",
       "      <td>car</td>\n",
       "    </tr>\n",
       "    <tr>\n",
       "      <th>1</th>\n",
       "      <td>0.145558</td>\n",
       "      <td>-0.549001</td>\n",
       "      <td>0.315767</td>\n",
       "      <td>6.891665</td>\n",
       "      <td>car</td>\n",
       "    </tr>\n",
       "    <tr>\n",
       "      <th>2</th>\n",
       "      <td>0.131640</td>\n",
       "      <td>-0.550599</td>\n",
       "      <td>0.237944</td>\n",
       "      <td>5.505644</td>\n",
       "      <td>car</td>\n",
       "    </tr>\n",
       "    <tr>\n",
       "      <th>3</th>\n",
       "      <td>0.109519</td>\n",
       "      <td>-0.552682</td>\n",
       "      <td>0.153242</td>\n",
       "      <td>4.220319</td>\n",
       "      <td>car</td>\n",
       "    </tr>\n",
       "    <tr>\n",
       "      <th>4</th>\n",
       "      <td>0.079650</td>\n",
       "      <td>-0.554942</td>\n",
       "      <td>0.064491</td>\n",
       "      <td>4.958700</td>\n",
       "      <td>car</td>\n",
       "    </tr>\n",
       "  </tbody>\n",
       "</table>\n",
       "</div>"
      ],
      "text/plain": [
       "         AX        AY        AZ      mAcc activity\n",
       "0  0.151147 -0.548212  0.384174  5.896712      car\n",
       "1  0.145558 -0.549001  0.315767  6.891665      car\n",
       "2  0.131640 -0.550599  0.237944  5.505644      car\n",
       "3  0.109519 -0.552682  0.153242  4.220319      car\n",
       "4  0.079650 -0.554942  0.064491  4.958700      car"
      ]
     },
     "execution_count": 12,
     "metadata": {},
     "output_type": "execute_result"
    }
   ],
   "source": [
    "path_acc = os.getcwd() + '/data/Car1109out/*/*AccelerometerLinear.csv'  \n",
    "path_gyro= os.getcwd() + '/data/Car1109out/*/*Gyroscope.csv' \n",
    "acc_files = glob.glob(path_acc)\n",
    "gyro_files= glob.glob(path_gyro)\n",
    "car_df= read_files(acc_files[0], gyro_files[0], 'car')\n",
    "n = len(car_df)\n",
    "car_df = car_df[350:n-500]\n",
    "for acc_file, gyro_file in zip(acc_files, gyro_files) :\n",
    "    df_this = read_files(acc_file, gyro_file, 'car')\n",
    "    n = len(df_this)\n",
    "    df_this = df_this[350 : n-500]\n",
    "    car_df = pd.concat([car_df, df_this])\n",
    "car_df.reset_index(drop = True, inplace = True)\n",
    "car_df.dropna()\n",
    "print(car_df.shape)\n",
    "car_df.head()"
   ]
  },
  {
   "cell_type": "code",
   "execution_count": 13,
   "metadata": {},
   "outputs": [
    {
     "name": "stdout",
     "output_type": "stream",
     "text": [
      "(326817, 5)\n"
     ]
    },
    {
     "data": {
      "text/html": [
       "<div>\n",
       "<style>\n",
       "    .dataframe thead tr:only-child th {\n",
       "        text-align: right;\n",
       "    }\n",
       "\n",
       "    .dataframe thead th {\n",
       "        text-align: left;\n",
       "    }\n",
       "\n",
       "    .dataframe tbody tr th {\n",
       "        vertical-align: top;\n",
       "    }\n",
       "</style>\n",
       "<table border=\"1\" class=\"dataframe\">\n",
       "  <thead>\n",
       "    <tr style=\"text-align: right;\">\n",
       "      <th></th>\n",
       "      <th>AX</th>\n",
       "      <th>AY</th>\n",
       "      <th>AZ</th>\n",
       "      <th>mAcc</th>\n",
       "      <th>activity</th>\n",
       "    </tr>\n",
       "  </thead>\n",
       "  <tbody>\n",
       "    <tr>\n",
       "      <th>0</th>\n",
       "      <td>0.151147</td>\n",
       "      <td>-0.548212</td>\n",
       "      <td>0.384174</td>\n",
       "      <td>5.896712</td>\n",
       "      <td>car</td>\n",
       "    </tr>\n",
       "    <tr>\n",
       "      <th>1</th>\n",
       "      <td>0.145558</td>\n",
       "      <td>-0.549001</td>\n",
       "      <td>0.315767</td>\n",
       "      <td>6.891665</td>\n",
       "      <td>car</td>\n",
       "    </tr>\n",
       "    <tr>\n",
       "      <th>2</th>\n",
       "      <td>0.131640</td>\n",
       "      <td>-0.550599</td>\n",
       "      <td>0.237944</td>\n",
       "      <td>5.505644</td>\n",
       "      <td>car</td>\n",
       "    </tr>\n",
       "    <tr>\n",
       "      <th>3</th>\n",
       "      <td>0.109519</td>\n",
       "      <td>-0.552682</td>\n",
       "      <td>0.153242</td>\n",
       "      <td>4.220319</td>\n",
       "      <td>car</td>\n",
       "    </tr>\n",
       "    <tr>\n",
       "      <th>4</th>\n",
       "      <td>0.079650</td>\n",
       "      <td>-0.554942</td>\n",
       "      <td>0.064491</td>\n",
       "      <td>4.958700</td>\n",
       "      <td>car</td>\n",
       "    </tr>\n",
       "  </tbody>\n",
       "</table>\n",
       "</div>"
      ],
      "text/plain": [
       "         AX        AY        AZ      mAcc activity\n",
       "0  0.151147 -0.548212  0.384174  5.896712      car\n",
       "1  0.145558 -0.549001  0.315767  6.891665      car\n",
       "2  0.131640 -0.550599  0.237944  5.505644      car\n",
       "3  0.109519 -0.552682  0.153242  4.220319      car\n",
       "4  0.079650 -0.554942  0.064491  4.958700      car"
      ]
     },
     "execution_count": 13,
     "metadata": {},
     "output_type": "execute_result"
    }
   ],
   "source": [
    "path_acc = os.getcwd() + '/data/Car28march/*/*AccelerometerLinear.csv'  \n",
    "path_gyro= os.getcwd() + '/data/Car28march/*/*Gyroscope.csv' \n",
    "acc_files = glob.glob(path_acc)\n",
    "gyro_files= glob.glob(path_gyro)\n",
    "# car_df= read_files(acc_files[0], gyro_files[0], 'car')\n",
    "# n = len(car_df)\n",
    "# car_df = car_df[350:n-500]\n",
    "for acc_file, gyro_file in zip(acc_files, gyro_files) :\n",
    "    df_this = read_files(acc_file, gyro_file, 'car')\n",
    "    n = len(df_this)\n",
    "    df_this = df_this[350 : n-500]\n",
    "    car_df = pd.concat([car_df, df_this])\n",
    "car_df.reset_index(drop = True, inplace = True)\n",
    "print(car_df.shape)\n",
    "car_df.head()"
   ]
  },
  {
   "cell_type": "code",
   "execution_count": 14,
   "metadata": {},
   "outputs": [
    {
     "name": "stdout",
     "output_type": "stream",
     "text": [
      "(259931, 5)\n"
     ]
    },
    {
     "data": {
      "text/html": [
       "<div>\n",
       "<style>\n",
       "    .dataframe thead tr:only-child th {\n",
       "        text-align: right;\n",
       "    }\n",
       "\n",
       "    .dataframe thead th {\n",
       "        text-align: left;\n",
       "    }\n",
       "\n",
       "    .dataframe tbody tr th {\n",
       "        vertical-align: top;\n",
       "    }\n",
       "</style>\n",
       "<table border=\"1\" class=\"dataframe\">\n",
       "  <thead>\n",
       "    <tr style=\"text-align: right;\">\n",
       "      <th></th>\n",
       "      <th>AX</th>\n",
       "      <th>AY</th>\n",
       "      <th>AZ</th>\n",
       "      <th>mAcc</th>\n",
       "      <th>activity</th>\n",
       "    </tr>\n",
       "  </thead>\n",
       "  <tbody>\n",
       "    <tr>\n",
       "      <th>0</th>\n",
       "      <td>0.175940</td>\n",
       "      <td>-0.522570</td>\n",
       "      <td>0.354998</td>\n",
       "      <td>1.619037</td>\n",
       "      <td>cycle</td>\n",
       "    </tr>\n",
       "    <tr>\n",
       "      <th>1</th>\n",
       "      <td>0.191969</td>\n",
       "      <td>-0.515295</td>\n",
       "      <td>0.351364</td>\n",
       "      <td>2.493073</td>\n",
       "      <td>cycle</td>\n",
       "    </tr>\n",
       "    <tr>\n",
       "      <th>2</th>\n",
       "      <td>0.206795</td>\n",
       "      <td>-0.508166</td>\n",
       "      <td>0.344367</td>\n",
       "      <td>4.058638</td>\n",
       "      <td>cycle</td>\n",
       "    </tr>\n",
       "    <tr>\n",
       "      <th>3</th>\n",
       "      <td>0.219454</td>\n",
       "      <td>-0.501439</td>\n",
       "      <td>0.334426</td>\n",
       "      <td>2.556160</td>\n",
       "      <td>cycle</td>\n",
       "    </tr>\n",
       "    <tr>\n",
       "      <th>4</th>\n",
       "      <td>0.229036</td>\n",
       "      <td>-0.495348</td>\n",
       "      <td>0.322067</td>\n",
       "      <td>0.941820</td>\n",
       "      <td>cycle</td>\n",
       "    </tr>\n",
       "  </tbody>\n",
       "</table>\n",
       "</div>"
      ],
      "text/plain": [
       "         AX        AY        AZ      mAcc activity\n",
       "0  0.175940 -0.522570  0.354998  1.619037    cycle\n",
       "1  0.191969 -0.515295  0.351364  2.493073    cycle\n",
       "2  0.206795 -0.508166  0.344367  4.058638    cycle\n",
       "3  0.219454 -0.501439  0.334426  2.556160    cycle\n",
       "4  0.229036 -0.495348  0.322067  0.941820    cycle"
      ]
     },
     "execution_count": 14,
     "metadata": {},
     "output_type": "execute_result"
    }
   ],
   "source": [
    "path_acc = os.getcwd() + '/data/Cycling/*/*AccelerometerLinear.csv'  \n",
    "path_gyro= os.getcwd() + '/data/Cycling/*/*Gyroscope.csv' \n",
    "acc_files = glob.glob(path_acc)\n",
    "gyro_files= glob.glob(path_gyro)\n",
    "cycle_df= read_files(acc_files[0], gyro_files[0], 'cycle')\n",
    "n = len(cycle_df)\n",
    "cycle_df = cycle_df[1350:n-1500]\n",
    "for acc_file, gyro_file in zip(acc_files, gyro_files) :\n",
    "    df_this = read_files(acc_file, gyro_file, 'car')\n",
    "    n = len(df_this)\n",
    "    df_this = df_this[1350 : n-1500]\n",
    "    cycle_df = pd.concat([cycle_df, df_this])\n",
    "cycle_df.reset_index(drop = True, inplace = True)\n",
    "cycle_df.dropna()\n",
    "print(cycle_df.shape)\n",
    "cycle_df.head()"
   ]
  },
  {
   "cell_type": "code",
   "execution_count": 15,
   "metadata": {
    "collapsed": true
   },
   "outputs": [],
   "source": [
    "segment_size = 300"
   ]
  },
  {
   "cell_type": "code",
   "execution_count": 16,
   "metadata": {},
   "outputs": [
    {
     "data": {
      "text/plain": [
       "(4836, 300, 8)"
      ]
     },
     "execution_count": 16,
     "metadata": {},
     "output_type": "execute_result"
    }
   ],
   "source": [
    "#data segmentation\n",
    "walk_segments, walk_labels = segmentation(walk_df, segment_size)\n",
    "walk_segments = np.transpose(walk_segments, (0, 2, 1))\n",
    "np.array(walk_segments).shape"
   ]
  },
  {
   "cell_type": "code",
   "execution_count": 17,
   "metadata": {},
   "outputs": [
    {
     "data": {
      "text/plain": [
       "array([ 0.06046419, -5.8810642 ,  0.77674709,  8.24506722, -2.29167206,\n",
       "       -3.22402539, -0.04186224, -7.94960288])"
      ]
     },
     "execution_count": 17,
     "metadata": {},
     "output_type": "execute_result"
    }
   ],
   "source": [
    "walk_segments[0][0]"
   ]
  },
  {
   "cell_type": "code",
   "execution_count": 18,
   "metadata": {},
   "outputs": [
    {
     "data": {
      "text/plain": [
       "(5956, 300, 8)"
      ]
     },
     "execution_count": 18,
     "metadata": {},
     "output_type": "execute_result"
    }
   ],
   "source": [
    "#data segmentation\n",
    "bike_segments, bike_labels = segmentation(bike_df, segment_size)\n",
    "bike_segments = np.transpose(bike_segments, (0, 2, 1))\n",
    "np.array(bike_segments).shape"
   ]
  },
  {
   "cell_type": "code",
   "execution_count": 19,
   "metadata": {},
   "outputs": [
    {
     "data": {
      "text/plain": [
       "(6531, 300, 8)"
      ]
     },
     "execution_count": 19,
     "metadata": {},
     "output_type": "execute_result"
    }
   ],
   "source": [
    "#data segmentation\n",
    "car_segments, car_labels = segmentation(car_df, segment_size)\n",
    "car_segments = np.transpose(car_segments, (0, 2, 1))\n",
    "np.array(car_segments).shape"
   ]
  },
  {
   "cell_type": "code",
   "execution_count": 20,
   "metadata": {},
   "outputs": [
    {
     "data": {
      "text/plain": [
       "(5193, 300, 8)"
      ]
     },
     "execution_count": 20,
     "metadata": {},
     "output_type": "execute_result"
    }
   ],
   "source": [
    "#data segmentation\n",
    "cycle_segments, cycle_labels = segmentation(cycle_df, segment_size)\n",
    "cycle_segments = np.transpose(cycle_segments, (0, 2, 1))\n",
    "np.array(cycle_segments).shape"
   ]
  },
  {
   "cell_type": "code",
   "execution_count": 21,
   "metadata": {
    "collapsed": true
   },
   "outputs": [],
   "source": [
    "train = np.concatenate((bike_segments, car_segments, walk_segments, cycle_segments), axis=0)"
   ]
  },
  {
   "cell_type": "code",
   "execution_count": 22,
   "metadata": {},
   "outputs": [
    {
     "data": {
      "text/plain": [
       "(22516, 300, 8)"
      ]
     },
     "execution_count": 22,
     "metadata": {},
     "output_type": "execute_result"
    }
   ],
   "source": [
    "np.array(train).shape"
   ]
  },
  {
   "cell_type": "code",
   "execution_count": 23,
   "metadata": {},
   "outputs": [
    {
     "data": {
      "text/plain": [
       "(22516, 1)"
      ]
     },
     "execution_count": 23,
     "metadata": {},
     "output_type": "execute_result"
    }
   ],
   "source": [
    "label1 = [0]*len(bike_segments)\n",
    "label2 = [1]*len(car_segments)\n",
    "label3 = [2]*len(walk_segments)\n",
    "label4 = [3]*len(cycle_segments)\n",
    "label = label1 + label2 + label3 + label4\n",
    "np.array(label).shape\n",
    "label = np.array(label).reshape(len(label), 1) \n",
    "label.shape"
   ]
  },
  {
   "cell_type": "code",
   "execution_count": 24,
   "metadata": {
    "collapsed": true
   },
   "outputs": [],
   "source": [
    "RANDOM_SEED = 42\n",
    "X_train, X_test, y_train, y_test = train_test_split(train, label, test_size=0.2, random_state=RANDOM_SEED)"
   ]
  },
  {
   "cell_type": "code",
   "execution_count": 25,
   "metadata": {
    "collapsed": true
   },
   "outputs": [],
   "source": [
    "# X_train = shuffle(X_train)"
   ]
  },
  {
   "cell_type": "code",
   "execution_count": 26,
   "metadata": {},
   "outputs": [
    {
     "data": {
      "text/plain": [
       "(18012, 300, 8)"
      ]
     },
     "execution_count": 26,
     "metadata": {},
     "output_type": "execute_result"
    }
   ],
   "source": [
    "np.array(X_train).shape\n"
   ]
  },
  {
   "cell_type": "code",
   "execution_count": 27,
   "metadata": {},
   "outputs": [
    {
     "name": "stdout",
     "output_type": "stream",
     "text": [
      "Some useful info to get an insight on dataset's shape and normalisation:\n",
      "(X shape, y shape, every X's mean, every X's standard deviation)\n",
      "(4504, 300, 8) (4504, 1) -0.0579851133087 2.12389347162\n",
      "The dataset is therefore properly normalised, as expected, but not yet one-hot encoded.\n"
     ]
    }
   ],
   "source": [
    "# Input Data \n",
    "\n",
    "training_data_count = len(X_train)  # training series (with 50% overlap between each serie)\n",
    "test_data_count = len(X_test)  #  testing series\n",
    "n_steps = len(X_train[0])  # 400 timesteps per series\n",
    "n_input = len(X_train[0][0])  # 8 input pa.90618rameters per timestep\n",
    "\n",
    "\n",
    "# LSTM Neural Network's internal structure\n",
    "\n",
    "n_hidden = 32 # Hidden layer num of features\n",
    "n_classes = 4 # Total classes (should go up, or should go down)\n",
    "\n",
    "\n",
    "# Training \n",
    "\n",
    "learning_rate = 0.005\n",
    "lambda_loss_amount = 0.0015\n",
    "training_iters = training_data_count * 100  # Loop 300 times on the dataset\n",
    "batch_size = 1500\n",
    "display_iter = 30000  # To show test set accuracy during training\n",
    "\n",
    "tf.reset_default_graph()\n",
    "# Some debugging info\n",
    "\n",
    "print(\"Some useful info to get an insight on dataset's shape and normalisation:\")\n",
    "print(\"(X shape, y shape, every X's mean, every X's standard deviation)\")\n",
    "print(np.array(X_test).shape, np.array(y_test).shape, np.mean(X_test), np.std(X_test))\n",
    "print(\"The dataset is therefore properly normalised, as expected, but not yet one-hot encoded.\")"
   ]
  },
  {
   "cell_type": "code",
   "execution_count": 28,
   "metadata": {
    "collapsed": true
   },
   "outputs": [],
   "source": [
    "def LSTM_RNN(_X, _weights, _biases):\n",
    "    _X = tf.transpose(_X, [1, 0, 2])  # permute n_steps and batch_size\n",
    "    # Reshape to prepare input to hidden activation\n",
    "    _X = tf.reshape(_X, [-1, n_input]) \n",
    "    # new shape: (n_steps*batch_size, n_input)\n",
    "    \n",
    "    # ReLU activation, thanks to Yu Zhao for adding this improvement here:\n",
    "    _X = tf.nn.relu(tf.matmul(_X, _weights['hidden']) + _biases['hidden'])\n",
    "    # Split data because rnn cell needs a list of inputs for the RNN inner loop\n",
    "    _X = tf.split(_X, n_steps, 0) \n",
    "    # new shape: n_steps * (batch_size, n_hidden)\n",
    "\n",
    "    # Define two stacked LSTM cells (two recurrent layers deep) with tensorflow\n",
    "    lstm_cell_1 = tf.contrib.rnn.BasicLSTMCell(n_hidden, forget_bias=1.0, state_is_tuple=True)\n",
    "    lstm_cell_2 = tf.contrib.rnn.BasicLSTMCell(n_hidden, forget_bias=1.0, state_is_tuple=True)\n",
    "    lstm_cells = tf.contrib.rnn.MultiRNNCell([lstm_cell_1, lstm_cell_2], state_is_tuple=True)\n",
    "    # Get LSTM cell output\n",
    "#     tf.reset_default_graph()\n",
    "    outputs, states = tf.contrib.rnn.static_rnn(lstm_cells, _X, dtype=tf.float32)\n",
    "    lstm_last_output = outputs[-1]\n",
    "    \n",
    "    # Linear activation\n",
    "    return tf.matmul(lstm_last_output, _weights['out']) + _biases['out']\n",
    "\n",
    "def extract_batch_size(_train, step, batch_size): \n",
    "    \n",
    "    shape = list(_train.shape)\n",
    "    shape[0] = batch_size\n",
    "    batch_s = np.empty(shape)\n",
    "\n",
    "    for i in range(batch_size):\n",
    "        # Loop index\n",
    "        index = ((step-1)*batch_size + i) % len(_train)\n",
    "        batch_s[i] = _train[index] \n",
    "\n",
    "    return batch_s\n",
    "\n",
    "\n",
    "def one_hot(y_, n_classes=n_classes):\n",
    "    \n",
    "    y_ = y_.reshape(len(y_))\n",
    "    return np.eye(n_classes)[np.array(y_, dtype=np.int32)]  # Returns FLOATS"
   ]
  },
  {
   "cell_type": "code",
   "execution_count": 29,
   "metadata": {
    "scrolled": true
   },
   "outputs": [
    {
     "name": "stdout",
     "output_type": "stream",
     "text": [
      "WARNING:tensorflow:From <ipython-input-28-1589d6baf221>:14: BasicLSTMCell.__init__ (from tensorflow.python.ops.rnn_cell_impl) is deprecated and will be removed in a future version.\n",
      "Instructions for updating:\n",
      "This class is deprecated, please use tf.nn.rnn_cell.LSTMCell, which supports all the feature this cell currently has. Please replace the existing code with tf.nn.rnn_cell.LSTMCell(name='basic_lstm_cell').\n",
      "WARNING:tensorflow:From <ipython-input-29-40d01f8fa6ae>:21: softmax_cross_entropy_with_logits (from tensorflow.python.ops.nn_ops) is deprecated and will be removed in a future version.\n",
      "Instructions for updating:\n",
      "\n",
      "Future major versions of TensorFlow will allow gradients to flow\n",
      "into the labels input on backprop by default.\n",
      "\n",
      "See `tf.nn.softmax_cross_entropy_with_logits_v2`.\n",
      "\n"
     ]
    }
   ],
   "source": [
    "# Graph input/output\n",
    "x = tf.placeholder(tf.float32, [None, n_steps, n_input])\n",
    "y = tf.placeholder(tf.float32, [None, n_classes])\n",
    "\n",
    "# Graph weights\n",
    "weights = {\n",
    "    'hidden': tf.Variable(tf.random_normal([n_input, n_hidden])), # Hidden layer weights\n",
    "    'out': tf.Variable(tf.random_normal([n_hidden, n_classes], mean=1.0))\n",
    "}\n",
    "biases = {\n",
    "    'hidden': tf.Variable(tf.random_normal([n_hidden])),\n",
    "    'out': tf.Variable(tf.random_normal([n_classes]))\n",
    "}\n",
    "\n",
    "pred = LSTM_RNN(x, weights, biases)\n",
    "\n",
    "# Loss, optimizer and evaluation\n",
    "l2 = lambda_loss_amount * sum(\n",
    "    tf.nn.l2_loss(tf_var) for tf_var in tf.trainable_variables()\n",
    ") # L2 loss prevents this overkill neural network to overfit the data\n",
    "cost = tf.reduce_mean(tf.nn.softmax_cross_entropy_with_logits(labels=y, logits=pred)) + l2 # Softmax loss\n",
    "optimizer = tf.train.AdamOptimizer(learning_rate=learning_rate).minimize(cost) # Adam Optimizer\n",
    "\n",
    "correct_pred = tf.equal(tf.argmax(pred,1), tf.argmax(y,1))\n",
    "accuracy = tf.reduce_mean(tf.cast(correct_pred, tf.float32))"
   ]
  },
  {
   "cell_type": "code",
   "execution_count": 30,
   "metadata": {
    "scrolled": true
   },
   "outputs": [
    {
     "name": "stdout",
     "output_type": "stream",
     "text": [
      "Training iter #1500:   Batch Loss = 2.498167, Accuracy = 0.24533332884311676\n",
      "PERFORMANCE ON TEST SET: Batch Loss = 2.033205986022949, Accuracy = 0.3627886176109314\n",
      "Training iter #30000:   Batch Loss = 1.181895, Accuracy = 0.7293333411216736\n",
      "PERFORMANCE ON TEST SET: Batch Loss = 1.160038709640503, Accuracy = 0.7324600219726562\n",
      "Training iter #60000:   Batch Loss = 1.028536, Accuracy = 0.8059999942779541\n",
      "PERFORMANCE ON TEST SET: Batch Loss = 0.976138710975647, Accuracy = 0.8219360709190369\n",
      "Training iter #90000:   Batch Loss = 0.916781, Accuracy = 0.8266666531562805\n",
      "PERFORMANCE ON TEST SET: Batch Loss = 0.8894602656364441, Accuracy = 0.8463587760925293\n",
      "Training iter #120000:   Batch Loss = 0.821353, Accuracy = 0.8686666488647461\n",
      "PERFORMANCE ON TEST SET: Batch Loss = 0.8155670166015625, Accuracy = 0.87633216381073\n",
      "Training iter #150000:   Batch Loss = 0.824922, Accuracy = 0.8666666746139526\n",
      "PERFORMANCE ON TEST SET: Batch Loss = 0.8007701635360718, Accuracy = 0.8725576996803284\n",
      "Training iter #180000:   Batch Loss = 0.760229, Accuracy = 0.8833333253860474\n",
      "PERFORMANCE ON TEST SET: Batch Loss = 0.745442271232605, Accuracy = 0.884769082069397\n",
      "Training iter #210000:   Batch Loss = 0.782252, Accuracy = 0.8820000290870667\n",
      "PERFORMANCE ON TEST SET: Batch Loss = 0.8186020851135254, Accuracy = 0.865230917930603\n",
      "Training iter #240000:   Batch Loss = 0.749832, Accuracy = 0.8840000033378601\n",
      "PERFORMANCE ON TEST SET: Batch Loss = 0.7487295269966125, Accuracy = 0.875666081905365\n",
      "Training iter #270000:   Batch Loss = 0.758396, Accuracy = 0.878000020980835\n",
      "PERFORMANCE ON TEST SET: Batch Loss = 0.7100638151168823, Accuracy = 0.8940941095352173\n",
      "Training iter #300000:   Batch Loss = 0.677394, Accuracy = 0.8926666378974915\n",
      "PERFORMANCE ON TEST SET: Batch Loss = 0.6852859258651733, Accuracy = 0.8960923552513123\n",
      "Training iter #330000:   Batch Loss = 0.765983, Accuracy = 0.8693333268165588\n",
      "PERFORMANCE ON TEST SET: Batch Loss = 0.7064216136932373, Accuracy = 0.9029751420021057\n",
      "Training iter #360000:   Batch Loss = 0.703371, Accuracy = 0.8880000114440918\n",
      "PERFORMANCE ON TEST SET: Batch Loss = 0.6729547381401062, Accuracy = 0.8989787101745605\n",
      "Training iter #390000:   Batch Loss = 0.634738, Accuracy = 0.909333348274231\n",
      "PERFORMANCE ON TEST SET: Batch Loss = 0.675248920917511, Accuracy = 0.8929840326309204\n",
      "Training iter #420000:   Batch Loss = 0.631526, Accuracy = 0.9020000100135803\n",
      "PERFORMANCE ON TEST SET: Batch Loss = 0.6379051208496094, Accuracy = 0.9049733281135559\n",
      "Training iter #450000:   Batch Loss = 0.658151, Accuracy = 0.8986666798591614\n",
      "PERFORMANCE ON TEST SET: Batch Loss = 0.632659912109375, Accuracy = 0.9089698195457458\n",
      "Training iter #480000:   Batch Loss = 0.621281, Accuracy = 0.9039999842643738\n",
      "PERFORMANCE ON TEST SET: Batch Loss = 0.6525557637214661, Accuracy = 0.8923179507255554\n",
      "Training iter #510000:   Batch Loss = 0.667681, Accuracy = 0.8866666555404663\n",
      "PERFORMANCE ON TEST SET: Batch Loss = 0.6564103364944458, Accuracy = 0.8967584371566772\n",
      "Training iter #540000:   Batch Loss = 0.743782, Accuracy = 0.859333336353302\n",
      "PERFORMANCE ON TEST SET: Batch Loss = 0.6987227201461792, Accuracy = 0.8676731586456299\n",
      "Training iter #570000:   Batch Loss = 0.611793, Accuracy = 0.9100000262260437\n",
      "PERFORMANCE ON TEST SET: Batch Loss = 0.607454776763916, Accuracy = 0.9074156284332275\n",
      "Training iter #600000:   Batch Loss = 0.601972, Accuracy = 0.9020000100135803\n",
      "PERFORMANCE ON TEST SET: Batch Loss = 0.5980130434036255, Accuracy = 0.9087477922439575\n",
      "Training iter #630000:   Batch Loss = 0.583346, Accuracy = 0.909333348274231\n",
      "PERFORMANCE ON TEST SET: Batch Loss = 0.5892499685287476, Accuracy = 0.914298415184021\n",
      "Training iter #660000:   Batch Loss = 0.565347, Accuracy = 0.9133333563804626\n",
      "PERFORMANCE ON TEST SET: Batch Loss = 0.5715943574905396, Accuracy = 0.914964497089386\n",
      "Training iter #690000:   Batch Loss = 0.555789, Accuracy = 0.9126666784286499\n",
      "PERFORMANCE ON TEST SET: Batch Loss = 0.5627232193946838, Accuracy = 0.9120781421661377\n",
      "Training iter #720000:   Batch Loss = 0.532986, Accuracy = 0.9253333210945129\n",
      "PERFORMANCE ON TEST SET: Batch Loss = 0.5535739064216614, Accuracy = 0.9174067378044128\n",
      "Training iter #750000:   Batch Loss = 0.531999, Accuracy = 0.9113333225250244\n",
      "PERFORMANCE ON TEST SET: Batch Loss = 0.5686036348342896, Accuracy = 0.8989787101745605\n",
      "Training iter #780000:   Batch Loss = 0.526289, Accuracy = 0.9200000166893005\n",
      "PERFORMANCE ON TEST SET: Batch Loss = 0.5513808727264404, Accuracy = 0.915630578994751\n",
      "Training iter #810000:   Batch Loss = 0.523846, Accuracy = 0.9226666688919067\n",
      "PERFORMANCE ON TEST SET: Batch Loss = 0.6040437817573547, Accuracy = 0.8903197050094604\n",
      "Training iter #840000:   Batch Loss = 0.524487, Accuracy = 0.9160000085830688\n",
      "PERFORMANCE ON TEST SET: Batch Loss = 0.568674623966217, Accuracy = 0.8960923552513123\n",
      "Training iter #870000:   Batch Loss = 0.512593, Accuracy = 0.9200000166893005\n",
      "PERFORMANCE ON TEST SET: Batch Loss = 0.5157017707824707, Accuracy = 0.921403169631958\n",
      "Training iter #900000:   Batch Loss = 0.481906, Accuracy = 0.9273333549499512\n",
      "PERFORMANCE ON TEST SET: Batch Loss = 0.5222718715667725, Accuracy = 0.9151865243911743\n",
      "Training iter #930000:   Batch Loss = 0.531098, Accuracy = 0.9160000085830688\n",
      "PERFORMANCE ON TEST SET: Batch Loss = 0.509344220161438, Accuracy = 0.9196270108222961\n",
      "Training iter #960000:   Batch Loss = 0.504379, Accuracy = 0.9226666688919067\n",
      "PERFORMANCE ON TEST SET: Batch Loss = 0.5082089900970459, Accuracy = 0.9238454699516296\n",
      "Training iter #990000:   Batch Loss = 0.466051, Accuracy = 0.9333333373069763\n",
      "PERFORMANCE ON TEST SET: Batch Loss = 0.5051321387290955, Accuracy = 0.9225133061408997\n",
      "Training iter #1020000:   Batch Loss = 0.461623, Accuracy = 0.9300000071525574\n",
      "PERFORMANCE ON TEST SET: Batch Loss = 0.4935225248336792, Accuracy = 0.922735333442688\n",
      "Training iter #1050000:   Batch Loss = 0.473878, Accuracy = 0.9279999732971191\n",
      "PERFORMANCE ON TEST SET: Batch Loss = 0.48341691493988037, Accuracy = 0.9218472242355347\n",
      "Training iter #1080000:   Batch Loss = 0.480067, Accuracy = 0.9273333549499512\n",
      "PERFORMANCE ON TEST SET: Batch Loss = 0.48423659801483154, Accuracy = 0.9236234426498413\n",
      "Training iter #1110000:   Batch Loss = 0.436712, Accuracy = 0.9346666932106018\n",
      "PERFORMANCE ON TEST SET: Batch Loss = 0.46887853741645813, Accuracy = 0.9276198744773865\n",
      "Training iter #1140000:   Batch Loss = 0.442809, Accuracy = 0.9393333196640015\n",
      "PERFORMANCE ON TEST SET: Batch Loss = 0.4575861096382141, Accuracy = 0.9282859563827515\n",
      "Training iter #1170000:   Batch Loss = 0.439073, Accuracy = 0.9333333373069763\n",
      "PERFORMANCE ON TEST SET: Batch Loss = 0.4528484642505646, Accuracy = 0.9311723113059998\n",
      "Training iter #1200000:   Batch Loss = 0.442611, Accuracy = 0.9293333292007446\n",
      "PERFORMANCE ON TEST SET: Batch Loss = 0.4883212745189667, Accuracy = 0.9189609289169312\n",
      "Training iter #1230000:   Batch Loss = 0.436742, Accuracy = 0.9380000233650208\n",
      "PERFORMANCE ON TEST SET: Batch Loss = 0.44463875889778137, Accuracy = 0.9265097975730896\n",
      "Training iter #1260000:   Batch Loss = 0.577549, Accuracy = 0.8726666569709778\n",
      "PERFORMANCE ON TEST SET: Batch Loss = 0.5927243828773499, Accuracy = 0.8656749725341797\n",
      "Training iter #1290000:   Batch Loss = 0.463392, Accuracy = 0.9233333468437195\n",
      "PERFORMANCE ON TEST SET: Batch Loss = 0.47768744826316833, Accuracy = 0.9222912788391113\n",
      "Training iter #1320000:   Batch Loss = 0.431576, Accuracy = 0.9393333196640015\n",
      "PERFORMANCE ON TEST SET: Batch Loss = 0.4497186541557312, Accuracy = 0.9287300109863281\n",
      "Training iter #1350000:   Batch Loss = 0.409486, Accuracy = 0.9413333535194397\n",
      "PERFORMANCE ON TEST SET: Batch Loss = 0.4509478509426117, Accuracy = 0.9269537925720215\n",
      "Training iter #1380000:   Batch Loss = 0.427836, Accuracy = 0.9266666769981384\n",
      "PERFORMANCE ON TEST SET: Batch Loss = 0.46214038133621216, Accuracy = 0.9174067378044128\n",
      "Training iter #1410000:   Batch Loss = 0.403008, Accuracy = 0.9426666498184204\n",
      "PERFORMANCE ON TEST SET: Batch Loss = 0.42591363191604614, Accuracy = 0.9342806339263916\n",
      "Training iter #1440000:   Batch Loss = 0.399881, Accuracy = 0.9413333535194397\n",
      "PERFORMANCE ON TEST SET: Batch Loss = 0.44605088233947754, Accuracy = 0.9251776337623596\n",
      "Training iter #1470000:   Batch Loss = 0.379775, Accuracy = 0.9459999799728394\n"
     ]
    },
    {
     "name": "stdout",
     "output_type": "stream",
     "text": [
      "PERFORMANCE ON TEST SET: Batch Loss = 0.420449435710907, Accuracy = 0.9318383932113647\n",
      "Training iter #1500000:   Batch Loss = 0.404690, Accuracy = 0.9399999976158142\n",
      "PERFORMANCE ON TEST SET: Batch Loss = 0.41188526153564453, Accuracy = 0.9398312568664551\n",
      "Training iter #1530000:   Batch Loss = 0.380540, Accuracy = 0.9440000057220459\n",
      "PERFORMANCE ON TEST SET: Batch Loss = 0.4305673837661743, Accuracy = 0.9336145520210266\n",
      "Training iter #1560000:   Batch Loss = 0.375149, Accuracy = 0.940666675567627\n",
      "PERFORMANCE ON TEST SET: Batch Loss = 0.39314529299736023, Accuracy = 0.9404973387718201\n",
      "Training iter #1590000:   Batch Loss = 0.376956, Accuracy = 0.9440000057220459\n",
      "PERFORMANCE ON TEST SET: Batch Loss = 0.3892717957496643, Accuracy = 0.9378330111503601\n",
      "Training iter #1620000:   Batch Loss = 0.378181, Accuracy = 0.9426666498184204\n",
      "PERFORMANCE ON TEST SET: Batch Loss = 0.40095019340515137, Accuracy = 0.9373890161514282\n",
      "Training iter #1650000:   Batch Loss = 0.338518, Accuracy = 0.9566666483879089\n",
      "PERFORMANCE ON TEST SET: Batch Loss = 0.38196244835853577, Accuracy = 0.9400532841682434\n",
      "Training iter #1680000:   Batch Loss = 0.360936, Accuracy = 0.9513333439826965\n",
      "PERFORMANCE ON TEST SET: Batch Loss = 0.36907684803009033, Accuracy = 0.9433836340904236\n",
      "Training iter #1710000:   Batch Loss = 0.343488, Accuracy = 0.95333331823349\n",
      "PERFORMANCE ON TEST SET: Batch Loss = 0.38401585817337036, Accuracy = 0.9387211203575134\n",
      "Training iter #1740000:   Batch Loss = 0.321528, Accuracy = 0.9566666483879089\n",
      "PERFORMANCE ON TEST SET: Batch Loss = 0.36763447523117065, Accuracy = 0.9451598525047302\n",
      "Training iter #1770000:   Batch Loss = 0.361363, Accuracy = 0.9459999799728394\n",
      "PERFORMANCE ON TEST SET: Batch Loss = 0.38883349299430847, Accuracy = 0.9356127977371216\n",
      "Training iter #1800000:   Batch Loss = 0.401758, Accuracy = 0.9380000233650208\n",
      "PERFORMANCE ON TEST SET: Batch Loss = 0.44481590390205383, Accuracy = 0.9171847105026245\n",
      "Optimization Finished!\n",
      "FINAL RESULT: Batch Loss = 0.44481590390205383, Accuracy = 0.9171847105026245\n"
     ]
    }
   ],
   "source": [
    "# To keep track of training's performance\n",
    "test_losses = []\n",
    "test_accuracies = []\n",
    "train_losses = []\n",
    "train_accuracies = []\n",
    "\n",
    "# Launch the graph\n",
    "sess = tf.InteractiveSession(config=tf.ConfigProto(log_device_placement=True))\n",
    "init = tf.global_variables_initializer()\n",
    "sess.run(init)\n",
    "\n",
    "# Perform Training steps with \"batch_size\" amount of example data at each loop\n",
    "step = 1\n",
    "while step * batch_size <= training_iters:\n",
    "    batch_xs =         extract_batch_size(X_train, step, batch_size)\n",
    "    batch_ys = one_hot(extract_batch_size(y_train, step, batch_size))\n",
    "\n",
    "    # Fit training using batch data\n",
    "    _, loss, acc = sess.run(\n",
    "        [optimizer, cost, accuracy],\n",
    "        feed_dict={\n",
    "            x: batch_xs, \n",
    "            y: batch_ys\n",
    "        }\n",
    "    )\n",
    "    train_losses.append(loss)\n",
    "    train_accuracies.append(acc)\n",
    "    \n",
    "    # Evaluate network only at some steps for faster training: \n",
    "    if (step*batch_size % display_iter == 0) or (step == 1) or (step * batch_size > training_iters):\n",
    "        \n",
    "        # To not spam console, show training accuracy/loss in this \"if\"\n",
    "        print(\"Training iter #\" + str(step*batch_size) + \\\n",
    "              \":   Batch Loss = \" + \"{:.6f}\".format(loss) + \\\n",
    "              \", Accuracy = {}\".format(acc))\n",
    "        \n",
    "        # Evaluation on the test set (no learning made here - just evaluation for diagnosis)\n",
    "        loss, acc = sess.run(\n",
    "            [cost, accuracy], \n",
    "            feed_dict={\n",
    "                x: X_test,\n",
    "                y: one_hot(y_test)\n",
    "            }\n",
    "        )\n",
    "        test_losses.append(loss)\n",
    "        test_accuracies.append(acc)\n",
    "        print(\"PERFORMANCE ON TEST SET: \" + \\\n",
    "              \"Batch Loss = {}\".format(loss) + \\\n",
    "              \", Accuracy = {}\".format(acc))\n",
    "\n",
    "    step += 1\n",
    "\n",
    "print(\"Optimization Finished!\")\n",
    "\n",
    "# Accuracy for test data\n",
    "\n",
    "one_hot_predictions, accuracy, final_loss = sess.run(\n",
    "    [pred, accuracy, cost],\n",
    "    feed_dict={\n",
    "        x: X_test,\n",
    "        y: one_hot(y_test)\n",
    "    }\n",
    ")\n",
    "\n",
    "test_losses.append(final_loss)\n",
    "test_accuracies.append(accuracy)\n",
    "\n",
    "print(\"FINAL RESULT: \" + \\\n",
    "      \"Batch Loss = {}\".format(final_loss) + \\\n",
    "      \", Accuracy = {}\".format(accuracy))"
   ]
  },
  {
   "cell_type": "code",
   "execution_count": 31,
   "metadata": {},
   "outputs": [
    {
     "name": "stderr",
     "output_type": "stream",
     "text": [
      "/home/vicky/anaconda3/lib/python3.6/site-packages/matplotlib/font_manager.py:1316: UserWarning: findfont: Font family ['Bitstream Vera Sans'] not found. Falling back to DejaVu Sans\n",
      "  (prop.get_family(), self.defaultFamily[fontext]))\n"
     ]
    },
    {
     "data": {
      "image/png": "[encoded data removed]",
      "text/plain": [
       "<matplotlib.figure.Figure at 0x7fee8bf8e630>"
      ]
     },
     "metadata": {},
     "output_type": "display_data"
    }
   ],
   "source": [
    "# (Inline plots: )\n",
    "%matplotlib inline\n",
    "\n",
    "font = {\n",
    "    'family' : 'Bitstream Vera Sans',\n",
    "    'weight' : 'bold',\n",
    "    'size'   : 18\n",
    "}\n",
    "matplotlib.rc('font', **font)\n",
    "\n",
    "width = 12\n",
    "height = 12\n",
    "plt.figure(figsize=(width, height))\n",
    "\n",
    "indep_train_axis = np.array(range(batch_size, (len(train_losses)+1)*batch_size, batch_size))\n",
    "plt.plot(indep_train_axis, np.array(train_losses),     \"b--\", label=\"Train losses\")\n",
    "plt.plot(indep_train_axis, np.array(train_accuracies), \"g--\", label=\"Train accuracies\")\n",
    "\n",
    "indep_test_axis = np.append(\n",
    "    np.array(range(batch_size, len(test_losses)*display_iter, display_iter)[:-1]),\n",
    "    [training_iters]\n",
    ")\n",
    "plt.plot(indep_test_axis, np.array(test_losses),     \"b-\", label=\"Test losses\")\n",
    "plt.plot(indep_test_axis, np.array(test_accuracies), \"g-\", label=\"Test accuracies\")\n",
    "\n",
    "plt.title(\"Training session's progress over iterations\")\n",
    "plt.legend(loc='upper right', shadow=True)\n",
    "plt.ylabel('Training Progress (Loss or Accuracy values)')\n",
    "plt.xlabel('Training iteration')\n",
    "\n",
    "plt.show()"
   ]
  },
  {
   "cell_type": "code",
   "execution_count": 32,
   "metadata": {},
   "outputs": [
    {
     "name": "stdout",
     "output_type": "stream",
     "text": [
      "Testing Accuracy: 91.71847105026245%\n",
      "\n",
      "Precision: 92.02954792675364%\n",
      "Recall: 91.71847246891652%\n",
      "f1_score: 91.67364044896834%\n",
      "\n",
      "Confusion Matrix:\n",
      "[[1008  193    0    3]\n",
      " [  22 1269    1    0]\n",
      " [   1    3  948   21]\n",
      " [  93    7   29  906]]\n",
      "\n",
      "Confusion matrix (normalised to % of total test data):\n",
      "[[  2.23801060e+01   4.28507996e+00   0.00000000e+00   6.66074604e-02]\n",
      " [  4.88454700e-01   2.81749554e+01   2.22024880e-02   0.00000000e+00]\n",
      " [  2.22024880e-02   6.66074604e-02   2.10479565e+01   4.66252208e-01]\n",
      " [  2.06483126e+00   1.55417413e-01   6.43872082e-01   2.01154537e+01]]\n",
      "Note: training and testing data is not equally distributed amongst classes, \n",
      "so it is normal that more than a 6th of the data is correctly classifier in the last category.\n"
     ]
    },
    {
     "name": "stderr",
     "output_type": "stream",
     "text": [
      "/home/vicky/anaconda3/lib/python3.6/site-packages/matplotlib/font_manager.py:1316: UserWarning: findfont: Font family ['Bitstream Vera Sans'] not found. Falling back to DejaVu Sans\n",
      "  (prop.get_family(), self.defaultFamily[fontext]))\n"
     ]
    },
    {
     "data": {
      "image/png": "[encoded data removed]",
      "text/plain": [
       "<matplotlib.figure.Figure at 0x7fee777df4e0>"
      ]
     },
     "metadata": {},
     "output_type": "display_data"
    }
   ],
   "source": [
    "# Results\n",
    "\n",
    "predictions = one_hot_predictions.argmax(1)\n",
    "\n",
    "print(\"Testing Accuracy: {}%\".format(100*accuracy))\n",
    "\n",
    "print(\"\")\n",
    "print(\"Precision: {}%\".format(100*metrics.precision_score(y_test, predictions, average=\"weighted\")))\n",
    "print(\"Recall: {}%\".format(100*metrics.recall_score(y_test, predictions, average=\"weighted\")))\n",
    "print(\"f1_score: {}%\".format(100*metrics.f1_score(y_test, predictions, average=\"weighted\")))\n",
    "\n",
    "print(\"\")\n",
    "print(\"Confusion Matrix:\")\n",
    "confusion_matrix = metrics.confusion_matrix(y_test, predictions)\n",
    "print(confusion_matrix)\n",
    "normalised_confusion_matrix = np.array(confusion_matrix, dtype=np.float32)/np.sum(confusion_matrix)*100\n",
    "\n",
    "print(\"\")\n",
    "print(\"Confusion matrix (normalised to % of total test data):\")\n",
    "print(normalised_confusion_matrix)\n",
    "print(\"Note: training and testing data is not equally distributed amongst classes, \")\n",
    "print(\"so it is normal that more than a 6th of the data is correctly classifier in the last category.\")\n",
    "\n",
    "# Plot Results: \n",
    "width = 12\n",
    "height = 12\n",
    "plt.figure(figsize=(width, height))\n",
    "plt.imshow(\n",
    "    normalised_confusion_matrix, \n",
    "    interpolation='nearest', \n",
    "    cmap=plt.cm.rainbow\n",
    ")\n",
    "plt.title(\"Confusion matrix \\n(normalised to % of total test data)\")\n",
    "plt.colorbar()\n",
    "tick_marks = np.arange(n_classes)\n",
    "plt.xticks(tick_marks, LABELS, rotation=90)\n",
    "plt.yticks(tick_marks, LABELS)\n",
    "plt.tight_layout()\n",
    "plt.ylabel('True label')\n",
    "plt.xlabel('Predicted label')\n",
    "plt.show()"
   ]
  },
  {
   "cell_type": "code",
   "execution_count": null,
   "metadata": {
    "collapsed": true
   },
   "outputs": [],
   "source": []
  }
 ],
 "metadata": {
  "kernelspec": {
   "display_name": "Python 3",
   "language": "python",
   "name": "python3"
  },
  "language_info": {
   "codemirror_mode": {
    "name": "ipython",
    "version": 3
   },
   "file_extension": ".py",
   "mimetype": "text/x-python",
   "name": "python",
   "nbconvert_exporter": "python",
   "pygments_lexer": "ipython3",
   "version": "3.6.3"
  }
 },
 "nbformat": 4,
 "nbformat_minor": 2
}
